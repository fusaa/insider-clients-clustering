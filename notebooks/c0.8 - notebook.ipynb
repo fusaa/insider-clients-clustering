{
 "cells": [
  {
   "cell_type": "markdown",
   "id": "d652c8de",
   "metadata": {},
   "source": [
    "This project refers to an online retailer/wholesaler that sells through an e-commerce platform. The aim is to create a VIP club for important customers with access to extra perks. Customers will be selected according to the frequency and amount they buy. This program will be called “Insiders”. Using data manipulation techniques, customers will be grouped(clustered) according to similarities.\n",
    "\n",
    "\n",
    "\n",
    "\n",
    "**Solution Planning (IOT)**\n",
    "\n",
    "**Input**  \n",
    "\n",
    "    - Business Problem: Select the most valuable customers to join a loyalty program.  \n",
    "    - Dataset: E-commerce online sales.  \n",
    "**Output**  \n",
    "\n",
    "    1.List of customers who will join the Insiders program.  \n",
    "    2.Answer questions  \n",
    "    1.Who are the people eligible to join the Insiders program?  \n",
    "    2.How many customers will be part of the group?  \n",
    "    3.What are characteristics of these customers?  \n",
    "    4.What is the percentage of revenue contribution coming from the Insiders?  \n",
    "    5.What is the expected revenue of this group for the next months?  \n",
    "**Tasks**  \n",
    "\n",
    "1.Segment customers eligible to join the Insiders program. \n",
    "    •\tWhat is being eligible? What are the most valuable customers?  \n",
    "    •\tRevenue:  \n",
    "    \n",
    "    - High average ticket  \n",
    "    - High LTV (Life Time Value)  \n",
    "    - Low Recency (last time of purchase)  \n",
    "    - Big basket size  \n",
    "    - Low churn probability  \n",
    "   •   Cost:  \n",
    "    - Low return rate  \n",
    "2. How many customers will be part of the group?  \n",
    "Total number of customers vs % of Insiders Group  \n",
    "3. What are the main characteristics of these customers?  \n",
    "•\tClustering attributes  \n",
    "4. What is the percentage of revenue contribution coming from the Insiders?  \n",
    "•\tAnual total revenue  \n",
    "•\tInsiders' revenue  \n",
    "5. What is the expected revenue of this group for the next months?  \n",
    "•\tInsiders' LTV\n",
    "•\tCohort Analysis\n",
    "•\tTimeseries (ARIMA, ARMA, Prophet)\n",
    "6. What actions can the marketing team take to increase revenue?  \n",
    "•\tDiscount  \n",
    "•\tShipping  \n",
    "•\tCompany visit  \n",
    "•\tPerks  \n",
    "\n",
    "**Benchmark guide: RFM Model:**\n",
    "\n",
    "![RFM Model](./rfm.png)\n",
    "\n",
    "The goal is to extract clusters that best fit the RFM(Recency, Frequency, Monetary) model.\n",
    "\n",
    "\n"
   ]
  },
  {
   "cell_type": "markdown",
   "id": "b4c94556",
   "metadata": {},
   "source": [
    "## Imports"
   ]
  },
  {
   "cell_type": "code",
   "execution_count": 6,
   "id": "a69e8cb5",
   "metadata": {
    "ExecuteTime": {
     "end_time": "2022-11-15T17:09:10.005546Z",
     "start_time": "2022-11-15T17:09:08.715948Z"
    },
    "scrolled": true
   },
   "outputs": [],
   "source": [
    "import os\n",
    "import pandas  as pd\n",
    "import numpy   as np\n",
    "import seaborn as sns\n",
    "import umap.umap_ as umap\n",
    "import pickle\n",
    "# import s3fs\n",
    "import pvt.key\n",
    "\n",
    "from s3fs.core import S3FileSystem\n",
    "\n",
    "from matplotlib import pyplot as plt\n",
    "\n",
    "import matplotlib.patches as mpatches\n",
    "import matplotlib.pyplot as plt\n",
    "\n",
    "from IPython.display import HTML\n",
    "from IPython.core.display import Image\n",
    "\n",
    "# from pandas_profiling import ProfileReport\n",
    "\n",
    "from sklearn import cluster as c\n",
    "from sklearn import metrics as m\n",
    "from sklearn import preprocessing as pp\n",
    "from plotly import express as px\n",
    "from sklearn import decomposition as dd\n",
    "from sklearn import ensemble as en\n",
    "from sklearn import mixture as mx\n",
    "from sklearn.neighbors import NearestNeighbors\n",
    "from sklearn.manifold import TSNE\n",
    "\n",
    "from scipy.cluster import hierarchy as hc\n",
    "\n",
    "from yellowbrick.cluster import KElbowVisualizer, SilhouetteVisualizer\n",
    "\n",
    "# home_path = '~/insider-clients-clustering/'\n",
    "home_path = '../'\n"
   ]
  },
  {
   "cell_type": "markdown",
   "id": "1dbf64aa",
   "metadata": {},
   "source": [
    "## Helper functions"
   ]
  },
  {
   "cell_type": "code",
   "execution_count": 7,
   "id": "b84c4aa1",
   "metadata": {
    "ExecuteTime": {
     "end_time": "2022-11-15T17:09:12.685688Z",
     "start_time": "2022-11-15T17:09:12.646687Z"
    }
   },
   "outputs": [
    {
     "name": "stdout",
     "output_type": "stream",
     "text": [
      "Populating the interactive namespace from numpy and matplotlib\n"
     ]
    },
    {
     "data": {
      "text/html": [
       "<style>.container { width:100% !important;}</style>"
      ],
      "text/plain": [
       "<IPython.core.display.HTML object>"
      ]
     },
     "metadata": {},
     "output_type": "display_data"
    }
   ],
   "source": [
    "def jupyter_settings():\n",
    "    %matplotlib inline\n",
    "    %pylab inline\n",
    "    \n",
    "    plt.style.use('ggplot')\n",
    "    plt.rcParams['figure.figsize'] = [24,9]\n",
    "    plt.rcParams['font.size'] = 24\n",
    "    \n",
    "    display(HTML('<style>.container { width:100% !important;}</style>'))\n",
    "    pd.options.display.max_columns = None\n",
    "    pd.options.display.max_rows = None\n",
    "    pd.set_option('display.expand_frame_repr', False)\n",
    "    \n",
    "    sns.set()\n",
    "\n",
    "jupyter_settings()"
   ]
  },
  {
   "cell_type": "markdown",
   "id": "2685c52a",
   "metadata": {},
   "source": [
    "## Load dataset"
   ]
  },
  {
   "cell_type": "code",
   "execution_count": 8,
   "id": "53c39ee3",
   "metadata": {
    "ExecuteTime": {
     "end_time": "2022-11-15T17:09:30.602947Z",
     "start_time": "2022-11-15T17:09:19.709425Z"
    }
   },
   "outputs": [],
   "source": [
    "\n",
    "\n",
    "# df_raw = pd.read_csv(home_path + 'data/raw/data.csv', encoding = \"ISO-8859-1\")  # when exporting to linux machine, generates encoding error, not utf-8\n",
    "\n",
    "# AWS bucket:\n",
    "# os.environ['AWS_CONFIG_FILE'] = 'aws_config.ini'  # not needed for aws access\n",
    "# os.environ['AWS_DEFAULT_REGION'] = 'eu-central-1'  # not needed for aws access\n",
    "\n",
    "\n",
    "path_s3 = 's3://deploy-insiders-rdfaqz/insiders_db/data.csv'\n",
    "os.environ['AWS_ACCESS_KEY_ID'] = pvt.key.AWS_ACCESS_KEY_ID\n",
    "os.environ['AWS_SECRET_ACCESS_KEY'] = pvt.key.AWS_SECRET_ACCESS_KEY\n",
    "s3 = S3FileSystem(anon=False)\n",
    "df = pd.read_csv(s3.open(path_s3), encoding = \"ISO-8859-1\")\n",
    "\n",
    "\n"
   ]
  },
  {
   "cell_type": "code",
   "execution_count": null,
   "id": "e323d594",
   "metadata": {
    "ExecuteTime": {
     "end_time": "2022-11-15T16:38:09.389643Z",
     "start_time": "2022-11-15T16:38:08.587899Z"
    }
   },
   "outputs": [],
   "source": [
    "df.shape"
   ]
  },
  {
   "cell_type": "code",
   "execution_count": null,
   "id": "62553723",
   "metadata": {
    "ExecuteTime": {
     "end_time": "2022-11-15T16:38:09.401638Z",
     "start_time": "2022-11-15T16:37:58.467Z"
    }
   },
   "outputs": [],
   "source": [
    "df_raw.shape"
   ]
  },
  {
   "cell_type": "code",
   "execution_count": null,
   "id": "67fb97fa",
   "metadata": {
    "ExecuteTime": {
     "end_time": "2022-11-15T16:38:09.403638Z",
     "start_time": "2022-11-15T16:37:58.478Z"
    }
   },
   "outputs": [],
   "source": [
    "df_raw.head()"
   ]
  },
  {
   "cell_type": "code",
   "execution_count": null,
   "id": "834d7fa7",
   "metadata": {
    "ExecuteTime": {
     "end_time": "2022-11-15T16:38:09.404637Z",
     "start_time": "2022-11-15T16:37:58.489Z"
    }
   },
   "outputs": [],
   "source": [
    "df_raw.drop('Unnamed: 8',axis = 1, inplace = True)\n",
    "df_raw.head()"
   ]
  },
  {
   "cell_type": "markdown",
   "id": "ae7aeb4a",
   "metadata": {
    "heading_collapsed": true
   },
   "source": [
    "# Data Preparation"
   ]
  },
  {
   "cell_type": "code",
   "execution_count": null,
   "id": "fe4cc04f",
   "metadata": {
    "ExecuteTime": {
     "end_time": "2022-11-15T16:38:09.406637Z",
     "start_time": "2022-11-15T16:37:58.499Z"
    },
    "hidden": true
   },
   "outputs": [],
   "source": [
    "df1 = df_raw.copy()"
   ]
  },
  {
   "cell_type": "markdown",
   "id": "cdd2e745",
   "metadata": {
    "heading_collapsed": true,
    "hidden": true
   },
   "source": [
    "## Columns Rename"
   ]
  },
  {
   "cell_type": "code",
   "execution_count": null,
   "id": "b3a60bca",
   "metadata": {
    "ExecuteTime": {
     "end_time": "2022-11-15T16:38:09.408636Z",
     "start_time": "2022-11-15T16:37:58.509Z"
    },
    "hidden": true
   },
   "outputs": [],
   "source": [
    "df1.columns"
   ]
  },
  {
   "cell_type": "code",
   "execution_count": null,
   "id": "9904c22e",
   "metadata": {
    "ExecuteTime": {
     "end_time": "2022-11-15T16:38:09.409636Z",
     "start_time": "2022-11-15T16:37:58.517Z"
    },
    "hidden": true
   },
   "outputs": [],
   "source": [
    "cols_new = ['invoice_no', 'stock_code', 'description', 'quantity', 'invoice_date', 'unit_price','customer_id', 'country']\n",
    "\n",
    "df1.columns = cols_new"
   ]
  },
  {
   "cell_type": "markdown",
   "id": "e7c60041",
   "metadata": {
    "ExecuteTime": {
     "end_time": "2022-08-28T12:17:09.364577Z",
     "start_time": "2022-08-28T12:17:09.350585Z"
    },
    "heading_collapsed": true,
    "hidden": true
   },
   "source": [
    "## Data Dimensions"
   ]
  },
  {
   "cell_type": "code",
   "execution_count": null,
   "id": "7363628c",
   "metadata": {
    "ExecuteTime": {
     "end_time": "2022-11-15T16:38:09.411635Z",
     "start_time": "2022-11-15T16:37:58.529Z"
    },
    "hidden": true
   },
   "outputs": [],
   "source": [
    "print(f'Number of Rows:{df1.shape[0]}')\n",
    "print(f'Number of Columns:{df1.shape[1]}')"
   ]
  },
  {
   "cell_type": "markdown",
   "id": "54e2afba",
   "metadata": {
    "heading_collapsed": true,
    "hidden": true
   },
   "source": [
    "## Data types"
   ]
  },
  {
   "cell_type": "code",
   "execution_count": null,
   "id": "9277d62c",
   "metadata": {
    "ExecuteTime": {
     "end_time": "2022-11-15T16:38:09.412635Z",
     "start_time": "2022-11-15T16:37:58.539Z"
    },
    "hidden": true,
    "scrolled": true
   },
   "outputs": [],
   "source": [
    "df1.dtypes"
   ]
  },
  {
   "cell_type": "markdown",
   "id": "00bf0d9f",
   "metadata": {
    "hidden": true
   },
   "source": [
    "\n",
    "## Check NA"
   ]
  },
  {
   "cell_type": "code",
   "execution_count": null,
   "id": "17d80d9c",
   "metadata": {
    "ExecuteTime": {
     "end_time": "2022-11-15T16:38:09.414635Z",
     "start_time": "2022-11-15T16:37:58.550Z"
    },
    "hidden": true
   },
   "outputs": [],
   "source": [
    "df1.isna().sum()"
   ]
  },
  {
   "cell_type": "markdown",
   "id": "39ea9577",
   "metadata": {
    "ExecuteTime": {
     "end_time": "2022-09-26T09:24:30.681424Z",
     "start_time": "2022-09-26T09:24:30.667483Z"
    },
    "hidden": true
   },
   "source": [
    "**135.080 customers id.... 'missing'**"
   ]
  },
  {
   "cell_type": "markdown",
   "id": "c7b32c27",
   "metadata": {
    "heading_collapsed": true,
    "hidden": true
   },
   "source": [
    "## Filling NAs"
   ]
  },
  {
   "cell_type": "markdown",
   "id": "989e5259",
   "metadata": {
    "hidden": true
   },
   "source": [
    "Split dataset into missing vs not_missing:"
   ]
  },
  {
   "cell_type": "code",
   "execution_count": null,
   "id": "9e86857e",
   "metadata": {
    "ExecuteTime": {
     "end_time": "2022-11-15T16:38:09.415634Z",
     "start_time": "2022-11-15T16:37:58.567Z"
    },
    "hidden": true,
    "scrolled": true
   },
   "outputs": [],
   "source": [
    "df_missing = df1.loc[df1['customer_id'].isna(),:]\n",
    "df_not_missing = df1.loc[~df1['customer_id'].isna(),:]\n",
    "df_missing.head()"
   ]
  },
  {
   "cell_type": "code",
   "execution_count": null,
   "id": "ac5abc72",
   "metadata": {
    "ExecuteTime": {
     "end_time": "2022-11-15T16:38:09.417634Z",
     "start_time": "2022-11-15T16:37:58.575Z"
    },
    "hidden": true
   },
   "outputs": [],
   "source": [
    "df_not_missing.shape"
   ]
  },
  {
   "cell_type": "markdown",
   "id": "3b447ab0",
   "metadata": {
    "hidden": true
   },
   "source": [
    "Dataset has 135.080 records where customer ID not present:"
   ]
  },
  {
   "cell_type": "code",
   "execution_count": null,
   "id": "967546cc",
   "metadata": {
    "ExecuteTime": {
     "end_time": "2022-11-15T16:38:09.418634Z",
     "start_time": "2022-11-15T16:37:58.589Z"
    },
    "hidden": true
   },
   "outputs": [],
   "source": [
    "df_missing.shape"
   ]
  },
  {
   "cell_type": "code",
   "execution_count": null,
   "id": "645c61b9",
   "metadata": {
    "ExecuteTime": {
     "end_time": "2022-11-15T16:38:09.420633Z",
     "start_time": "2022-11-15T16:37:58.598Z"
    },
    "hidden": true
   },
   "outputs": [],
   "source": [
    "# missing_invoice = df_missing['invoice_no'].drop_duplicates().tolist()\n",
    "# missing_invoice[0:10]"
   ]
  },
  {
   "cell_type": "code",
   "execution_count": null,
   "id": "5f31240d",
   "metadata": {
    "ExecuteTime": {
     "end_time": "2022-11-15T16:38:09.422632Z",
     "start_time": "2022-11-15T16:37:58.607Z"
    },
    "hidden": true
   },
   "outputs": [],
   "source": [
    "# df_not_missing.loc[df_not_missing['invoice_no'].isin(missing_invoice), :].head()"
   ]
  },
  {
   "cell_type": "markdown",
   "id": "f74191f4",
   "metadata": {
    "hidden": true
   },
   "source": [
    "- All customer_id from 19000 onwards will be a missing id just for training, and we will merge it on df1:"
   ]
  },
  {
   "cell_type": "code",
   "execution_count": null,
   "id": "939e30ab",
   "metadata": {
    "ExecuteTime": {
     "end_time": "2022-11-15T16:38:09.423632Z",
     "start_time": "2022-11-15T16:37:58.618Z"
    },
    "hidden": true
   },
   "outputs": [],
   "source": [
    "# Decision:\n",
    "# each NAN customer ID will be a new single customer time purchase, just for training(?)\n",
    "\n",
    "# Create Reference:\n",
    "df_backup = pd.DataFrame(df_missing['invoice_no'].drop_duplicates())\n",
    "df_backup['customer_id'] = np.arange(19000, 19000+len(df_backup),1) # linspace or arrange\n",
    "\n",
    "# merging original w/ reference df:\n",
    "df1 = pd.merge(df1, df_backup, on = 'invoice_no', how = 'left')\n",
    "\n",
    "# need to keep columns...\n",
    "# Coalesce:\n",
    "df1['customer_id'] = df1['customer_id_x'].combine_first(df1['customer_id_y'])\n",
    "\n",
    "# drop aux columns\n",
    "df1 = df1.drop(columns=['customer_id_x','customer_id_y'])\n",
    "print(df1.isna().sum())\n",
    "df1.head()\n",
    "\n"
   ]
  },
  {
   "cell_type": "code",
   "execution_count": null,
   "id": "12667e07",
   "metadata": {
    "ExecuteTime": {
     "end_time": "2022-11-15T16:38:09.425631Z",
     "start_time": "2022-11-15T16:37:58.629Z"
    },
    "hidden": true
   },
   "outputs": [],
   "source": [
    "# Removing NAs\n",
    "df1 = df1.dropna(subset =['description','customer_id'])\n",
    "print('Removed data: {:.5f} %, thats a total of {} rows.'.format(1 - (df1.shape[0] / df_raw.shape[0]), (df_raw.shape[0] - df1.shape[0] )))"
   ]
  },
  {
   "cell_type": "code",
   "execution_count": null,
   "id": "33df1eb2",
   "metadata": {
    "ExecuteTime": {
     "end_time": "2022-11-15T16:38:09.426631Z",
     "start_time": "2022-11-15T16:37:58.641Z"
    },
    "hidden": true
   },
   "outputs": [],
   "source": [
    "df1.isna().sum()"
   ]
  },
  {
   "cell_type": "markdown",
   "id": "9827e3b0",
   "metadata": {
    "ExecuteTime": {
     "end_time": "2022-08-28T12:18:33.311251Z",
     "start_time": "2022-08-28T12:18:33.306254Z"
    },
    "heading_collapsed": true,
    "hidden": true
   },
   "source": [
    "## Change dtypes"
   ]
  },
  {
   "cell_type": "code",
   "execution_count": null,
   "id": "7d30510b",
   "metadata": {
    "ExecuteTime": {
     "end_time": "2022-11-15T16:38:09.428630Z",
     "start_time": "2022-11-15T16:37:58.653Z"
    },
    "hidden": true,
    "scrolled": true
   },
   "outputs": [],
   "source": [
    "df1.dtypes"
   ]
  },
  {
   "cell_type": "code",
   "execution_count": null,
   "id": "3343fd31",
   "metadata": {
    "ExecuteTime": {
     "end_time": "2022-11-15T16:38:09.429629Z",
     "start_time": "2022-11-15T16:37:58.664Z"
    },
    "hidden": true
   },
   "outputs": [],
   "source": [
    "df1['customer_id'] = df1['customer_id'].astype(int)"
   ]
  },
  {
   "cell_type": "code",
   "execution_count": null,
   "id": "67036027",
   "metadata": {
    "ExecuteTime": {
     "end_time": "2022-11-15T16:38:09.431629Z",
     "start_time": "2022-11-15T16:37:58.672Z"
    },
    "hidden": true
   },
   "outputs": [],
   "source": [
    "df1['invoice_date'] = pd.to_datetime(df1['invoice_date'], format='%d-%b-%y' )\n",
    "df1.head()"
   ]
  },
  {
   "cell_type": "code",
   "execution_count": null,
   "id": "99c86e13",
   "metadata": {
    "ExecuteTime": {
     "end_time": "2022-11-15T16:38:09.432629Z",
     "start_time": "2022-11-15T16:37:58.681Z"
    },
    "hidden": true
   },
   "outputs": [],
   "source": [
    "df1.dtypes"
   ]
  },
  {
   "cell_type": "markdown",
   "id": "853f9f52",
   "metadata": {
    "heading_collapsed": true,
    "hidden": true
   },
   "source": [
    "## Descriptive Statistics"
   ]
  },
  {
   "cell_type": "code",
   "execution_count": null,
   "id": "7f8e4c4c",
   "metadata": {
    "ExecuteTime": {
     "end_time": "2022-11-15T16:38:09.434628Z",
     "start_time": "2022-11-15T16:37:58.692Z"
    },
    "hidden": true
   },
   "outputs": [],
   "source": [
    "# doing the model first, then come back - 'clustering not an end'."
   ]
  },
  {
   "cell_type": "markdown",
   "id": "3a0523bb",
   "metadata": {
    "hidden": true
   },
   "source": [
    "Splitting dataset into numerical/categorical:"
   ]
  },
  {
   "cell_type": "code",
   "execution_count": null,
   "id": "f50a1f79",
   "metadata": {
    "ExecuteTime": {
     "end_time": "2022-11-15T16:38:09.435627Z",
     "start_time": "2022-11-15T16:37:58.704Z"
    },
    "hidden": true
   },
   "outputs": [],
   "source": [
    "num_attributes = df1.select_dtypes(include =['int64','float64', 'int32'])\n",
    "cat_attributes = df1.select_dtypes(exclude =['int64','float64', 'int32'])"
   ]
  },
  {
   "cell_type": "markdown",
   "id": "5f2c7a1c",
   "metadata": {
    "ExecuteTime": {
     "end_time": "2022-09-07T06:34:22.575441Z",
     "start_time": "2022-09-07T06:34:22.567445Z"
    },
    "heading_collapsed": true,
    "hidden": true
   },
   "source": [
    "### Numerical Attributes"
   ]
  },
  {
   "cell_type": "code",
   "execution_count": null,
   "id": "d8ee2106",
   "metadata": {
    "ExecuteTime": {
     "end_time": "2022-11-15T16:38:09.437627Z",
     "start_time": "2022-11-15T16:37:58.714Z"
    },
    "hidden": true,
    "scrolled": true
   },
   "outputs": [],
   "source": [
    "# central tendency: mean, median\n",
    "ct1 = pd.DataFrame(num_attributes.apply(np.mean)).T\n",
    "ct2 = pd.DataFrame(num_attributes.apply(np.median)).T\n",
    "# Dispersion - std dev, min, max, range, skew, kurtosis\n",
    "d1 = pd.DataFrame(num_attributes.apply(np.std)).T\n",
    "d2 = pd.DataFrame(num_attributes.apply(np.min)).T\n",
    "d3 = pd.DataFrame(num_attributes.apply(np.max)).T\n",
    "d4 = pd.DataFrame(num_attributes.apply(lambda x: x.max() - x.min() )).T\n",
    "d5 = pd.DataFrame(num_attributes.apply(lambda x: x.skew() )).T\n",
    "d6 = pd.DataFrame(num_attributes.apply(lambda x: x.kurtosis() )).T\n",
    "\n",
    "merged = pd.concat([ct1,ct2,d1,d2,d3,d4,d5,d6])\n",
    "merged['index'] = ['Mean','Median', 'Std', 'Min','Max','Range','Skew','Kurtosis']\n",
    "merged.set_index('index', inplace = True)\n",
    "merged.T\n"
   ]
  },
  {
   "cell_type": "markdown",
   "id": "4fbe0d7c",
   "metadata": {
    "hidden": true
   },
   "source": [
    "1. Min for quantity is negative - returns?.\n",
    "2. Unity Price 0.0 ? free item?\n"
   ]
  },
  {
   "cell_type": "markdown",
   "id": "4285cf98",
   "metadata": {
    "ExecuteTime": {
     "end_time": "2022-09-07T06:34:36.405098Z",
     "start_time": "2022-09-07T06:34:36.387091Z"
    },
    "heading_collapsed": true,
    "hidden": true
   },
   "source": [
    "### Categorical Attributes"
   ]
  },
  {
   "cell_type": "code",
   "execution_count": null,
   "id": "2d73df6f",
   "metadata": {
    "ExecuteTime": {
     "end_time": "2022-11-15T16:38:09.439627Z",
     "start_time": "2022-11-15T16:37:58.728Z"
    },
    "hidden": true
   },
   "outputs": [],
   "source": [
    "#number of invoices with letters:\n",
    "number_invs_letters = len(cat_attributes.loc[cat_attributes['invoice_no'].apply(lambda x: bool(re.search( '[^0-9]+', x))), 'invoice_no'].drop_duplicates())\n",
    "print(f'Invoices with letters: {number_invs_letters}')\n",
    "\n",
    "#number of stock codes with letters:\n",
    "number_stk_letters = len(cat_attributes.loc[cat_attributes['stock_code'].apply(lambda x: bool(re.search( '[^0-9]+', x))), 'stock_code'].drop_duplicates())\n",
    "print(f'Stock Codes with letters: {number_stk_letters}')\n",
    "\n",
    "only_letters_unique_stock_code = cat_attributes.loc[cat_attributes['stock_code'].apply(lambda x: bool(re.search('^[a-zA-Z]+$', x ) ) ), 'stock_code' ].unique()\n",
    "print(f'Unique stock codes with only letters: {only_letters_unique_stock_code}')"
   ]
  },
  {
   "cell_type": "code",
   "execution_count": null,
   "id": "1cc71ba8",
   "metadata": {
    "ExecuteTime": {
     "end_time": "2022-11-15T16:38:09.440626Z",
     "start_time": "2022-11-15T16:37:58.737Z"
    },
    "hidden": true,
    "scrolled": false
   },
   "outputs": [],
   "source": [
    "cat_attributes.sample(1)"
   ]
  },
  {
   "cell_type": "code",
   "execution_count": null,
   "id": "0f672729",
   "metadata": {
    "ExecuteTime": {
     "end_time": "2022-11-15T16:38:09.442625Z",
     "start_time": "2022-11-15T16:37:58.744Z"
    },
    "hidden": true,
    "scrolled": true
   },
   "outputs": [],
   "source": [
    "# some further investigation...\n",
    "# df1.loc[df1['description'] == 'RED RETROSPOT PEG BAG'].sort_values('customer_id').reset_index()\n",
    "\n",
    "# df1.loc[df1['invoice_no'] == 'C548995']"
   ]
  },
  {
   "cell_type": "code",
   "execution_count": null,
   "id": "da92642c",
   "metadata": {
    "ExecuteTime": {
     "end_time": "2022-11-15T16:38:09.443626Z",
     "start_time": "2022-11-15T16:37:58.753Z"
    },
    "hidden": true,
    "scrolled": true
   },
   "outputs": [],
   "source": [
    "df1.sample(1)"
   ]
  },
  {
   "cell_type": "markdown",
   "id": "8a30e5d1",
   "metadata": {
    "heading_collapsed": true,
    "hidden": true
   },
   "source": [
    "#### Invoice No"
   ]
  },
  {
   "cell_type": "markdown",
   "id": "bdde4ac0",
   "metadata": {
    "hidden": true
   },
   "source": [
    "- Invoice number has letter numbers, and are mostly negative quantities."
   ]
  },
  {
   "cell_type": "code",
   "execution_count": null,
   "id": "bcfe327b",
   "metadata": {
    "ExecuteTime": {
     "end_time": "2022-11-15T16:38:09.445624Z",
     "start_time": "2022-11-15T16:37:58.767Z"
    },
    "hidden": true
   },
   "outputs": [],
   "source": [
    "# There are invoices with letters\n",
    "df_invoices_w_letters = df1.loc[df1['invoice_no'].apply(lambda x: bool (re.search('[^0-9]+', x))),:]\n",
    "\n",
    "print('Total number of invoices w/ letters')\n",
    "print(len(df_invoices_w_letters))\n",
    "\n",
    "# Are all invoices that start with letters 'negative quantity' one?\n",
    "print('Total number of invoices w/ letters with negative quantity')\n",
    "print(len(df_invoices_w_letters[df_invoices_w_letters['quantity'] <0]))\n",
    "\n",
    "# Yes, all invoices starting with letters are negative quantity except three / 'Adjust bad debt'.\n",
    "print(df_invoices_w_letters[df_invoices_w_letters['quantity'] >= 0].head())\n",
    "print(f\"\\nTotal # of non negative invoices: {df_invoices_w_letters[df_invoices_w_letters['quantity'] >= 0].invoice_no.count()} \")"
   ]
  },
  {
   "cell_type": "markdown",
   "id": "564de69f",
   "metadata": {
    "ExecuteTime": {
     "end_time": "2022-09-08T13:32:53.247562Z",
     "start_time": "2022-09-08T13:32:53.237567Z"
    },
    "heading_collapsed": true,
    "hidden": true
   },
   "source": [
    "#### Stock Code"
   ]
  },
  {
   "cell_type": "code",
   "execution_count": null,
   "id": "ed31ff22",
   "metadata": {
    "ExecuteTime": {
     "end_time": "2022-11-15T16:38:09.447624Z",
     "start_time": "2022-11-15T16:37:58.779Z"
    },
    "hidden": true
   },
   "outputs": [],
   "source": [
    "df1.loc[df1['stock_code'].apply(lambda x: bool(re.search('^[a-zA-Z]+$', x))),'stock_code'].unique()   "
   ]
  },
  {
   "cell_type": "markdown",
   "id": "3e79059c",
   "metadata": {
    "hidden": true
   },
   "source": [
    "**To do:**  \n",
    "Remove Stock_codes in ['POST', 'D', 'M', 'PADS', 'DOT', 'CRUK']  \n",
    "New stock_Codes after joining missing data ['POST', 'D', 'DOT', 'M', 'S', 'AMAZONFEE', 'm',   'DCGSSBOY',        'DCGSSGIRL', 'PADS', 'B', 'CRUK']\n",
    " "
   ]
  },
  {
   "cell_type": "markdown",
   "id": "0148eb28",
   "metadata": {
    "ExecuteTime": {
     "end_time": "2022-09-08T13:38:43.171226Z",
     "start_time": "2022-09-08T13:38:43.154219Z"
    },
    "heading_collapsed": true,
    "hidden": true
   },
   "source": [
    "#### Description"
   ]
  },
  {
   "cell_type": "code",
   "execution_count": null,
   "id": "a12265e4",
   "metadata": {
    "ExecuteTime": {
     "end_time": "2022-11-15T16:38:09.448623Z",
     "start_time": "2022-11-15T16:37:58.794Z"
    },
    "hidden": true
   },
   "outputs": [],
   "source": [
    "# Todo - delete description"
   ]
  },
  {
   "cell_type": "markdown",
   "id": "f2415870",
   "metadata": {
    "heading_collapsed": true,
    "hidden": true
   },
   "source": [
    "#### Country"
   ]
  },
  {
   "cell_type": "code",
   "execution_count": null,
   "id": "c432d70d",
   "metadata": {
    "ExecuteTime": {
     "end_time": "2022-11-15T16:38:09.450623Z",
     "start_time": "2022-11-15T16:37:58.806Z"
    },
    "hidden": true
   },
   "outputs": [],
   "source": [
    "df1['country'].unique()"
   ]
  },
  {
   "cell_type": "markdown",
   "id": "10b1f6f4",
   "metadata": {
    "hidden": true
   },
   "source": [
    "- UK main market:"
   ]
  },
  {
   "cell_type": "code",
   "execution_count": null,
   "id": "8ce0ac49",
   "metadata": {
    "ExecuteTime": {
     "end_time": "2022-11-15T16:38:09.451623Z",
     "start_time": "2022-11-15T16:37:58.819Z"
    },
    "hidden": true
   },
   "outputs": [],
   "source": [
    "df1['country'].value_counts(normalize = True).head(6)"
   ]
  },
  {
   "cell_type": "code",
   "execution_count": null,
   "id": "5c147270",
   "metadata": {
    "ExecuteTime": {
     "end_time": "2022-11-15T16:38:09.453622Z",
     "start_time": "2022-11-15T16:37:58.829Z"
    },
    "hidden": true
   },
   "outputs": [],
   "source": [
    "# df1[['customer_id', 'country']].drop_duplicates().groupby('country').count().reset_index().sort_values('customer_id', ascending = False).head()"
   ]
  },
  {
   "cell_type": "markdown",
   "id": "75f04ca8",
   "metadata": {},
   "source": [
    "# Data Filtering"
   ]
  },
  {
   "cell_type": "code",
   "execution_count": null,
   "id": "e59fd162",
   "metadata": {
    "ExecuteTime": {
     "end_time": "2022-11-15T16:38:09.455622Z",
     "start_time": "2022-11-15T16:37:58.842Z"
    }
   },
   "outputs": [],
   "source": [
    "df2 = df1.copy()"
   ]
  },
  {
   "cell_type": "markdown",
   "id": "bc068fa9",
   "metadata": {
    "ExecuteTime": {
     "end_time": "2022-09-08T11:04:56.784249Z",
     "start_time": "2022-09-08T11:04:56.771242Z"
    }
   },
   "source": [
    "Makes sense to filter some data: negative quantity values, assuming returns in the table."
   ]
  },
  {
   "cell_type": "markdown",
   "id": "084bb8e9",
   "metadata": {},
   "source": [
    "2 ways - \n",
    "- exclude what has been returned, like customer had never bought the product?\n",
    "- other way to create new feature based on returns. - Return feature would be beneficial to score clients?\n",
    "(returns consumes resources)\n",
    "\n",
    "Creating feature for returns."
   ]
  },
  {
   "cell_type": "code",
   "execution_count": null,
   "id": "4ab8b3fc",
   "metadata": {
    "ExecuteTime": {
     "end_time": "2022-11-15T16:38:09.456621Z",
     "start_time": "2022-11-15T16:37:58.857Z"
    }
   },
   "outputs": [],
   "source": [
    "df2.loc[df2['unit_price'] > 0.0, ['customer_id', 'description', 'unit_price']].sort_values('unit_price', ascending = True).head(10)\n",
    "# df1[['customer_id', 'description', 'unit_price']].sort_values('unit_price', ascending = True).head(10))\n"
   ]
  },
  {
   "cell_type": "code",
   "execution_count": null,
   "id": "6afc34b3",
   "metadata": {
    "ExecuteTime": {
     "end_time": "2022-11-15T16:38:09.458621Z",
     "start_time": "2022-11-15T16:37:58.869Z"
    }
   },
   "outputs": [],
   "source": [
    "df2.head()"
   ]
  },
  {
   "cell_type": "markdown",
   "id": "3ddb1de1",
   "metadata": {
    "ExecuteTime": {
     "end_time": "2022-11-10T09:54:42.757244Z",
     "start_time": "2022-11-10T09:54:42.737253Z"
    }
   },
   "source": [
    "- Filetering out: \n",
    "    - products with unit_price less than 4p(?), \n",
    "    - letters on stock_code, non-specific countries, \n",
    "    - and dropping \n",
    "    \n",
    "- Auxiliary dataframes df2_returns and df2_purchase."
   ]
  },
  {
   "cell_type": "code",
   "execution_count": null,
   "id": "6715ca04",
   "metadata": {
    "ExecuteTime": {
     "end_time": "2022-11-15T16:38:09.460620Z",
     "start_time": "2022-11-15T16:37:58.881Z"
    }
   },
   "outputs": [],
   "source": [
    "# Numerical Attributes\n",
    "# unit price > 0\n",
    "df2 = df2.loc[df2['unit_price'] >= 0.04, :]  # there are products that price is 0.001\n",
    "\n",
    "# Categorical Attributes\n",
    "# stock code != [POST, D, M, DOT, CRUK]  \n",
    "# New ones ['POST', 'D', 'DOT', 'M', 'S', 'AMAZONFEE', 'm', 'DCGSSBOY', 'DCGSSGIRL', 'PADS', 'B', 'CRUK']\n",
    "#df2 = df2[~df2['stock_code'].isin(['POST' 'D' 'M' 'PADS' 'DOT' 'CRUK'])]  # removing these products...\n",
    "df2 = df2[~df2['stock_code'].isin(['POST', 'D', 'DOT', 'M', 'S', 'AMAZONFEE', 'm', 'DCGSSBOY', 'DCGSSGIRL', 'PADS', 'B', 'CRUK'])]  # removing these products...\n",
    "\n",
    "# Countries\n",
    "# remove not specific like EU, and unspecified.\n",
    "df2 = df2[~df2['country'].isin(['European Community', 'Unspecified'])]\n",
    "\n",
    "# Description - drop it\n",
    "df2 = df2.drop(columns = 'description', axis = 1)\n",
    "\n",
    "# quantity - assuming negative numbers are returns.\n",
    "df2_returns = df2.loc[df2['quantity'] < 0,:]\n",
    "df2_purchase = df2.loc[df2['quantity'] > 0,:]\n",
    "\n",
    "\n",
    "# df2.loc[df2['quantity'] < 0,:].sort_values(['customer_id','description']).head()"
   ]
  },
  {
   "cell_type": "markdown",
   "id": "02be4505",
   "metadata": {
    "ExecuteTime": {
     "end_time": "2022-08-28T11:57:05.264344Z",
     "start_time": "2022-08-28T11:57:05.256350Z"
    }
   },
   "source": [
    "# Feature Engineering"
   ]
  },
  {
   "cell_type": "code",
   "execution_count": null,
   "id": "4673794c",
   "metadata": {
    "ExecuteTime": {
     "end_time": "2022-11-15T16:38:09.462620Z",
     "start_time": "2022-11-15T16:37:58.893Z"
    }
   },
   "outputs": [],
   "source": [
    "df3 = df2.copy()\n",
    "df3_purchase = df2_purchase.copy()\n",
    "df3_returns = df2_returns.copy()"
   ]
  },
  {
   "cell_type": "markdown",
   "id": "f1416585",
   "metadata": {},
   "source": [
    "## Feature Creation"
   ]
  },
  {
   "cell_type": "markdown",
   "id": "e974bd88",
   "metadata": {
    "ExecuteTime": {
     "end_time": "2022-11-10T09:16:25.605739Z",
     "start_time": "2022-11-10T09:16:25.595757Z"
    }
   },
   "source": [
    "Here df3_ref will be the table compiled with features grouped by customers ID."
   ]
  },
  {
   "cell_type": "code",
   "execution_count": null,
   "id": "344ee0a5",
   "metadata": {
    "ExecuteTime": {
     "end_time": "2022-11-15T16:38:09.464619Z",
     "start_time": "2022-11-15T16:37:58.911Z"
    }
   },
   "outputs": [],
   "source": [
    "# data referencing\n",
    "df3_ref = df3.drop(['invoice_no','stock_code',\n",
    "                   'quantity','invoice_date','unit_price',\n",
    "                   'country'], axis = 1).drop_duplicates(ignore_index = True)\n",
    "df3_ref.head()\n",
    "\n",
    "# Gross Revenue ( qtt * price)\n",
    "# Recency - latest purchase data for customer\n",
    "# Frequency - how many products client bought in one year period"
   ]
  },
  {
   "cell_type": "markdown",
   "id": "eeb8fb73",
   "metadata": {},
   "source": [
    "### Gross Revenue"
   ]
  },
  {
   "cell_type": "markdown",
   "id": "4397ab2c",
   "metadata": {},
   "source": [
    "Calculating the total ammount of revenue a customer has generated"
   ]
  },
  {
   "cell_type": "code",
   "execution_count": null,
   "id": "87131476",
   "metadata": {
    "ExecuteTime": {
     "end_time": "2022-11-15T16:38:09.468617Z",
     "start_time": "2022-11-15T16:37:58.927Z"
    },
    "scrolled": true
   },
   "outputs": [],
   "source": [
    "# Gross Revenue:\n",
    "df3_purchase.loc[:,'gross_revenue'] = df3_purchase.loc[:,'quantity'] * df2_purchase.loc[:,'unit_price']\n",
    "\n",
    "# # Monetary:\n",
    "df_monetary = df3_purchase.loc[:,['customer_id', 'gross_revenue']].groupby('customer_id').sum().reset_index()\n",
    "df3_ref = pd.merge(df3_ref, df_monetary, how = 'left', on = 'customer_id')\n",
    "df3_ref.isna().sum()"
   ]
  },
  {
   "cell_type": "markdown",
   "id": "b0c5e0ae",
   "metadata": {
    "ExecuteTime": {
     "end_time": "2022-09-09T09:59:04.953011Z",
     "start_time": "2022-09-09T09:59:04.935020Z"
    }
   },
   "source": [
    "### Recency - Days since last purchase"
   ]
  },
  {
   "cell_type": "code",
   "execution_count": null,
   "id": "89b7ec8e",
   "metadata": {
    "ExecuteTime": {
     "end_time": "2022-11-15T16:38:09.470616Z",
     "start_time": "2022-11-15T16:37:58.942Z"
    }
   },
   "outputs": [],
   "source": [
    "# Recency - how long has it been since the last puchase.\n",
    "df3_recency = df3_purchase[['customer_id', 'invoice_date']].groupby('customer_id').max().reset_index()\n",
    "df3_recency['recency_days'] = (df3_purchase['invoice_date'].max() - df3_recency['invoice_date']).dt.days  # using dt, to get int type\n",
    "df3_recency = df3_recency[['customer_id','recency_days']].copy()\n",
    "\n",
    "print('*******Nas before merge:')\n",
    "print(df3_recency.isna().sum())\n",
    "\n",
    "df3_ref = pd.merge(df3_ref, df3_recency, how = 'left', on = 'customer_id')\n",
    "\n",
    "print('*******Nas After merge:')\n",
    "print(df3_ref.isna().sum())\n",
    "# 33 clients never bought anything, onlyu returns... likely data doesn´t comprehend these purchases."
   ]
  },
  {
   "cell_type": "code",
   "execution_count": null,
   "id": "32663777",
   "metadata": {},
   "outputs": [],
   "source": []
  },
  {
   "cell_type": "markdown",
   "id": "cf41db2d",
   "metadata": {
    "ExecuteTime": {
     "end_time": "2022-09-09T10:00:19.899680Z",
     "start_time": "2022-09-09T10:00:19.882672Z"
    }
   },
   "source": [
    "### Ammount purchased"
   ]
  },
  {
   "cell_type": "code",
   "execution_count": null,
   "id": "4794a703",
   "metadata": {
    "ExecuteTime": {
     "end_time": "2022-11-15T16:38:09.472621Z",
     "start_time": "2022-11-15T16:37:58.959Z"
    }
   },
   "outputs": [],
   "source": [
    "# This it just the number different (variety of) products bought\n",
    "df3_ammt_purchased = df3_purchase[['customer_id', 'invoice_no']].drop_duplicates().groupby('customer_id').count().reset_index().rename(columns ={'invoice_no':'invoice_ammt'})\n",
    "df3_ref = pd.merge(df3_ref, df3_ammt_purchased, how = 'left', on = 'customer_id')\n",
    "df3_ref.isna().sum()\n",
    "df3_ref.head()"
   ]
  },
  {
   "cell_type": "markdown",
   "id": "ce81e886",
   "metadata": {},
   "source": [
    "### Ammount products items  purchased"
   ]
  },
  {
   "cell_type": "code",
   "execution_count": null,
   "id": "a248a6e7",
   "metadata": {
    "ExecuteTime": {
     "end_time": "2022-11-15T16:38:09.474616Z",
     "start_time": "2022-11-15T16:37:58.972Z"
    }
   },
   "outputs": [],
   "source": [
    "# This it just the number of products bought\n",
    "df3_i_ammt_purchased = df3_purchase[['customer_id', 'quantity']].groupby('customer_id').sum().rename(columns = {'quantity':'item_ammt'}).reset_index()\n",
    "df3_ref = pd.merge(df3_ref, df3_i_ammt_purchased, how = 'left', on = 'customer_id')\n",
    "df3_ref.isna().sum()\n",
    "df3_ref.head()"
   ]
  },
  {
   "cell_type": "markdown",
   "id": "a2f76301",
   "metadata": {},
   "source": [
    "### Ammount different products purchased"
   ]
  },
  {
   "cell_type": "code",
   "execution_count": null,
   "id": "9023e020",
   "metadata": {
    "ExecuteTime": {
     "end_time": "2022-11-15T16:38:09.476615Z",
     "start_time": "2022-11-15T16:37:58.985Z"
    }
   },
   "outputs": [],
   "source": [
    "# This it just the number of products bought\n",
    "df3_ammt_type_of_prod_purchased = df3_purchase[['customer_id', 'stock_code']].groupby('customer_id').count().rename(columns = {'stock_code':'n_of_dif_products'}).reset_index()\n",
    "df3_ref = pd.merge(df3_ref, df3_ammt_type_of_prod_purchased, how = 'left', on = 'customer_id')\n",
    "print(df3_ref.isna().sum())\n",
    "df3_ref.head()"
   ]
  },
  {
   "cell_type": "markdown",
   "id": "d9e1d98f",
   "metadata": {},
   "source": [
    "### Average Ticket Value"
   ]
  },
  {
   "cell_type": "code",
   "execution_count": null,
   "id": "46ec7a40",
   "metadata": {
    "ExecuteTime": {
     "end_time": "2022-11-15T16:38:09.477614Z",
     "start_time": "2022-11-15T16:37:58.997Z"
    }
   },
   "outputs": [],
   "source": [
    "# Avg Ticket\n",
    "df3_avg_ticket = df3_purchase[['customer_id', 'gross_revenue']].groupby('customer_id').mean().reset_index().rename(columns={'gross_revenue':'avg_ticket'})\n",
    "df3_avg_ticket['avg_ticket'] = np.round(df3_avg_ticket['avg_ticket'],2 )\n",
    "df3_ref = pd.merge(df3_ref, df3_avg_ticket, on = 'customer_id', how = 'left')\n",
    "df3_ref.isna().sum()\n",
    "\n",
    "# df_ref.head()"
   ]
  },
  {
   "cell_type": "markdown",
   "id": "e595edc0",
   "metadata": {
    "ExecuteTime": {
     "end_time": "2022-09-09T10:02:27.978469Z",
     "start_time": "2022-09-09T10:02:27.961461Z"
    }
   },
   "source": [
    "### Average Recency Days"
   ]
  },
  {
   "cell_type": "code",
   "execution_count": null,
   "id": "46437d84",
   "metadata": {
    "ExecuteTime": {
     "end_time": "2022-11-15T16:38:09.479614Z",
     "start_time": "2022-11-15T16:37:59.008Z"
    }
   },
   "outputs": [],
   "source": [
    "# df2.loc[df2['customer_id'] == 17850,:]\n",
    "\n",
    "df3_aux = df3[['customer_id', 'invoice_date']].drop_duplicates().sort_values(['customer_id','invoice_date'], ascending =['False','False'])\n",
    "df3_aux['next_customer_id'] = df3_aux['customer_id'].shift() #next cx\n",
    "df3_aux['previous_date'] = df3_aux['invoice_date'].shift() # next  invoice dt\n",
    "\n",
    "df3_aux['avg_recency_days'] = df3_aux.apply(lambda x: (x['invoice_date'] - x['previous_date']).days if x['customer_id'] == x['next_customer_id'] else np.nan, axis = 1)\n",
    "\n",
    "df3_aux = df3_aux.drop(['invoice_date', 'next_customer_id', 'previous_date'], axis =1).dropna()\n",
    "\n",
    "#avg recency\n",
    "df3_avg_recency_days = df3_aux.groupby('customer_id').mean().reset_index()\n",
    "\n",
    "#Merging\n",
    "df3_ref = pd.merge(df3_ref, df3_avg_recency_days, on ='customer_id', how = 'left' )\n",
    "\n",
    "df3_ref.isna().sum()\n",
    "# df_aux.dtypes\n"
   ]
  },
  {
   "cell_type": "code",
   "execution_count": null,
   "id": "4c7d3e3c",
   "metadata": {
    "ExecuteTime": {
     "end_time": "2022-11-15T16:38:09.480614Z",
     "start_time": "2022-11-15T16:37:59.017Z"
    },
    "scrolled": true
   },
   "outputs": [],
   "source": [
    "df3_ref.head()"
   ]
  },
  {
   "cell_type": "markdown",
   "id": "5e35fe7a",
   "metadata": {},
   "source": [
    "### Frequency"
   ]
  },
  {
   "cell_type": "code",
   "execution_count": null,
   "id": "cb1102ff",
   "metadata": {
    "ExecuteTime": {
     "end_time": "2022-11-15T16:38:09.482613Z",
     "start_time": "2022-11-15T16:37:59.027Z"
    }
   },
   "outputs": [],
   "source": [
    "### Frequency purchase\n",
    "\n",
    "df3_max = df3[['customer_id', 'invoice_date']].drop_duplicates().groupby('customer_id').max()\n",
    "df3_min = df3[['customer_id', 'invoice_date']].drop_duplicates().groupby('customer_id').min()\n",
    "# df2_purchase = df2[['customer_id','invoice_date']].drop_duplicates().groupby('customer_id').count()\n",
    "df3_purchase.head()\n",
    "\n",
    "df3_aux = ( df2[['customer_id','invoice_no','invoice_date']].drop_duplicates()\n",
    "                                                           .groupby('customer_id')\n",
    "                                                           .agg( max_  = ('invoice_date','max'),\n",
    "                                                                 min_  = ('invoice_date','min'),\n",
    "                                                                 days_ = ('invoice_date',lambda x: ((x.max() - x.min() ).days) +1  ),\n",
    "                                                                 buy_  = ('invoice_no', 'count' ) ) ).reset_index()\n",
    "\n",
    "# frequency  # how many times a customer has bought given the specific period (number of days b/w\n",
    "# 1st purchase and last purchase) eg 30 days, has bought 2 times = 2 / 30  = 1/15 = 0.066 ) \n",
    "# then... 'customer buys 0.06 a day' -maybe it should be # of times has bought last 12mo, and \n",
    "# if 1st purchase less than that, then use tome kind of formula to compensate for new customers\n",
    "\n",
    "\n",
    "df3_aux['frequency'] = df3_aux[['buy_', 'days_']].apply(lambda x: x['buy_'] / x['days_'] if x['days_'] != 0 else 0, axis = 1 )\n",
    "\n",
    "# Merging\n",
    "df3_ref = pd.merge(df3_ref, df3_aux[['customer_id', 'frequency']], on = 'customer_id', how = 'left')\n",
    "# df_ref.head()\n",
    "df3_ref.isna().sum()\n",
    "\n",
    "# df_aux.sort_values('frequency', ascending = False).head(20)\n",
    "# df_aux[df_aux['customer_id'] == 17850].head()"
   ]
  },
  {
   "cell_type": "code",
   "execution_count": null,
   "id": "5f5015dc",
   "metadata": {
    "ExecuteTime": {
     "end_time": "2022-11-15T16:38:09.483612Z",
     "start_time": "2022-11-15T16:37:59.036Z"
    }
   },
   "outputs": [],
   "source": [
    "df3_ref.head()"
   ]
  },
  {
   "cell_type": "markdown",
   "id": "c0f93e31",
   "metadata": {},
   "source": [
    "### Number of Returns"
   ]
  },
  {
   "cell_type": "code",
   "execution_count": null,
   "id": "7551873f",
   "metadata": {
    "ExecuteTime": {
     "end_time": "2022-11-15T16:38:09.485613Z",
     "start_time": "2022-11-15T16:37:59.046Z"
    },
    "scrolled": true
   },
   "outputs": [],
   "source": [
    "df3_returns = df3_returns[['customer_id','quantity']].groupby('customer_id').sum().reset_index().rename(columns={'quantity':'qtt_returns'})\n",
    "df3_returns['qtt_returns'] = df3_returns['qtt_returns'] * -1\n",
    "\n",
    "df3_ref = pd.merge(df3_ref, df3_returns, how = 'left', on ='customer_id')\n",
    "df3_ref.loc[df3_ref['qtt_returns'].isna(), 'qtt_returns'] = 0\n",
    "df3_ref.isna().sum()"
   ]
  },
  {
   "cell_type": "markdown",
   "id": "0b8b7c35",
   "metadata": {},
   "source": [
    "### Basket Size - Number of product items per basket  *sum"
   ]
  },
  {
   "cell_type": "code",
   "execution_count": null,
   "id": "3311a9f4",
   "metadata": {
    "ExecuteTime": {
     "end_time": "2022-11-15T16:38:09.486611Z",
     "start_time": "2022-11-15T16:37:59.057Z"
    },
    "code_folding": []
   },
   "outputs": [],
   "source": [
    "# invoice (basket) > products > number of total items for all products\n",
    "# df2_purchase.head()"
   ]
  },
  {
   "cell_type": "code",
   "execution_count": null,
   "id": "59d6bdc6",
   "metadata": {
    "ExecuteTime": {
     "end_time": "2022-11-15T16:38:09.487611Z",
     "start_time": "2022-11-15T16:37:59.065Z"
    },
    "scrolled": true
   },
   "outputs": [],
   "source": [
    "# The total Quantity of products items divided by the number of times a customer has transactioned. \n",
    "\n",
    "df3_aux =(df3_purchase.loc[:,['customer_id', 'invoice_no', 'quantity']].groupby('customer_id')\n",
    "                                                                      .agg(n_purchase = ('invoice_no', 'nunique'), \n",
    "                                                                           n_products = ('quantity','sum'))\n",
    "                                                                      .reset_index() )\n",
    "\n",
    "\n",
    "df3_aux['avg_basket_size'] = df3_aux['n_products'] / df3_aux['n_purchase']\n",
    "\n",
    "df3_ref = pd.merge(df3_ref, df3_aux[['customer_id','avg_basket_size']], how = 'left', on = 'customer_id')\n",
    "df3_ref.isna().sum()\n",
    "# missing NA´s the ones in 'returns'"
   ]
  },
  {
   "cell_type": "markdown",
   "id": "4e584fb0",
   "metadata": {},
   "source": [
    "### Basket, distinctive items per purchase. *count"
   ]
  },
  {
   "cell_type": "code",
   "execution_count": null,
   "id": "afeb597e",
   "metadata": {
    "ExecuteTime": {
     "end_time": "2022-11-15T16:38:09.489611Z",
     "start_time": "2022-11-15T16:37:59.077Z"
    }
   },
   "outputs": [],
   "source": [
    "# Transaction > product > item ammount\n",
    "# The total number of different products divided by the number of times a customer transactioned.\n",
    "\n",
    "df3_aux = (df3_purchase.loc[:,['customer_id', 'invoice_no', 'quantity']].groupby('customer_id')\n",
    "                                                                       .agg(n_purchase = ('invoice_no', 'nunique'), \n",
    "                                                                            n_products = ('quantity','nunique'))\n",
    "                                                                       .reset_index() )\n",
    "\n",
    "df3_aux['avg_unique_basket_size'] = df3_aux['n_products'] / df3_aux['n_purchase']\n",
    "\n",
    "df3_ref = pd.merge(df3_ref, df3_aux[['customer_id','avg_unique_basket_size']], how = 'left', on = 'customer_id')\n",
    "df3_ref.isna().sum()"
   ]
  },
  {
   "cell_type": "markdown",
   "id": "69c75392",
   "metadata": {},
   "source": [
    "Check if returns will remain in df_ref:"
   ]
  },
  {
   "cell_type": "code",
   "execution_count": null,
   "id": "7a51cece",
   "metadata": {
    "ExecuteTime": {
     "end_time": "2022-11-15T16:38:09.491610Z",
     "start_time": "2022-11-15T16:37:59.092Z"
    }
   },
   "outputs": [],
   "source": [
    "df3_ref.head()"
   ]
  },
  {
   "cell_type": "code",
   "execution_count": null,
   "id": "74997f6e",
   "metadata": {
    "ExecuteTime": {
     "end_time": "2022-11-15T16:38:09.492611Z",
     "start_time": "2022-11-15T16:37:59.100Z"
    }
   },
   "outputs": [],
   "source": [
    "df3_ref.shape"
   ]
  },
  {
   "cell_type": "markdown",
   "id": "2b5e4521",
   "metadata": {
    "ExecuteTime": {
     "end_time": "2022-08-28T11:57:51.040971Z",
     "start_time": "2022-08-28T11:57:51.026974Z"
    }
   },
   "source": [
    "# EDA"
   ]
  },
  {
   "cell_type": "code",
   "execution_count": null,
   "id": "b0e2758e",
   "metadata": {
    "ExecuteTime": {
     "end_time": "2022-11-15T16:38:09.494609Z",
     "start_time": "2022-11-15T16:37:59.110Z"
    },
    "scrolled": true
   },
   "outputs": [],
   "source": [
    "df4 = df3_ref.dropna().copy()\n",
    "# df4_debug = df3_ref.dropna().copy()  #delme\n",
    "df4.isna().sum()"
   ]
  },
  {
   "cell_type": "markdown",
   "id": "a325794b",
   "metadata": {},
   "source": [
    "## Univariate Analysis"
   ]
  },
  {
   "cell_type": "code",
   "execution_count": null,
   "id": "f5517ca9",
   "metadata": {
    "ExecuteTime": {
     "end_time": "2022-11-15T16:38:09.496608Z",
     "start_time": "2022-11-15T16:37:59.121Z"
    }
   },
   "outputs": [],
   "source": [
    "# profile = ProfileReport(df4)\n",
    "# profile.to_file('output.html')"
   ]
  },
  {
   "cell_type": "markdown",
   "id": "2cd7a0fe",
   "metadata": {
    "ExecuteTime": {
     "end_time": "2022-09-10T10:59:49.904184Z",
     "start_time": "2022-09-10T10:59:49.886191Z"
    }
   },
   "source": [
    "### Gross Revenue"
   ]
  },
  {
   "cell_type": "code",
   "execution_count": null,
   "id": "68663c41",
   "metadata": {
    "ExecuteTime": {
     "end_time": "2022-11-15T16:38:09.497608Z",
     "start_time": "2022-11-15T16:37:59.133Z"
    }
   },
   "outputs": [],
   "source": [
    "sns.boxplot(df4.gross_revenue)"
   ]
  },
  {
   "cell_type": "markdown",
   "id": "6cdcd89a",
   "metadata": {},
   "source": [
    "## Bivariate Analysis"
   ]
  },
  {
   "cell_type": "markdown",
   "id": "2a800efe",
   "metadata": {},
   "source": [
    "**Low variance on Frequency and Avg. Ticket**"
   ]
  },
  {
   "cell_type": "code",
   "execution_count": null,
   "id": "5996aaef",
   "metadata": {
    "ExecuteTime": {
     "end_time": "2022-11-15T16:38:09.499607Z",
     "start_time": "2022-11-15T16:37:59.146Z"
    }
   },
   "outputs": [],
   "source": [
    "# sns.pairplot(df4.drop(columns = 'customer_id'));"
   ]
  },
  {
   "cell_type": "code",
   "execution_count": null,
   "id": "400045dd",
   "metadata": {},
   "outputs": [],
   "source": []
  },
  {
   "cell_type": "markdown",
   "id": "99fc11d1",
   "metadata": {},
   "source": [
    "## Spatial Study"
   ]
  },
  {
   "cell_type": "code",
   "execution_count": null,
   "id": "f6df6112",
   "metadata": {
    "ExecuteTime": {
     "end_time": "2022-11-15T16:38:09.501607Z",
     "start_time": "2022-11-15T16:37:59.161Z"
    }
   },
   "outputs": [],
   "source": [
    "# full_feat:\n",
    "df43_full_features = df4.drop(columns = ['customer_id'], axis = 1).copy()\n",
    "\n",
    "# embedded space:\n",
    "cols_selected = ['customer_id', 'gross_revenue', 'recency_days', 'n_of_dif_products', 'frequency', 'qtt_returns']\n",
    "df43_less_features = df4[cols_selected].copy()\n",
    "df43_less_features.drop(columns= 'customer_id', inplace = True)\n",
    "# min-max, standard scales, robust scaler?"
   ]
  },
  {
   "cell_type": "markdown",
   "id": "8f4eabec",
   "metadata": {},
   "source": [
    "### Modeling with 2 sets 'full features', 'less features'"
   ]
  },
  {
   "cell_type": "code",
   "execution_count": null,
   "id": "1d389d0d",
   "metadata": {
    "ExecuteTime": {
     "end_time": "2022-11-15T16:38:09.502606Z",
     "start_time": "2022-11-15T16:37:59.172Z"
    }
   },
   "outputs": [],
   "source": [
    "# Many features were not useful, so trying modeling with 2 different sets\n",
    "\n",
    "\n",
    "mm = pp.MinMaxScaler()\n",
    "\n",
    "df43_full_features['gross_revenue'] = mm.fit_transform(df43_full_features[['gross_revenue']])  #*\n",
    "pickle.dump(mm, open(home_path + 'features/gross_revenue_scaler.pkl', 'wb'))\n",
    "\n",
    "# 'customer_id', \n",
    "df43_full_features['recency_days']          = mm.fit_transform( df43_full_features[['recency_days']])  # *\n",
    "pickle.dump(mm, open(home_path + 'features/full_feat_recendy_days_scaler.pkl', 'wb'))\n",
    "df43_full_features['invoice_ammt']          = mm.fit_transform( df43_full_features[['invoice_ammt']])\n",
    "pickle.dump(mm, open(home_path + 'features/full_feat_invoice_ammt_scaler.pkl', 'wb'))\n",
    "df43_full_features['item_ammt']             = mm.fit_transform( df43_full_features[['item_ammt']])  # *\n",
    "pickle.dump(mm, open(home_path + 'features/full_feat_item_ammt_scaler.pkl', 'wb'))\n",
    "df43_full_features['n_of_dif_products']     = mm.fit_transform( df43_full_features[['n_of_dif_products']])\n",
    "pickle.dump(mm, open(home_path + 'features/full_feat_n_of_dif_products_scaler.pkl', 'wb'))\n",
    "df43_full_features['avg_ticket']            = mm.fit_transform( df43_full_features[['avg_ticket']])\n",
    "pickle.dump(mm, open(home_path + 'features/full_feat_avg_ticket_scaler.pkl', 'wb'))\n",
    "df43_full_features['avg_recency_days']      = mm.fit_transform( df43_full_features[['avg_recency_days']])\n",
    "pickle.dump(mm, open(home_path + 'features/full_feat_avg_recency_days_scaler.pkl', 'wb'))\n",
    "df43_full_features['frequency']             = mm.fit_transform( df43_full_features[['frequency']])  #*\n",
    "pickle.dump(mm, open(home_path + 'features/full_feat_frequency_scaler.pkl', 'wb'))\n",
    "df43_full_features['qtt_returns']           = mm.fit_transform( df43_full_features[['qtt_returns']])  #*\n",
    "pickle.dump(mm, open(home_path + 'features/full_feat_qtt_returns_scaler.pkl', 'wb'))\n",
    "df43_full_features['avg_basket_size']       = mm.fit_transform( df43_full_features[['avg_basket_size']])\n",
    "pickle.dump(mm, open(home_path + 'features/full_feat_avg_basket_size_scaler.pkl', 'wb'))\n",
    "df43_full_features['avg_unique_basket_size']= mm.fit_transform( df43_full_features[['avg_unique_basket_size']])\n",
    "pickle.dump(mm, open(home_path + '/features/full_feat_avg_unique_basket_size_scaler.pkl', 'wb'))\n",
    "\n",
    "\n",
    "df43_less_features['gross_revenue'] = mm.fit_transform(df43_less_features[['gross_revenue']])\n",
    "pickle.dump(mm, open(home_path + 'features/less_feat_gross_revenue_scaler.pkl', 'wb'))\n",
    "\n",
    "df43_less_features['recency_days']          = mm.fit_transform( df43_less_features[['recency_days']])\n",
    "pickle.dump(mm, open(home_path + 'features/less_feat_full_feat_recendy_days_scaler.pkl', 'wb'))\n",
    "\n",
    "df43_less_features['n_of_dif_products']     = mm.fit_transform( df43_less_features[['n_of_dif_products']])\n",
    "pickle.dump(mm, open(home_path + 'features/less_feat_full_feat_n_of_dif_products_scaler.pkl', 'wb'))\n",
    "\n",
    "df43_less_features['frequency']             = mm.fit_transform( df43_less_features[['frequency']])\n",
    "pickle.dump(mm, open(home_path + 'features/less_feat_frequency_scaler.pkl', 'wb'))\n",
    "\n",
    "df43_less_features['qtt_returns']           = mm.fit_transform( df43_less_features[['qtt_returns']])\n",
    "pickle.dump(mm, open(home_path + 'features/less_feat_qtt_returns_scaler.pkl', 'wb'))\n",
    "\n",
    "\n",
    "df43_less_features.columns"
   ]
  },
  {
   "cell_type": "code",
   "execution_count": null,
   "id": "71cc7c60",
   "metadata": {
    "ExecuteTime": {
     "end_time": "2022-11-15T16:38:09.503606Z",
     "start_time": "2022-11-15T16:37:59.182Z"
    }
   },
   "outputs": [],
   "source": [
    "X_less_features = df43_less_features.copy()\n",
    "X_full_features = df43_full_features.copy()"
   ]
  },
  {
   "cell_type": "code",
   "execution_count": null,
   "id": "8f903aa5",
   "metadata": {
    "ExecuteTime": {
     "end_time": "2022-11-15T16:38:09.505606Z",
     "start_time": "2022-11-15T16:37:59.192Z"
    },
    "scrolled": true
   },
   "outputs": [],
   "source": [
    "df43_full_features.head()"
   ]
  },
  {
   "cell_type": "code",
   "execution_count": null,
   "id": "d104b992",
   "metadata": {
    "ExecuteTime": {
     "end_time": "2022-11-15T16:38:09.506605Z",
     "start_time": "2022-11-15T16:37:59.201Z"
    }
   },
   "outputs": [],
   "source": [
    "df43_less_features.head()"
   ]
  },
  {
   "cell_type": "markdown",
   "id": "b1572275",
   "metadata": {
    "ExecuteTime": {
     "end_time": "2022-09-12T15:01:07.431192Z",
     "start_time": "2022-09-12T15:01:07.427193Z"
    }
   },
   "source": [
    "### PCA - full features"
   ]
  },
  {
   "cell_type": "code",
   "execution_count": null,
   "id": "41e2ce2b",
   "metadata": {
    "ExecuteTime": {
     "end_time": "2022-11-15T16:38:09.508605Z",
     "start_time": "2022-11-15T16:37:59.214Z"
    }
   },
   "outputs": [],
   "source": [
    "X_full_features.head()"
   ]
  },
  {
   "cell_type": "code",
   "execution_count": null,
   "id": "76a7a222",
   "metadata": {
    "ExecuteTime": {
     "end_time": "2022-11-15T16:38:09.509604Z",
     "start_time": "2022-11-15T16:37:59.223Z"
    }
   },
   "outputs": [],
   "source": [
    "\n",
    "pca = dd.PCA( n_components = X_full_features.shape[1])\n",
    "principal_component = pca.fit_transform(X_full_features)\n",
    "\n",
    "# plot explaining variables\n",
    "features = range ( pca.n_components_)\n",
    "plt.bar(features, pca.explained_variance_ratio_, color = 'black')\n",
    "\n",
    "# PCA COMPONENTS\n",
    "df_pca = pd.DataFrame(principal_component)"
   ]
  },
  {
   "cell_type": "code",
   "execution_count": null,
   "id": "c2ec6a50",
   "metadata": {
    "ExecuteTime": {
     "end_time": "2022-11-15T16:38:09.511604Z",
     "start_time": "2022-11-15T16:37:59.235Z"
    }
   },
   "outputs": [],
   "source": [
    "df_pca.head()"
   ]
  },
  {
   "cell_type": "code",
   "execution_count": null,
   "id": "6381d5cb",
   "metadata": {
    "ExecuteTime": {
     "end_time": "2022-11-15T16:38:09.512604Z",
     "start_time": "2022-11-15T16:37:59.246Z"
    }
   },
   "outputs": [],
   "source": [
    "sns.scatterplot(x = 0, y = 1, data = df_pca)\n",
    "plt.title('PCA - full features[0 and 1]', fontsize = 18);"
   ]
  },
  {
   "cell_type": "markdown",
   "id": "07cc179b",
   "metadata": {},
   "source": [
    "#### PCA - Less Features"
   ]
  },
  {
   "cell_type": "code",
   "execution_count": null,
   "id": "62134edd",
   "metadata": {
    "ExecuteTime": {
     "end_time": "2022-11-15T16:38:09.514602Z",
     "start_time": "2022-11-15T16:37:59.259Z"
    }
   },
   "outputs": [],
   "source": [
    "X_less_features.head()"
   ]
  },
  {
   "cell_type": "code",
   "execution_count": null,
   "id": "9b1e69fe",
   "metadata": {
    "ExecuteTime": {
     "end_time": "2022-11-15T16:38:09.515603Z",
     "start_time": "2022-11-15T16:37:59.268Z"
    }
   },
   "outputs": [],
   "source": [
    "pca = dd.PCA( n_components = X_less_features.shape[1])\n",
    "principal_components = pca.fit_transform(X_less_features)\n",
    "\n",
    "# plot explaining variables\n",
    "features = range ( pca.n_components_)\n",
    "plt.bar(features, pca.explained_variance_ratio_, color = 'black')\n",
    "\n",
    "# PCA COMPONENTS\n",
    "df_pca = pd.DataFrame(principal_components)"
   ]
  },
  {
   "cell_type": "code",
   "execution_count": null,
   "id": "5735d63e",
   "metadata": {
    "ExecuteTime": {
     "end_time": "2022-11-15T16:38:09.516602Z",
     "start_time": "2022-11-15T16:37:59.277Z"
    }
   },
   "outputs": [],
   "source": [
    "sns.scatterplot( x=0, y=1, data=df_pca )"
   ]
  },
  {
   "cell_type": "markdown",
   "id": "a96f46cd",
   "metadata": {
    "ExecuteTime": {
     "end_time": "2022-11-09T15:04:00.254016Z",
     "start_time": "2022-11-09T15:04:00.241018Z"
    }
   },
   "source": [
    "- Both PCAs show no clear spacing"
   ]
  },
  {
   "cell_type": "markdown",
   "id": "3e7484ad",
   "metadata": {},
   "source": [
    "### UMAP - full features"
   ]
  },
  {
   "cell_type": "code",
   "execution_count": null,
   "id": "34048efa",
   "metadata": {
    "ExecuteTime": {
     "end_time": "2022-11-15T16:38:09.518601Z",
     "start_time": "2022-11-15T16:37:59.291Z"
    }
   },
   "outputs": [],
   "source": [
    "# UMAP\n",
    "\n",
    "# reducer = umap.UMAP(n_neighbors = 9, random_state = 42)\n",
    "reducer = umap.UMAP(random_state = 42)\n",
    "embedding = reducer.fit_transform(X_full_features)\n",
    "\n",
    "# embedding\n",
    "df_pca['embedding_x'] = embedding[:,0]\n",
    "df_pca['embedding_y'] = embedding[:,1]\n",
    "\n",
    "#plotting umap\n",
    "sns.scatterplot( x = 'embedding_x', y = 'embedding_y', data = df_pca )\n",
    "plt.title('UMAP - full features', fontsize = 18);"
   ]
  },
  {
   "cell_type": "markdown",
   "id": "f1035b67",
   "metadata": {},
   "source": [
    "#### UMAP - Less features"
   ]
  },
  {
   "cell_type": "code",
   "execution_count": null,
   "id": "58e63dde",
   "metadata": {
    "ExecuteTime": {
     "end_time": "2022-11-15T16:38:09.519600Z",
     "start_time": "2022-11-15T16:37:59.303Z"
    },
    "scrolled": false
   },
   "outputs": [],
   "source": [
    "# UMAP\n",
    "\n",
    "# reducer = umap.UMAP(n_neighbors = 9, random_state = 42)\n",
    "reducer = umap.UMAP(random_state = 42)\n",
    "embedding = reducer.fit_transform(X_less_features)\n",
    "\n",
    "# embedding\n",
    "df_pca['embedding_x'] = embedding[:,0]\n",
    "df_pca['embedding_y'] = embedding[:,1]\n",
    "\n",
    "#plotting umap\n",
    "sns.scatterplot( x = 'embedding_x', y = 'embedding_y', data = df_pca )"
   ]
  },
  {
   "cell_type": "code",
   "execution_count": null,
   "id": "0fa77f56",
   "metadata": {
    "ExecuteTime": {
     "end_time": "2022-11-09T15:04:33.957390Z",
     "start_time": "2022-11-09T15:04:33.946394Z"
    }
   },
   "outputs": [],
   "source": []
  },
  {
   "cell_type": "markdown",
   "id": "c287eec7",
   "metadata": {},
   "source": [
    "### t-SNE"
   ]
  },
  {
   "cell_type": "markdown",
   "id": "9399380d",
   "metadata": {},
   "source": [
    "#### t-SNE - full features"
   ]
  },
  {
   "cell_type": "code",
   "execution_count": null,
   "id": "6d39ce0b",
   "metadata": {
    "ExecuteTime": {
     "end_time": "2022-11-15T16:38:09.520600Z",
     "start_time": "2022-11-15T16:37:59.321Z"
    },
    "scrolled": false
   },
   "outputs": [],
   "source": [
    "# UMAP\n",
    "import umap.umap_ as umap\n",
    "from sklearn.manifold import TSNE\n",
    "# reducer = umap.UMAP(n_neighbors = 9, random_state = 42)\n",
    "reducer = TSNE(n_components = 2, random_state = 42, n_jobs = -1)\n",
    "embedding = reducer.fit_transform(X_full_features)\n",
    "\n",
    "# embedding\n",
    "df_pca['embedding_x'] = embedding[:,0]\n",
    "df_pca['embedding_y'] = embedding[:,1]\n",
    "\n",
    "#plotting umap\n",
    "sns.scatterplot( x = 'embedding_x', y = 'embedding_y', data = df_pca )\n",
    "plt.title('t-SNE full features', fontsize = 18);"
   ]
  },
  {
   "cell_type": "markdown",
   "id": "cf33e863",
   "metadata": {},
   "source": [
    "#### t-SNE - less features"
   ]
  },
  {
   "cell_type": "code",
   "execution_count": null,
   "id": "f668cb0f",
   "metadata": {
    "ExecuteTime": {
     "end_time": "2022-11-15T16:38:09.522600Z",
     "start_time": "2022-11-15T16:37:59.334Z"
    }
   },
   "outputs": [],
   "source": [
    "# UMAP\n",
    "import umap.umap_ as umap\n",
    "from sklearn.manifold import TSNE\n",
    "# reducer = umap.UMAP(n_neighbors = 9, random_state = 42)\n",
    "reducer = TSNE(n_components = 2, random_state = 42, n_jobs = -1)\n",
    "embedding = reducer.fit_transform(X_less_features)\n",
    "\n",
    "# embedding\n",
    "df_pca['embedding_x'] = embedding[:,0]\n",
    "df_pca['embedding_y'] = embedding[:,1]\n",
    "\n",
    "#plotting umap\n",
    "sns.scatterplot( x = 'embedding_x', y = 'embedding_y', data = df_pca )"
   ]
  },
  {
   "cell_type": "markdown",
   "id": "9d03bb71",
   "metadata": {},
   "source": [
    "### Tree-Based Embedding - v1.0"
   ]
  },
  {
   "cell_type": "code",
   "execution_count": null,
   "id": "33b0c4cc",
   "metadata": {
    "ExecuteTime": {
     "end_time": "2022-11-15T16:38:09.524600Z",
     "start_time": "2022-11-15T16:37:59.346Z"
    }
   },
   "outputs": [],
   "source": [
    "from sklearn import ensemble as en"
   ]
  },
  {
   "cell_type": "code",
   "execution_count": null,
   "id": "1fd50ccd",
   "metadata": {
    "ExecuteTime": {
     "end_time": "2022-11-15T16:38:09.525599Z",
     "start_time": "2022-11-15T16:37:59.356Z"
    }
   },
   "outputs": [],
   "source": [
    "df4.head()\n",
    "# X = df4.drop( columns = ['customer_id', 'gross_revenue'], axis = 1 )  # df4 - no transformation applied!!\n",
    "# y = df4['gross_revenue'] # using gross_revenue\n",
    "\n",
    "X_rf_full = X_full_features.drop(columns = ['gross_revenue'])\n",
    "y_rf_full = X_full_features['gross_revenue']\n",
    "\n",
    "# model definition\n",
    "rf_model_full = en.RandomForestRegressor( random_state = 42, n_estimators = 100)\n",
    "\n",
    "# model training\n",
    "rf_model_full.fit( X_rf_full, y_rf_full)\n",
    "\n",
    "#leaf\n",
    "# rf_model.apply( X )  # applying own training data\n",
    "\n",
    "#dataframe Leag"
   ]
  },
  {
   "cell_type": "code",
   "execution_count": null,
   "id": "7be00e0d",
   "metadata": {
    "ExecuteTime": {
     "end_time": "2022-11-15T16:38:09.527598Z",
     "start_time": "2022-11-15T16:37:59.368Z"
    },
    "scrolled": true
   },
   "outputs": [],
   "source": [
    "df_leaf_full = pd.DataFrame(rf_model_full.apply(X_rf_full))\n",
    "df_leaf_full.head()"
   ]
  },
  {
   "cell_type": "code",
   "execution_count": null,
   "id": "3bb81d9b",
   "metadata": {
    "ExecuteTime": {
     "end_time": "2022-11-15T16:38:09.528597Z",
     "start_time": "2022-11-15T16:37:59.377Z"
    },
    "scrolled": false
   },
   "outputs": [],
   "source": [
    "# Reducing dimensionality  # reduce the projection of the total columns columns into 2.\n",
    "reducer = umap.UMAP(random_state = 42)\n",
    "embedding = reducer.fit_transform(df_leaf_full)\n",
    "\n",
    "#embedding\n",
    "df_tree_full = pd.DataFrame()\n",
    "df_tree_full['embedding_x'] = embedding[:,0]\n",
    "df_tree_full['embedding_y'] = embedding[:,1]\n",
    "\n",
    "#plotting\n",
    "sns.scatterplot(x = 'embedding_x',\n",
    "               y = 'embedding_y',\n",
    "               data = df_tree_full)\n"
   ]
  },
  {
   "cell_type": "markdown",
   "id": "205fe006",
   "metadata": {},
   "source": [
    "#### Tree-Based Embedding - v2.0"
   ]
  },
  {
   "cell_type": "code",
   "execution_count": null,
   "id": "cfaa2df2",
   "metadata": {
    "ExecuteTime": {
     "end_time": "2022-11-15T16:38:09.530598Z",
     "start_time": "2022-11-15T16:37:59.392Z"
    }
   },
   "outputs": [],
   "source": [
    "\n",
    "X_less = X_less_features.drop(columns =['gross_revenue'], axis = 1)\n",
    "y_less = X_less_features['gross_revenue']\n",
    "\n",
    "# model definition\n",
    "rf_model_less = en.RandomForestRegressor( random_state = 42, n_estimators = 100)\n",
    "\n",
    "# model training\n",
    "rf_model_less.fit( X_less, y_less)\n",
    "\n",
    "pickle.dump(rf_model_less, open(home_path + 'models/rf_model_2.0.pkl', 'wb'))\n",
    "\n",
    "#leaf\n",
    "# rf_model.apply( X )  # applying own training data\n",
    "\n",
    "#dataframe Leag\n",
    "\n",
    "df_leaf_less = pd.DataFrame(rf_model_less.apply(X_less))\n",
    "df_leaf_less.head()"
   ]
  },
  {
   "cell_type": "code",
   "execution_count": null,
   "id": "ee379425",
   "metadata": {
    "ExecuteTime": {
     "end_time": "2022-11-15T16:38:09.532597Z",
     "start_time": "2022-11-15T16:37:59.400Z"
    }
   },
   "outputs": [],
   "source": [
    "# Reducing dimensionality  # reduce the projection of the 100 columns into 2.\n",
    "reducer = umap.UMAP(random_state = 42)\n",
    "embedding = reducer.fit_transform(df_leaf_less)\n",
    "\n",
    "#embedding\n",
    "df_tree_v2 = pd.DataFrame()\n",
    "df_tree_v2['embedding_x'] = embedding[:,0]\n",
    "df_tree_v2['embedding_y'] = embedding[:,1]\n",
    "\n",
    "#plotting\n",
    "sns.scatterplot(x = 'embedding_x',\n",
    "               y = 'embedding_y',\n",
    "               data = df_tree_v2)"
   ]
  },
  {
   "cell_type": "markdown",
   "id": "01da3c93",
   "metadata": {},
   "source": [
    "#### Tree based embedded - simple - in use"
   ]
  },
  {
   "cell_type": "code",
   "execution_count": null,
   "id": "f5d20606",
   "metadata": {
    "ExecuteTime": {
     "end_time": "2022-11-15T16:38:09.533596Z",
     "start_time": "2022-11-15T16:37:59.414Z"
    }
   },
   "outputs": [],
   "source": [
    "X = df4.drop( columns = ['customer_id', 'gross_revenue'], axis = 1 )  # df4 - no transformation applied!!\n",
    "y = df4['gross_revenue'] # using gross_revenue\n",
    "\n",
    "# model definition\n",
    "rf_model = en.RandomForestRegressor( random_state = 42, n_estimators = 100)\n",
    "\n",
    "# model training\n",
    "rf_model.fit( X, y)\n",
    "\n",
    "\n",
    "\n",
    "df_leaf = pd.DataFrame(rf_model. apply(X))\n",
    "df_leaf.head()\n",
    "\n"
   ]
  },
  {
   "cell_type": "code",
   "execution_count": null,
   "id": "974c4121",
   "metadata": {
    "ExecuteTime": {
     "end_time": "2022-11-15T16:38:09.535597Z",
     "start_time": "2022-11-15T16:37:59.423Z"
    }
   },
   "outputs": [],
   "source": [
    "# Reducing dimensionality  # reduce the projection of the total columns columns into 2.\n",
    "reducer = umap.UMAP(random_state = 42)\n",
    "embedding = reducer.fit_transform(df_leaf)\n",
    "\n",
    "#embedding\n",
    "df_tree = pd.DataFrame()\n",
    "df_tree['embedding_x'] = embedding[:,0]\n",
    "df_tree['embedding_y'] = embedding[:,1]\n",
    "\n",
    "#plotting\n",
    "sns.scatterplot(x = 'embedding_x',\n",
    "               y = 'embedding_y',\n",
    "               data = df_tree)\n",
    "plt.title('Forest Tree Regressor embedding followed by UMAP reduction', fontsize = 18);"
   ]
  },
  {
   "cell_type": "markdown",
   "id": "cd2a2feb",
   "metadata": {
    "ExecuteTime": {
     "end_time": "2022-08-28T11:58:08.149564Z",
     "start_time": "2022-08-28T11:58:08.139568Z"
    }
   },
   "source": [
    "# Data Preparation\n"
   ]
  },
  {
   "cell_type": "code",
   "execution_count": null,
   "id": "1df1d98d",
   "metadata": {
    "ExecuteTime": {
     "end_time": "2022-11-15T16:38:09.536596Z",
     "start_time": "2022-11-15T16:37:59.435Z"
    }
   },
   "outputs": [],
   "source": [
    "# df5 = df4.copy()\n",
    "df5_aux = df4.copy()\n",
    "df5_df_tree = df_tree.copy()\n",
    "df5_df_tree_v2 = df_tree_v2.copy()"
   ]
  },
  {
   "cell_type": "code",
   "execution_count": null,
   "id": "0dc31f9d",
   "metadata": {
    "ExecuteTime": {
     "end_time": "2022-11-15T16:38:09.538595Z",
     "start_time": "2022-11-15T16:37:59.443Z"
    },
    "cell_style": "split",
    "scrolled": true
   },
   "outputs": [],
   "source": [
    "\n",
    "sns.distplot(df5_aux['gross_revenue']);\n",
    "# Talvez um minmax, tá muito deseguilibrada essa disribuicao.\n"
   ]
  },
  {
   "cell_type": "code",
   "execution_count": null,
   "id": "d955cfa5",
   "metadata": {
    "ExecuteTime": {
     "end_time": "2022-11-15T16:38:09.539596Z",
     "start_time": "2022-11-15T16:37:59.453Z"
    },
    "cell_style": "split",
    "scrolled": false
   },
   "outputs": [],
   "source": [
    "sns.distplot(np.log(df5_aux['gross_revenue']))"
   ]
  },
  {
   "cell_type": "code",
   "execution_count": null,
   "id": "ba274635",
   "metadata": {
    "ExecuteTime": {
     "end_time": "2022-11-15T16:38:09.541594Z",
     "start_time": "2022-11-15T16:37:59.461Z"
    }
   },
   "outputs": [],
   "source": [
    "# Previously tested transformations before deciding going with embedded spaces:\n",
    "\n",
    "\n",
    "# # mm = pp.MinMaxScaler()\n",
    "# # ss = pp.StandardScaler()\n",
    "# # rs = pp.RobustScaler()\n",
    "\n",
    "# df5_aux['gross_revenue'] = mm.fit_transform(df5_aux[['gross_revenue']])\n",
    "# df5_aux['recency_days'] = mm.fit_transform(df5_aux[['recency_days']])\n",
    "# df5_aux['invoice_ammt'] = mm.fit_transform(df5_aux[['invoice_ammt']])\n",
    "# df5_aux['item_ammt'] = mm.fit_transform(df5_aux[['item_ammt']])\n",
    "# df5_aux['n_of_dif_products'] = mm.fit_transform(df5_aux[['n_of_dif_products']])\n",
    "\n",
    "# # df5_aux['avg_ticket'] = mm.fit_transform(df5_aux[['avg_ticket']])\n",
    "# # df5_aux['avg_recency_days'] = mm.fit_transform(df5_aux[['avg_recency_days']])\n",
    "\n",
    "# df5_aux['frequency'] = mm.fit_transform(df5_aux[['frequency']])\n",
    "# df5_aux['qtt_returns'] = mm.fit_transform(df5_aux[['qtt_returns']])\n",
    "\n",
    "# # df5_aux['avg_basket_size'] = mm.fit_transform(df5_aux[['avg_basket_size']])\n",
    "# # df5_aux['avg_unique_basket_size'] = mm.fit_transform(df5_aux[['avg_unique_basket_size']])  \n",
    "\n",
    "# # avg wont make sense in the end, not looking for avg of the avg in the end.\n",
    "\n",
    "# variable = 'gross_revenue'\n",
    "\n",
    "# # ['customer_id', 'gross_revenue', 'recency_days', 'n_of_dif_products', 'frequency', 'qtt_returns']\n",
    "\n",
    "# Data as it is\n",
    "# print('Min:{} - Max:{}'.format(df5_aux[variable].min(), df5_aux[variable].max() ) )\n",
    "# sns.displot(df5_aux[variable]);\n",
    "\n",
    "# # Data Standardized/Rescaled\n",
    "# print('Min:{} - Max:{}'.format(df5_aux[variable].min(), df5_aux[variable].max() ) )\n",
    "# sns.displot(df5_aux[variable]);"
   ]
  },
  {
   "cell_type": "code",
   "execution_count": null,
   "id": "daa130cd",
   "metadata": {
    "ExecuteTime": {
     "end_time": "2022-11-15T16:38:09.542593Z",
     "start_time": "2022-11-15T16:37:59.470Z"
    }
   },
   "outputs": [],
   "source": [
    "# Box Plot\n",
    "# sns.boxplot(df5_aux[variable]);"
   ]
  },
  {
   "cell_type": "markdown",
   "id": "6b0f3d12",
   "metadata": {},
   "source": [
    "# Feature Selection"
   ]
  },
  {
   "cell_type": "code",
   "execution_count": null,
   "id": "21aca851",
   "metadata": {
    "ExecuteTime": {
     "end_time": "2022-11-15T16:38:09.544593Z",
     "start_time": "2022-11-15T16:37:59.481Z"
    }
   },
   "outputs": [],
   "source": [
    "# Previous cycles:\n",
    "# cols_selected = ['customer_id', 'gross_revenue', 'recency_days', 'n_of_dif_products', 'frequency', 'qtt_returns']"
   ]
  },
  {
   "cell_type": "code",
   "execution_count": null,
   "id": "2ef441ea",
   "metadata": {
    "ExecuteTime": {
     "end_time": "2022-11-15T16:38:09.545593Z",
     "start_time": "2022-11-15T16:37:59.490Z"
    }
   },
   "outputs": [],
   "source": [
    "# df6 = df5[cols_selected].copy()\n",
    "df6_df_tree = df5_df_tree.copy()\n",
    "df6_df_tree_v2 = df5_df_tree_v2.copy()\n",
    "\n",
    "df6_df_tree.head()\n"
   ]
  },
  {
   "cell_type": "markdown",
   "id": "1ebefe39",
   "metadata": {
    "ExecuteTime": {
     "end_time": "2022-08-28T11:59:16.710083Z",
     "start_time": "2022-08-28T11:59:16.695088Z"
    }
   },
   "source": [
    "# Hyperparameter Fine-Tuning"
   ]
  },
  {
   "cell_type": "code",
   "execution_count": null,
   "id": "cb4825fd",
   "metadata": {
    "ExecuteTime": {
     "end_time": "2022-11-15T16:38:09.547592Z",
     "start_time": "2022-11-15T16:37:59.502Z"
    }
   },
   "outputs": [],
   "source": [
    "# X = df6.drop(columns = ['customer_id'])\n",
    "X = df6_df_tree.copy()\n",
    "X_v2 = df6_df_tree_v2.copy()"
   ]
  },
  {
   "cell_type": "code",
   "execution_count": null,
   "id": "3968bb7a",
   "metadata": {
    "ExecuteTime": {
     "end_time": "2022-11-15T16:38:09.548592Z",
     "start_time": "2022-11-15T16:37:59.511Z"
    },
    "scrolled": true
   },
   "outputs": [],
   "source": [
    "X.head()"
   ]
  },
  {
   "cell_type": "code",
   "execution_count": null,
   "id": "026766f0",
   "metadata": {
    "ExecuteTime": {
     "end_time": "2022-11-15T16:38:09.550591Z",
     "start_time": "2022-11-15T16:37:59.519Z"
    }
   },
   "outputs": [],
   "source": [
    "# clusters = [2, 3, 4, 5, 6, 7 , 8 ,9 ]\n",
    "cluster_hyperpam_testing = np.arange(2,25,1)"
   ]
  },
  {
   "cell_type": "markdown",
   "id": "c26f87b2",
   "metadata": {
    "ExecuteTime": {
     "end_time": "2022-09-14T09:01:05.232429Z",
     "start_time": "2022-09-14T09:00:28.969Z"
    }
   },
   "source": [
    "## K-Means"
   ]
  },
  {
   "cell_type": "code",
   "execution_count": null,
   "id": "051f8a26",
   "metadata": {
    "ExecuteTime": {
     "end_time": "2022-11-15T16:38:09.551590Z",
     "start_time": "2022-11-15T16:37:59.530Z"
    }
   },
   "outputs": [],
   "source": [
    "\n",
    "kmeans_list = []\n",
    "for k in cluster_hyperpam_testing:\n",
    "    # defining model\n",
    "    kmeans_model = c.KMeans(n_clusters = k)\n",
    "\n",
    "    # defining training\n",
    "    kmeans_model.fit(X)\n",
    "\n",
    "    # define prediction\n",
    "    labels_71_kmeans_v1 = kmeans_model.predict(X)\n",
    "    # performance\n",
    "    # Using silhouette inside metrics package.\n",
    "    kmeans_list.append( m.silhouette_score(X, labels_71_kmeans_v1, metric = 'euclidean') )\n",
    "    \n",
    "\n",
    "#### v2.0 \n",
    "\n",
    "kmeans_list_v2 = []\n",
    "for k in cluster_hyperpam_testing:\n",
    "    # defining model\n",
    "    kmeans_model_v2 = c.KMeans(n_clusters = k)\n",
    "\n",
    "    # defining training\n",
    "    kmeans_model_v2.fit(X_v2)\n",
    "\n",
    "    # define prediction\n",
    "    labels_71_kmeans_v2 = kmeans_model_v2.predict(X_v2)\n",
    "    # performance\n",
    "    # Using silhouette inside metrics package.\n",
    "    kmeans_list_v2.append( m.silhouette_score(X_v2, labels_71_kmeans_v2, metric = 'euclidean') )"
   ]
  },
  {
   "cell_type": "code",
   "execution_count": null,
   "id": "d5a7b8c8",
   "metadata": {
    "ExecuteTime": {
     "end_time": "2022-11-15T16:38:09.553591Z",
     "start_time": "2022-11-15T16:37:59.539Z"
    }
   },
   "outputs": [],
   "source": [
    "plt.plot(cluster_hyperpam_testing, kmeans_list, linestyle='--', marker = 'o', color ='b')\n",
    "plt.plot(cluster_hyperpam_testing, kmeans_list_v2, linestyle='--', marker = 'o', color ='green')\n",
    "plt.xlabel('K')\n",
    "plt.ylabel(' Silhouette Score ')\n",
    "plt.title('KMeans - Silhouette Score x K - Performance Comparison', fontsize = 16)\n",
    "\n",
    "\n",
    "\n",
    "blue_patch = mpatches.Patch(color='blue', label='Raw data - simple')\n",
    "green_patch = mpatches.Patch(color='green', label='MinMax Transformation')\n",
    "yellow_patch = mpatches.Patch(color='yellow', label='MinMax Transformation')\n",
    "\n",
    "plt.legend(handles=[blue_patch, green_patch]);\n",
    "\n"
   ]
  },
  {
   "cell_type": "markdown",
   "id": "1bacb27d",
   "metadata": {},
   "source": [
    "## GMM"
   ]
  },
  {
   "cell_type": "code",
   "execution_count": null,
   "id": "b79ecf3e",
   "metadata": {
    "ExecuteTime": {
     "end_time": "2022-11-15T16:38:09.554590Z",
     "start_time": "2022-11-15T16:37:59.552Z"
    }
   },
   "outputs": [],
   "source": [
    "# def, training, predict, score\n",
    "gmm_list =[]\n",
    "for k in cluster_hyperpam_testing:\n",
    "    gmm_model = mx.GaussianMixture(n_components = k)\n",
    "\n",
    "    gmm_model.fit(X)\n",
    "\n",
    "    labels_72_GMM = gmm_model.predict(X)\n",
    "\n",
    "    sil_gmm_v1 = m.silhouette_score(X, labels_72_GMM, metric = 'euclidean')\n",
    "    gmm_list.append(sil_gmm_v1)\n",
    "\n",
    "    \n",
    "### v2.0\n",
    "gmm_list_v2 =[]\n",
    "for k in cluster_hyperpam_testing:\n",
    "    gmm_model_v2 = mx.GaussianMixture(n_components = k)\n",
    "\n",
    "    gmm_model_v2.fit(X_v2)\n",
    "\n",
    "    labels_72_GMM_v2 = gmm_model_v2.predict(X_v2)\n",
    "\n",
    "    sil_gmm_v2 = m.silhouette_score(X_v2, labels_72_GMM_v2, metric = 'euclidean')\n",
    "    gmm_list_v2.append(sil_gmm_v2)\n",
    "    "
   ]
  },
  {
   "cell_type": "code",
   "execution_count": null,
   "id": "f2eebb7f",
   "metadata": {
    "ExecuteTime": {
     "end_time": "2022-11-15T16:38:09.556590Z",
     "start_time": "2022-11-15T16:37:59.560Z"
    }
   },
   "outputs": [],
   "source": [
    "plt.plot(cluster_hyperpam_testing, gmm_list, linestyle='--', marker = 'o', color = 'b')\n",
    "plt.plot(cluster_hyperpam_testing, gmm_list_v2, linestyle='--', marker = 'o', color = 'green')\n",
    "plt.xlabel('K')\n",
    "plt.ylabel('Silhouette Score')\n",
    "plt.title('GMM Silhouette Score K');"
   ]
  },
  {
   "cell_type": "markdown",
   "id": "e340811c",
   "metadata": {},
   "source": [
    "## Hierarchical Clustering"
   ]
  },
  {
   "cell_type": "code",
   "execution_count": null,
   "id": "1eb02ffa",
   "metadata": {
    "ExecuteTime": {
     "end_time": "2022-11-15T16:38:09.558588Z",
     "start_time": "2022-11-15T16:37:59.572Z"
    }
   },
   "outputs": [],
   "source": [
    "# model definition and training\n",
    "hc_model = hc.linkage(X, 'ward')\n",
    "hc_model_v2 = hc.linkage(X_v2, 'ward')\n",
    "\n"
   ]
  },
  {
   "cell_type": "code",
   "execution_count": null,
   "id": "2f3198fa",
   "metadata": {
    "ExecuteTime": {
     "end_time": "2022-11-15T16:38:09.559588Z",
     "start_time": "2022-11-15T16:37:59.581Z"
    }
   },
   "outputs": [],
   "source": [
    "# DENDROGRAM\n",
    "\n",
    "# hc.dendrogram(\n",
    "#     hc_model,\n",
    "#     leaf_rotation = 90,\n",
    "#     leaf_font_size = 8)\n",
    "# plt.plot()"
   ]
  },
  {
   "cell_type": "code",
   "execution_count": null,
   "id": "eeccf45f",
   "metadata": {
    "ExecuteTime": {
     "end_time": "2022-11-15T16:38:09.561588Z",
     "start_time": "2022-11-15T16:37:59.590Z"
    }
   },
   "outputs": [],
   "source": [
    "hc.dendrogram(\n",
    "    hc_model,\n",
    "    truncate_mode='lastp',\n",
    "    p=12,\n",
    "    leaf_rotation = 90,\n",
    "    leaf_font_size = 8,\n",
    "    show_contracted = True)\n",
    "plt.title('Dendogram simplified', fontsize = 18)\n",
    "plt.show()\n"
   ]
  },
  {
   "cell_type": "markdown",
   "id": "e1cea04a",
   "metadata": {},
   "source": [
    "### H-Clustering Silhouette Score"
   ]
  },
  {
   "cell_type": "code",
   "execution_count": null,
   "id": "1bfd7747",
   "metadata": {},
   "outputs": [],
   "source": []
  },
  {
   "cell_type": "code",
   "execution_count": null,
   "id": "965dfec5",
   "metadata": {
    "ExecuteTime": {
     "end_time": "2022-11-15T16:38:09.562588Z",
     "start_time": "2022-11-15T16:37:59.606Z"
    }
   },
   "outputs": [],
   "source": [
    "hc_list = []\n",
    "for k in cluster_hyperpam_testing:\n",
    "    # def, training, predict score\n",
    "    hc_model = hc.linkage(X, 'ward')\n",
    "\n",
    "    # prediction\n",
    "    labels_hc_v1 = hc.fcluster(hc_model, k, criterion = 'maxclust')\n",
    "\n",
    "    #metrics\n",
    "    sil_hc_v1 = m.silhouette_score(X, labels_hc_v1, metric = 'euclidean')\n",
    "    hc_list.append( sil_hc_v1 )\n",
    "\n",
    "    \n",
    "#### v2.0\n",
    "hc_list_v2 = []\n",
    "for k in cluster_hyperpam_testing:\n",
    "    # def, training, predict score\n",
    "    hc_model_v2 = hc.linkage(X_v2, 'ward')\n",
    "\n",
    "    # prediction\n",
    "    labels_hc_v2 = hc.fcluster(hc_model_v2, k, criterion = 'maxclust')\n",
    "\n",
    "    #metrics\n",
    "    sil_hc_v2 = m.silhouette_score(X_v2, labels_hc_v2, metric = 'euclidean')\n",
    "    hc_list_v2.append( sil_hc_v2 )"
   ]
  },
  {
   "cell_type": "code",
   "execution_count": null,
   "id": "44447ba0",
   "metadata": {
    "ExecuteTime": {
     "end_time": "2022-11-15T16:38:09.564586Z",
     "start_time": "2022-11-15T16:37:59.614Z"
    },
    "scrolled": false
   },
   "outputs": [],
   "source": [
    "plt.plot(cluster_hyperpam_testing, hc_list, linestyle = '--', marker ='o', color = 'b')\n",
    "plt.plot(cluster_hyperpam_testing, hc_list_v2, linestyle = '--', marker ='o', color = 'green')\n",
    "plt.xlabel('k')\n",
    "plt.ylabel('')\n",
    "\n",
    "blue_patch731 = mpatches.Patch(color='b', label='v1 - more features')\n",
    "green_patch731 = mpatches.Patch(color='green', label='v2 - lesser features')\n",
    "\n",
    "plt.legend(handles=[blue_patch731, green_patch731])\n",
    "plt.title('K performance and Silhouette Score', fontsize = 18)"
   ]
  },
  {
   "cell_type": "markdown",
   "id": "6b4545c5",
   "metadata": {},
   "source": [
    "### H-Clustering Silhoutte plots"
   ]
  },
  {
   "cell_type": "markdown",
   "id": "26717675",
   "metadata": {},
   "source": [
    "- Even though Hierarchical Clustering points out optimum k at a higher value, that becomes impractical in terms of RFM modeling, so checking performance between 8 and 14 groups."
   ]
  },
  {
   "cell_type": "code",
   "execution_count": null,
   "id": "de445bc3",
   "metadata": {
    "ExecuteTime": {
     "end_time": "2022-11-15T16:38:09.565587Z",
     "start_time": "2022-11-15T16:37:59.630Z"
    }
   },
   "outputs": [],
   "source": [
    "h7_clusters_interest = [8,9,10,11,12,13,14]\n",
    "# h7_clusters_interest = [8] #,9,10,11,12,13,14]"
   ]
  },
  {
   "cell_type": "code",
   "execution_count": null,
   "id": "929b2f16",
   "metadata": {
    "ExecuteTime": {
     "end_time": "2022-11-15T16:38:09.566585Z",
     "start_time": "2022-11-15T16:37:59.638Z"
    },
    "scrolled": false
   },
   "outputs": [],
   "source": [
    "fig, ax = plt.subplots(4,2)\n",
    "fig.set_size_inches(25,20)  #setting a size for fig\n",
    "\n",
    "print ('HC starting counting clusters at 1, not 0.')\n",
    "for k in h7_clusters_interest:\n",
    "    q,mod = divmod(k  - h7_clusters_interest[0],2)\n",
    "    ax[q, mod].set_xlim([ -0.1, 1])\n",
    "    ax[q, mod].set_ylim([ 0, len(X) + (k+1)*10])\n",
    "    #model def\n",
    "    hc_model = hc.linkage(X, 'ward')\n",
    "\n",
    "    # predict\n",
    "    labels = hc.fcluster(hc_model, k, criterion = 'maxclust')\n",
    "    \n",
    "    # print(f'Labels given by current model {np.unique(labels)}')\n",
    "    # performance\n",
    "    ss = m.silhouette_score(X, labels, metric = 'euclidean')\n",
    "    silhouette_avg = ss\n",
    "    print('When k {}, Silhouette Score: {}'.format(k, ss))\n",
    "    samples_silhouette_values = m.silhouette_samples(X, labels)\n",
    "    y_lower = 10\n",
    "    \n",
    "    \n",
    "    for i in range(1, k +1):\n",
    "        # select clusters\n",
    "        ith_samples_silhouette_values = samples_silhouette_values[labels == i]\n",
    "\n",
    "        #sorting\n",
    "        ith_samples_silhouette_values.sort()\n",
    "        \n",
    "        # size_cluster\n",
    "        size_cluster_i = ith_samples_silhouette_values.shape[0]\n",
    "        y_upper = y_lower + size_cluster_i\n",
    "        \n",
    "        cmap = cm.get_cmap('Spectral')\n",
    "        color = cmap(i/k)\n",
    "        # fill_betweenx  (matplotlib)\n",
    "        ax[q,mod].fill_betweenx( \n",
    "            np.arange(y_lower, y_upper), 0, \n",
    "            ith_samples_silhouette_values,\n",
    "            )\n",
    "        \n",
    "        \n",
    "        ax[q, mod].text(-0.05, y_lower + 0.5 * size_cluster_i, str(i))\n",
    "        y_lower = y_upper + 10\n",
    "\n",
    "\n",
    "    ax[q, mod].set_ylim([0, len(X) + (k + 1) * 10])\n",
    "    ax[q, mod].set_title(f'k {k}')\n",
    "    ax[q, mod].set_xlabel(f'Silhouette score')\n",
    "    ax[q, mod].set_xticks([-0.1, 0, 0.2, 0.4, 0.6, 0.8, 1])\n",
    "    \n",
    "    ax[q, mod].set_yticks([])\n",
    "    ax[q, mod].set_ylabel('Clusters')\n",
    "\n",
    "    ax[q, mod].axvline(x=silhouette_avg, color=\"red\", linestyle=\"--\")\n",
    "    \n",
    "# https://scikit-learn.org/stable/auto_examples/cluster/plot_kmeans_silhouette_analysis.html"
   ]
  },
  {
   "cell_type": "markdown",
   "id": "604db2db",
   "metadata": {},
   "source": [
    "## DBSCAN"
   ]
  },
  {
   "cell_type": "code",
   "execution_count": null,
   "id": "154e118f",
   "metadata": {
    "ExecuteTime": {
     "end_time": "2022-11-15T16:38:09.567586Z",
     "start_time": "2022-11-15T16:37:59.649Z"
    }
   },
   "outputs": [],
   "source": [
    "eps = 1.2\n",
    "min_samples = 33\n",
    "dbscan_model = c.DBSCAN( eps = eps, min_samples = min_samples) \n",
    "\n",
    "labels_db_scan = dbscan_model.fit_predict(X)\n",
    "\n",
    "db_scan_sil = m.silhouette_score( X, labels_db_scan, metric = 'euclidean')\n",
    "\n",
    "print('Silhouette Score {} '.format(db_scan_sil))\n",
    "print('Clusters k includes noisy one (-1) if present: {}'.format(len(unique(labels_db_scan) )))\n",
    "print('labels {} '.format(unique(labels_db_scan)))\n",
    "db_scan_k_v1 = len(unique(labels_db_scan)) - 1 # we will need that variable in the results\n",
    "\n",
    "print('\\n\\nVersion2:')\n",
    "dbscan_model_v2 = c.DBSCAN( eps = eps, min_samples = min_samples) \n",
    "\n",
    "labels_db_scan_v2 = dbscan_model_v2.fit_predict(X_v2)\n",
    "\n",
    "db_scan_sil_v2 = m.silhouette_score( X_v2, labels_db_scan, metric = 'euclidean')\n",
    "\n",
    "print('Silhouette Score {} '.format(db_scan_sil_v2))\n",
    "print('Clusters k includes noisy one (-1) if present: {}'.format(len(unique(labels_db_scan_v2) )))\n",
    "print('labels {} '.format(unique(labels_db_scan_v2)))\n",
    "\n"
   ]
  },
  {
   "cell_type": "markdown",
   "id": "48e7c881",
   "metadata": {},
   "source": [
    "### Neighbors issue - tuning"
   ]
  },
  {
   "cell_type": "code",
   "execution_count": null,
   "id": "91b6b9c4",
   "metadata": {
    "ExecuteTime": {
     "end_time": "2022-11-15T16:38:09.569585Z",
     "start_time": "2022-11-15T16:37:59.663Z"
    }
   },
   "outputs": [],
   "source": [
    "# checking on v1\n",
    "neighbors = NearestNeighbors(n_neighbors = min_samples).fit(X)\n",
    "distances, indices = neighbors.kneighbors(X)"
   ]
  },
  {
   "cell_type": "code",
   "execution_count": null,
   "id": "11e5158d",
   "metadata": {
    "ExecuteTime": {
     "end_time": "2022-11-15T16:38:09.570585Z",
     "start_time": "2022-11-15T16:37:59.672Z"
    },
    "cell_style": "split"
   },
   "outputs": [],
   "source": [
    "distances = np.sort(distances, axis = 0)\n",
    "distances = distances[:,1]\n",
    "plt.plot(distances)"
   ]
  },
  {
   "cell_type": "code",
   "execution_count": null,
   "id": "1999e4e4",
   "metadata": {
    "ExecuteTime": {
     "end_time": "2022-11-15T16:38:09.571584Z",
     "start_time": "2022-11-15T16:37:59.682Z"
    },
    "cell_style": "split"
   },
   "outputs": [],
   "source": [
    "# zooming in\n",
    "plt.plot(distances[2900:])"
   ]
  },
  {
   "cell_type": "markdown",
   "id": "565dc61c",
   "metadata": {},
   "source": [
    "## RESULTS"
   ]
  },
  {
   "cell_type": "code",
   "execution_count": null,
   "id": "a42e730e",
   "metadata": {
    "ExecuteTime": {
     "end_time": "2022-11-15T16:38:09.572586Z",
     "start_time": "2022-11-15T16:37:59.693Z"
    }
   },
   "outputs": [],
   "source": [
    "db_scan_sil"
   ]
  },
  {
   "cell_type": "code",
   "execution_count": null,
   "id": "ce99c8c4",
   "metadata": {
    "ExecuteTime": {
     "end_time": "2022-11-15T16:38:09.574583Z",
     "start_time": "2022-11-15T16:37:59.702Z"
    }
   },
   "outputs": [],
   "source": [
    "# db_scan_k"
   ]
  },
  {
   "cell_type": "code",
   "execution_count": null,
   "id": "7cbf1686",
   "metadata": {
    "ExecuteTime": {
     "end_time": "2022-11-15T16:38:09.575582Z",
     "start_time": "2022-11-15T16:37:59.712Z"
    }
   },
   "outputs": [],
   "source": [
    "df_results = pd.DataFrame(\n",
    "    {'KMeans':kmeans_list, 'GMM': gmm_list,\n",
    "     'HCList':hc_list}).T\n",
    "\n",
    "dbscan_list = []\n",
    "for a in (df_results.columns):\n",
    "    if a != db_scan_k_v1:\n",
    "        dbscan_list.append(0.0)\n",
    "    else:\n",
    "        dbscan_list.append(db_scan_sil)\n",
    "\n",
    "print(dbscan_list)\n",
    "    \n",
    "df_results = pd.DataFrame(\n",
    "    {'KMeans':kmeans_list, 'GMM': gmm_list,\n",
    "     'KMeans_v2':kmeans_list_v2, 'GMM_v2': gmm_list_v2,\n",
    "     'HCList_v2':hc_list_v2,'HCList':hc_list, 'DBScan':dbscan_list}).T\n",
    "\n",
    "df_results.columns = cluster_hyperpam_testing\n",
    "# df_results = df_results.iloc[:,7:]\n",
    "df_results.style.highlight_max(color = 'lightgreen', axis = 1)"
   ]
  },
  {
   "cell_type": "markdown",
   "id": "a205eea2",
   "metadata": {
    "ExecuteTime": {
     "end_time": "2022-11-13T11:38:37.739183Z",
     "start_time": "2022-11-13T11:38:37.728187Z"
    }
   },
   "source": [
    "- General optimum for k here would be range from 14 to 24. However for business team that would represent a lot of groups to be working with."
   ]
  },
  {
   "cell_type": "markdown",
   "id": "2306922e",
   "metadata": {},
   "source": [
    "## Within-Cluster Sum of Square (WSS)"
   ]
  },
  {
   "cell_type": "code",
   "execution_count": null,
   "id": "d90b31c5",
   "metadata": {
    "ExecuteTime": {
     "end_time": "2022-11-15T16:38:09.577584Z",
     "start_time": "2022-11-15T16:37:59.725Z"
    }
   },
   "outputs": [],
   "source": [
    "# trying out diffente cluster values\n",
    "\n",
    "# clusters = [2, 3, 4, 5, 6, 7 ]\n",
    "h77_clusters = np.arange(2,14,1)"
   ]
  },
  {
   "cell_type": "code",
   "execution_count": null,
   "id": "f0156608",
   "metadata": {
    "ExecuteTime": {
     "end_time": "2022-11-15T16:38:09.579582Z",
     "start_time": "2022-11-15T16:37:59.734Z"
    },
    "scrolled": false
   },
   "outputs": [],
   "source": [
    "wss = []\n",
    "for k in h77_clusters:\n",
    "    # model definition\n",
    "    kmeans = c.KMeans( init = 'random', n_clusters = k, n_init = 10, max_iter = 300, random_state = 42)  # doing centroids at random # n_init, centroid starting times(?)\n",
    "    # model training\n",
    "    kmeans.fit(X)\n",
    "    # validation\n",
    "    wss.append(kmeans.inertia_)\n",
    "\n",
    "# plootting wss - ELBOW method # We want to findout the best k before going for the final model\n",
    "# like a pre-training model.\n",
    "# This graph is supposed to look like an elbow... (?)\n",
    "# Supposed to choose the point in the graph where the changes(The angle) most significative happen in this case\n",
    "# happens where K = 3 and 5 - it is up to the Data Scientist to choose the best point.b\n",
    "\n",
    "plt.plot(h77_clusters, wss, linestyle = '--', marker ='o', color='b')\n",
    "plt.xlabel('K')\n",
    "plt.ylabel('Within-Cluster Sum of Square');\n",
    "plt.title('WSS vs K')"
   ]
  },
  {
   "cell_type": "code",
   "execution_count": null,
   "id": "bdee05c7",
   "metadata": {
    "ExecuteTime": {
     "end_time": "2022-11-15T16:38:09.580581Z",
     "start_time": "2022-11-15T16:37:59.741Z"
    }
   },
   "outputs": [],
   "source": [
    "# Searching for K, using the library yellowbrick\n",
    "from yellowbrick.cluster import KElbowVisualizer\n",
    "# !pip install yellowbrick.cluster\n",
    "\n",
    "kmeans = KElbowVisualizer(c.KMeans(), k=h77_clusters, timing = False)\n",
    "kmeans.fit(X)\n",
    "kmeans.show()  # getting best value k \n",
    "\n",
    "# knee method...."
   ]
  },
  {
   "cell_type": "markdown",
   "id": "753cb47d",
   "metadata": {},
   "source": [
    "## Sillhouette Score"
   ]
  },
  {
   "cell_type": "code",
   "execution_count": null,
   "id": "6b8c0b48",
   "metadata": {
    "ExecuteTime": {
     "end_time": "2022-11-15T16:38:09.582581Z",
     "start_time": "2022-11-15T16:37:59.752Z"
    }
   },
   "outputs": [],
   "source": [
    "kmeans_si = KElbowVisualizer(c.KMeans(), k=h77_clusters, metric = 'silhouette', timings = False)\n",
    "kmeans_si.fit(X)\n",
    "kmeans_si.show()"
   ]
  },
  {
   "cell_type": "markdown",
   "id": "0c3f52b2",
   "metadata": {
    "ExecuteTime": {
     "end_time": "2022-09-07T03:47:10.379446Z",
     "start_time": "2022-09-07T03:47:10.362915Z"
    }
   },
   "source": [
    "## Silhouette Analysis - KMeans"
   ]
  },
  {
   "cell_type": "code",
   "execution_count": null,
   "id": "eb708163",
   "metadata": {
    "ExecuteTime": {
     "end_time": "2022-11-15T16:38:09.584581Z",
     "start_time": "2022-11-15T16:37:59.763Z"
    }
   },
   "outputs": [],
   "source": [
    "h79_clusters = [8,9,10,11,12,13]\n",
    "\n",
    "fig, ax = plt.subplots(3,2, figsize = (25,18))\n",
    "pos = 1\n",
    "posi = 1\n",
    "for k in h79_clusters:\n",
    "    km = c.KMeans(n_clusters = k, init = 'random', n_init = 10, max_iter = 100, random_state = 42)\n",
    "    q, mod = divmod(k, 2)\n",
    "\n",
    "    visualizer = SilhouetteVisualizer(km, colors = 'yellowbrick', ax=ax[posi - 1][mod])\n",
    "    \n",
    "    if pos % 2 == 0:\n",
    "        posi += 1\n",
    "    pos += 1\n",
    "    \n",
    "    visualizer.fit(X)\n",
    "    visualizer.finalize()"
   ]
  },
  {
   "cell_type": "markdown",
   "id": "eff3f149",
   "metadata": {},
   "source": [
    "Silhouette now giving us much insight on the number of clusters. A lot more organized after opting for the embedded tree space."
   ]
  },
  {
   "cell_type": "markdown",
   "id": "8f651c42",
   "metadata": {},
   "source": [
    "# Model Training"
   ]
  },
  {
   "cell_type": "markdown",
   "id": "d50eae6a",
   "metadata": {},
   "source": [
    "## K-Means"
   ]
  },
  {
   "cell_type": "code",
   "execution_count": null,
   "id": "20e34338",
   "metadata": {
    "ExecuteTime": {
     "end_time": "2022-11-15T16:38:09.585580Z",
     "start_time": "2022-11-15T16:37:59.780Z"
    }
   },
   "outputs": [],
   "source": [
    "# model definition\n",
    "# Opting for 11 - it is not the optimum division, however \n",
    "# in terms of business and RFM goal, makes sense to go with a lower number,\n",
    "# silhouette score not the optimum, ok given the kind of problem.\n",
    "\n",
    "k = 11\n",
    "kmeans = c.KMeans(init = 'random', n_clusters = k, n_init = 10, max_iter = 300, random_state = 42)\n",
    "\n",
    "# model training\n",
    "kmeans.fit(X)\n",
    "\n",
    "# clustering\n",
    "# labels = kmeans.predict(X)\n",
    "labels = kmeans.labels_\n"
   ]
  },
  {
   "cell_type": "markdown",
   "id": "4515d2be",
   "metadata": {},
   "source": [
    "## Cluster Validation"
   ]
  },
  {
   "cell_type": "code",
   "execution_count": null,
   "id": "208f75ed",
   "metadata": {
    "ExecuteTime": {
     "end_time": "2022-11-15T16:38:09.587580Z",
     "start_time": "2022-11-15T16:37:59.790Z"
    }
   },
   "outputs": [],
   "source": [
    "# from sklearn import metrics as m"
   ]
  },
  {
   "cell_type": "code",
   "execution_count": null,
   "id": "6b5ec872",
   "metadata": {
    "ExecuteTime": {
     "end_time": "2022-11-15T16:38:09.589579Z",
     "start_time": "2022-11-15T16:37:59.800Z"
    }
   },
   "outputs": [],
   "source": [
    "# WSS (Whithin Cluster Sum of Squares)\n",
    "print( f'WSS Value: {kmeans.inertia_}')\n",
    "\n",
    "# SS ( Silhouette Score)\n",
    "print(f'SS Value: {m.silhouette_score(X, labels, metric = \"euclidean\")}')"
   ]
  },
  {
   "cell_type": "markdown",
   "id": "fc3bc842",
   "metadata": {},
   "source": [
    "# Cluster Analysis"
   ]
  },
  {
   "cell_type": "markdown",
   "id": "4e77310b",
   "metadata": {
    "ExecuteTime": {
     "end_time": "2022-11-14T14:29:28.228073Z",
     "start_time": "2022-11-14T14:29:28.215077Z"
    }
   },
   "source": [
    "- At this moment we are not applying the better model(hc) for this separation - todo: next review cycle."
   ]
  },
  {
   "cell_type": "markdown",
   "id": "4f62e2f8",
   "metadata": {},
   "source": [
    "## Visual Inspection"
   ]
  },
  {
   "cell_type": "code",
   "execution_count": null,
   "id": "642a0c2e",
   "metadata": {
    "ExecuteTime": {
     "end_time": "2022-11-15T16:38:09.591578Z",
     "start_time": "2022-11-15T16:37:59.813Z"
    },
    "scrolled": false
   },
   "outputs": [],
   "source": [
    "# df9 = df6.copy()\n",
    "df9 = X.copy()\n",
    "df9['cluster'] = labels\n",
    "df9.head()"
   ]
  },
  {
   "cell_type": "code",
   "execution_count": null,
   "id": "f731884a",
   "metadata": {
    "ExecuteTime": {
     "end_time": "2022-11-15T16:38:09.592578Z",
     "start_time": "2022-11-15T16:37:59.822Z"
    }
   },
   "outputs": [],
   "source": [
    "sns.scatterplot( x = 'embedding_x', y = 'embedding_y', data = df9, hue = 'cluster', palette = 'deep')\n",
    "plt.title('Visual Cluster Representation - k = 11, Forest Tree Regressor followed by UMAP > KMeans ', fontsize = 18)"
   ]
  },
  {
   "cell_type": "markdown",
   "id": "e3076dba",
   "metadata": {},
   "source": [
    "### Multi-Feature"
   ]
  },
  {
   "cell_type": "code",
   "execution_count": null,
   "id": "2f0926e6",
   "metadata": {
    "ExecuteTime": {
     "end_time": "2022-11-15T16:38:09.593577Z",
     "start_time": "2022-11-15T16:37:59.833Z"
    },
    "scrolled": false
   },
   "outputs": [],
   "source": [
    "visualizer = SilhouetteVisualizer(kmeans, colors = 'yellowbrick')\n",
    "visualizer.fit(X)\n",
    "visualizer.finalize()"
   ]
  },
  {
   "cell_type": "markdown",
   "id": "eefd8b6d",
   "metadata": {},
   "source": [
    "### 2d plot"
   ]
  },
  {
   "cell_type": "code",
   "execution_count": null,
   "id": "b40aef70",
   "metadata": {
    "ExecuteTime": {
     "end_time": "2022-11-15T16:38:09.595577Z",
     "start_time": "2022-11-15T16:37:59.843Z"
    }
   },
   "outputs": [],
   "source": [
    "df9.columns"
   ]
  },
  {
   "cell_type": "code",
   "execution_count": null,
   "id": "3ad01cd5",
   "metadata": {
    "ExecuteTime": {
     "end_time": "2022-11-15T16:38:09.596576Z",
     "start_time": "2022-11-15T16:37:59.851Z"
    },
    "scrolled": false
   },
   "outputs": [],
   "source": [
    "# previous cycle left over:\n",
    "# df_viz = df9.drop(columns = 'customer_id', axis = 1)\n",
    "# sns.pairplot(df_viz, hue = 'cluster')"
   ]
  },
  {
   "cell_type": "markdown",
   "id": "4224ea5d",
   "metadata": {},
   "source": [
    "### UMAP - t-SNE"
   ]
  },
  {
   "cell_type": "code",
   "execution_count": null,
   "id": "964fc523",
   "metadata": {
    "ExecuteTime": {
     "end_time": "2022-11-15T16:38:09.598576Z",
     "start_time": "2022-11-15T16:37:59.863Z"
    }
   },
   "outputs": [],
   "source": [
    "# Manifold\n",
    "# UMAP, t-SNE(2009) - MAnifold - Topology\n"
   ]
  },
  {
   "cell_type": "code",
   "execution_count": null,
   "id": "bd8c0dde",
   "metadata": {
    "ExecuteTime": {
     "end_time": "2022-11-15T16:38:09.599575Z",
     "start_time": "2022-11-15T16:37:59.871Z"
    }
   },
   "outputs": [],
   "source": [
    "# previou cycle left over:\n",
    "\n",
    "# # UMAP\n",
    "# reducer = umap.UMAP(n_neighbors = 9, random_state = 42)\n",
    "# reducer = umap.UMAP(random_state = 42)\n",
    "# embedding = reducer.fit_transform(X)\n",
    "\n",
    "# # embedding\n",
    "# df_viz['embedding_x'] = embedding[:,0]\n",
    "# df_viz['embedding_y'] = embedding[:,1]\n",
    "\n",
    "# #plotting umap\n",
    "# sns.scatterplot( x = 'embedding_x', y = 'embedding_y', \n",
    "#                 hue = 'cluster', \n",
    "#                 palette = sns.color_palette('hls', n_colors = len( df_viz['cluster'].unique() ) ), data = df_viz )"
   ]
  },
  {
   "cell_type": "markdown",
   "id": "f99b77ea",
   "metadata": {},
   "source": [
    "## Cluster Profile\n"
   ]
  },
  {
   "cell_type": "code",
   "execution_count": null,
   "id": "4f566323",
   "metadata": {
    "ExecuteTime": {
     "end_time": "2022-11-15T16:38:09.601575Z",
     "start_time": "2022-11-15T16:37:59.883Z"
    }
   },
   "outputs": [],
   "source": [
    "df9.head()"
   ]
  },
  {
   "cell_type": "code",
   "execution_count": null,
   "id": "2e32360e",
   "metadata": {
    "ExecuteTime": {
     "end_time": "2022-11-15T16:38:09.602574Z",
     "start_time": "2022-11-15T16:37:59.891Z"
    }
   },
   "outputs": [],
   "source": [
    "df4.gross_revenue.sum()"
   ]
  },
  {
   "cell_type": "code",
   "execution_count": null,
   "id": "ce012e46",
   "metadata": {
    "ExecuteTime": {
     "end_time": "2022-11-15T16:38:09.604574Z",
     "start_time": "2022-11-15T16:37:59.901Z"
    },
    "scrolled": true
   },
   "outputs": [],
   "source": [
    "\n",
    "df9_aux = df4.copy()\n",
    "df9_aux['cluster'] = labels\n",
    "\n",
    "# Number of Customers\n",
    "df_cluster = (df9_aux[['customer_id', 'cluster']].groupby('cluster').count().reset_index())\n",
    "df_cluster['perc_customer'] = 100 * (df_cluster['customer_id'] / df_cluster['customer_id'].sum())\n",
    "\n",
    "# Centroids - the group mean. \n",
    "\n",
    "# Avg Gross Revenue\n",
    "df_avg_gross_revenue = (df9_aux[['gross_revenue', 'cluster']].groupby('cluster').mean().reset_index())\n",
    "df_cluster = pd.merge(df_cluster, df_avg_gross_revenue, on = 'cluster', how = 'left')\n",
    "\n",
    "# Avg recency days\n",
    "df_avg_recency_days = (df9_aux[['recency_days', 'cluster']].groupby('cluster').mean().reset_index())\n",
    "df_cluster = pd.merge(df_cluster, df_avg_recency_days, on = 'cluster', how = 'left')\n",
    "\n",
    "# Avg invoices number\n",
    "df_inv = (df9_aux[['n_of_dif_products', 'cluster']].groupby('cluster').mean().reset_index())\n",
    "df_cluster = pd.merge(df_cluster, df_inv, on = 'cluster', how = 'left')\n",
    "\n",
    "# Frequency\n",
    "df_fre = (df9_aux[['frequency', 'cluster']].groupby('cluster').mean().reset_index())\n",
    "df_cluster = pd.merge(df_cluster, df_fre, on = 'cluster', how = 'left')\n",
    "\n",
    "# Returns\n",
    "df_ret = (df9_aux[['qtt_returns', 'cluster']].groupby('cluster').mean().reset_index())\n",
    "df_cluster = pd.merge(df_cluster, df_ret, on = 'cluster', how = 'left')\n",
    "\n",
    "df_cluster\n"
   ]
  },
  {
   "cell_type": "markdown",
   "id": "8d35a40d",
   "metadata": {
    "ExecuteTime": {
     "end_time": "2022-09-28T16:52:54.582984Z",
     "start_time": "2022-09-28T16:52:54.562993Z"
    }
   },
   "source": []
  },
  {
   "cell_type": "code",
   "execution_count": null,
   "id": "de8a3fb0",
   "metadata": {
    "ExecuteTime": {
     "end_time": "2022-11-15T16:38:09.606574Z",
     "start_time": "2022-11-15T16:37:59.911Z"
    }
   },
   "outputs": [],
   "source": [
    "df_cluster['frequency_min_max'] = mm.fit_transform(df_cluster[['frequency']])\n",
    "df_cluster['recency_min_max'] = mm.fit_transform(df_cluster[['recency_days']])\n",
    "df_cluster['recency_min_max'] = 1 - df_cluster['recency_min_max']\n",
    "df_cluster['bubble'] = df_cluster.gross_revenue // 10\n",
    "df_cluster.loc[3, 'bubble'] = 1400.0"
   ]
  },
  {
   "cell_type": "code",
   "execution_count": null,
   "id": "9122740a",
   "metadata": {
    "ExecuteTime": {
     "end_time": "2022-11-15T16:38:09.608573Z",
     "start_time": "2022-11-15T16:37:59.919Z"
    }
   },
   "outputs": [],
   "source": [
    "df_cluster.sort_values('gross_revenue', ascending = False)\n",
    "df_cluster['gross_revenue_log'] = np.log10(df_cluster['gross_revenue'])"
   ]
  },
  {
   "cell_type": "code",
   "execution_count": null,
   "id": "aab1892b",
   "metadata": {
    "ExecuteTime": {
     "end_time": "2022-11-15T16:38:09.609572Z",
     "start_time": "2022-11-15T16:37:59.928Z"
    },
    "scrolled": true
   },
   "outputs": [],
   "source": [
    "sns.scatterplot( x = 'recency_min_max', y = 'frequency_min_max', data = df_cluster, hue = 'cluster', palette = 'deep', size = 'gross_revenue_log', sizes = (100,1500) )\n",
    "plt.title('Clusters organized according to frequency and recency - minmax', fontsize = 16)\n",
    "plt.figtext(0.5,0.02, 'The size of the circles represent the monetary gross revenue - this graph\\nis a simple abstraction from the RFM(Recency, Frequency, Monetary model.)', horizontalalignment =  'center');"
   ]
  },
  {
   "cell_type": "code",
   "execution_count": null,
   "id": "3a02c5a7",
   "metadata": {
    "ExecuteTime": {
     "end_time": "2022-11-15T16:38:09.611572Z",
     "start_time": "2022-11-15T16:37:59.937Z"
    }
   },
   "outputs": [],
   "source": [
    "cluster_names = {\n",
    "    3 : 'Champion - Insiders',\n",
    "    7 : 'Loyal Customers',\n",
    "    5 : 'Promising recent 1',\n",
    "    4 : 'Promising recent 2',\n",
    "    6 : 'Promising 3',\n",
    "    9 : 'Attention needed - about to sleep',\n",
    "    0 : 'Attention needed 1',\n",
    "    10 :'Attention needed 2',\n",
    "    1 : 'Hybernating 1',\n",
    "    2 : 'Hybernating 2',\n",
    "    8 : 'About to lose'}\n",
    "df_cluster['cluster_name'] = df_cluster['cluster'].map(cluster_names)"
   ]
  },
  {
   "cell_type": "code",
   "execution_count": null,
   "id": "3a39e75d",
   "metadata": {
    "ExecuteTime": {
     "end_time": "2022-11-15T16:38:09.613571Z",
     "start_time": "2022-11-15T16:37:59.947Z"
    }
   },
   "outputs": [],
   "source": [
    "df_cluster"
   ]
  },
  {
   "cell_type": "markdown",
   "id": "bf4a9e60",
   "metadata": {},
   "source": [
    "### Cluster Synthesis"
   ]
  },
  {
   "cell_type": "code",
   "execution_count": null,
   "id": "97a3c82f",
   "metadata": {
    "ExecuteTime": {
     "end_time": "2022-11-15T16:38:09.614571Z",
     "start_time": "2022-11-15T16:37:59.957Z"
    }
   },
   "outputs": [],
   "source": [
    "# df_cluster.columns"
   ]
  },
  {
   "cell_type": "code",
   "execution_count": null,
   "id": "1cb19d22",
   "metadata": {
    "ExecuteTime": {
     "end_time": "2022-11-15T16:38:09.616570Z",
     "start_time": "2022-11-15T16:37:59.965Z"
    }
   },
   "outputs": [],
   "source": [
    "df_cluster.columns = ['cluster', 'number_of_customers', 'perc_customer', 'gross_revenue',\n",
    "       'recency_days', 'n_of_dif_products', 'frequency', 'qtt_returns',\n",
    "       'frequency_min_max', 'recency_min_max', 'aux_bubble', 'gross_revenue_log','cluster_name'\n",
    "       ]"
   ]
  },
  {
   "cell_type": "code",
   "execution_count": null,
   "id": "61302d70",
   "metadata": {
    "ExecuteTime": {
     "end_time": "2022-11-15T16:38:09.618570Z",
     "start_time": "2022-11-15T16:37:59.973Z"
    }
   },
   "outputs": [],
   "source": [
    "df_cluster_rep = df_cluster.sort_values('cluster').reset_index(drop = True)\n",
    "\n",
    "for i in range(len(np.unique(df_cluster_rep['cluster']))):\n",
    "    print('Cluster {}: \"{}\"'.format(df_cluster_rep.loc[i, 'cluster'], df_cluster_rep.loc[i, 'cluster_name']))\n",
    "    print(' - Number of customers {} ({:,.2f} % of total)'.format(df_cluster_rep.loc[i, 'number_of_customers'], df_cluster_rep.loc[i, 'perc_customer']) )\n",
    "    print(' - Average amount spent in total ${:,.2f} '.format(df_cluster_rep.loc[i, 'gross_revenue']) )\n",
    "    print(' - Average Recency (days) {:,.2f} \\n'.format(df_cluster_rep.loc[i, 'recency_days']) )"
   ]
  },
  {
   "cell_type": "markdown",
   "id": "140484ca",
   "metadata": {},
   "source": [
    "## Hypothesis Testing"
   ]
  },
  {
   "cell_type": "markdown",
   "id": "08f6ce6c",
   "metadata": {
    "ExecuteTime": {
     "end_time": "2022-09-26T10:07:08.837657Z",
     "start_time": "2022-09-26T10:07:08.827664Z"
    }
   },
   "source": [
    "### MindMap"
   ]
  },
  {
   "cell_type": "code",
   "execution_count": null,
   "id": "26091be1",
   "metadata": {
    "ExecuteTime": {
     "end_time": "2022-11-15T16:38:09.619569Z",
     "start_time": "2022-11-15T16:37:59.986Z"
    }
   },
   "outputs": [],
   "source": [
    "df10 = df9_aux.copy()\n",
    "df10['cluster_name'] = df10['cluster'].map(cluster_names)\n",
    "# df10.sample(8)"
   ]
  },
  {
   "cell_type": "markdown",
   "id": "7a4656ac",
   "metadata": {},
   "source": [
    "- Modeling the phenomena.\n",
    "- Understanding entities (customer, location, family, income)\n",
    "- Entity properties (eg. customer: income, education, age group, etc)\n"
   ]
  },
  {
   "cell_type": "code",
   "execution_count": null,
   "id": "a593cddb",
   "metadata": {
    "ExecuteTime": {
     "end_time": "2022-11-15T16:38:09.621568Z",
     "start_time": "2022-11-15T16:37:59.999Z"
    },
    "scrolled": false
   },
   "outputs": [],
   "source": [
    "from IPython.core.display import Image\n",
    "Image(home_path + 'mindmap.png')"
   ]
  },
  {
   "cell_type": "markdown",
   "id": "73a9fea0",
   "metadata": {
    "ExecuteTime": {
     "end_time": "2022-09-26T10:13:58.343330Z",
     "start_time": "2022-09-26T10:13:58.325323Z"
    }
   },
   "source": [
    "### Hypothesis Purchases: "
   ]
  },
  {
   "cell_type": "markdown",
   "id": "2d06abc1",
   "metadata": {},
   "source": [
    "#### Insiders cluster customers represent more than 20% of total revenue."
   ]
  },
  {
   "cell_type": "code",
   "execution_count": null,
   "id": "e52c9a8a",
   "metadata": {
    "ExecuteTime": {
     "end_time": "2022-11-15T16:38:09.622568Z",
     "start_time": "2022-11-15T16:38:00.019Z"
    }
   },
   "outputs": [],
   "source": [
    "insiders = df10.loc[df10['cluster'] == 3, 'gross_revenue'].sum()\n",
    "# df_sales_not_insiders = df10.loc[df10['cluster'] == 3, 'item_ammt'].median()\n",
    "total =df10.loc[:, 'gross_revenue'].sum()\n",
    "print ( 'insiders / total: {:.2f}%'.format(insiders / total * 100) )"
   ]
  },
  {
   "cell_type": "markdown",
   "id": "8344f886",
   "metadata": {},
   "source": [
    "TRUE. Insiders represent more than 30% of gross revenue"
   ]
  },
  {
   "cell_type": "markdown",
   "id": "5256dc8a",
   "metadata": {
    "ExecuteTime": {
     "end_time": "2022-09-29T11:52:32.660272Z",
     "start_time": "2022-09-29T11:52:32.654275Z"
    }
   },
   "source": [
    "####  Customers in the Insiders cluster have a number of returns below the average of the total customer base.\n"
   ]
  },
  {
   "cell_type": "code",
   "execution_count": null,
   "id": "89e03924",
   "metadata": {
    "ExecuteTime": {
     "end_time": "2022-11-15T16:38:09.624567Z",
     "start_time": "2022-11-15T16:38:00.034Z"
    }
   },
   "outputs": [],
   "source": [
    "# avg returns inside\n",
    "df_avg_return_insiders = df10.loc[df10['cluster'] == 3, 'qtt_returns'].mean()\n",
    "\n",
    "# avg return total\n",
    "df_avg_return_all = df10['qtt_returns'].mean()\n",
    "\n",
    "#\n",
    "print( 'Avg Return Insiders: {} vs Avg Return All:{}'.format( np.round( df_avg_return_insiders, 0 ), \n",
    "                                                              np.round( df_avg_return_all, 0 ) ) )"
   ]
  },
  {
   "cell_type": "markdown",
   "id": "bfcb66c8",
   "metadata": {},
   "source": [
    "FALSE. Average return for insiders are higher."
   ]
  },
  {
   "cell_type": "markdown",
   "id": "a577864a",
   "metadata": {
    "ExecuteTime": {
     "end_time": "2022-09-29T12:10:44.311201Z",
     "start_time": "2022-09-29T12:10:44.307216Z"
    }
   },
   "source": [
    "#### Cheaper products are more transactioned than expensive ones."
   ]
  },
  {
   "cell_type": "code",
   "execution_count": null,
   "id": "a0b232ef",
   "metadata": {
    "ExecuteTime": {
     "end_time": "2022-11-15T16:38:09.627566Z",
     "start_time": "2022-11-15T16:38:00.049Z"
    }
   },
   "outputs": [],
   "source": [
    "\n",
    "\n",
    "bins = list(range(0,1100,100))\n",
    "df2['binned_price'] = pd.cut(df2['unit_price'], bins=bins)\n",
    "\n",
    "aux2 = df2[['unit_price','binned_price']].groupby('binned_price').count().reset_index()\n",
    "# plt.subplot(1,3,2)\n",
    "# sns.barplot(x = 'binned_price', y = 'unit_price', data = aux2)\n",
    "aux2.columns = ['binned_price', 'transactions_ammt']\n",
    "aux2"
   ]
  },
  {
   "cell_type": "markdown",
   "id": "6570ddb1",
   "metadata": {},
   "source": [
    "TRUE. Most of transactions comprehend products up to 100 euros."
   ]
  },
  {
   "cell_type": "markdown",
   "id": "e679456a",
   "metadata": {},
   "source": [
    "#### Customers in the Insiders program account for more than 30% of company gross revenue."
   ]
  },
  {
   "cell_type": "code",
   "execution_count": null,
   "id": "9349d106",
   "metadata": {
    "ExecuteTime": {
     "end_time": "2022-11-15T16:38:09.628566Z",
     "start_time": "2022-11-15T16:38:00.065Z"
    },
    "scrolled": true
   },
   "outputs": [],
   "source": [
    "# defining dataset with cluster names\n",
    "# names = {\"4\" : \"Insiders\", \"1\" : \"Potential Loyalists\", \"0\" : \"Loyal Customers\", \"2\" : \"Promissing 1\", \"8\" : \"Need Attention 1\", \"6\" : \"Promising 2\", \"7\" : \"Need Attention 2\", \"5\" : \"Hibernating 1\", \"10\" : \"Churn 1\", \"3\" : \"Price Sensitive\", \"9\" : \"Churn 2\", \"11\" : \"Hibernating 2\", \"-1\" : 'Noise' }\n",
    "\n",
    "\n",
    "# summing revenue by cluster\n",
    "df_agg = df10[['cluster', 'gross_revenue']].copy()\n",
    "df_agg = df_agg.groupby('cluster').sum().reset_index()\n",
    "df_agg['cluster_name'] = df_agg['cluster'].map(cluster_names)\n",
    "# df_agg"
   ]
  },
  {
   "cell_type": "code",
   "execution_count": null,
   "id": "689dacfe",
   "metadata": {
    "ExecuteTime": {
     "end_time": "2022-11-15T16:38:09.630565Z",
     "start_time": "2022-11-15T16:38:00.073Z"
    },
    "scrolled": false
   },
   "outputs": [],
   "source": [
    "# ploting the results\n",
    "bar = sns.barplot(data = df_agg, x = 'cluster_name', y = 'gross_revenue', palette = 'husl'); \n",
    "plt.title(\"Gross Revenue and % of customers in each group\", fontsize = 22);\n",
    "#plt.figtext(0.5,0, 'he')\n",
    "bar_order = list(df_agg['cluster_name'].unique())\n",
    "spots = zip(bar.patches, bar_order)\n",
    "for spot in spots:\n",
    "    total = df_agg['gross_revenue'].sum()\n",
    "    class_total = df_agg[df_agg['cluster_name'] == spot[1]]['gross_revenue']\n",
    "    \n",
    "    percent = float(class_total/total*100)\n",
    "\n",
    "    height = spot[0].get_height()\n",
    "    bar.text(spot[0].get_x()+0.3, height+5, '{:.2f}%'.format(percent), fontsize = 14 )\n"
   ]
  },
  {
   "cell_type": "markdown",
   "id": "09376042",
   "metadata": {},
   "source": [
    "TRUE. They account for almost 31,79%."
   ]
  },
  {
   "cell_type": "markdown",
   "id": "4f41c111",
   "metadata": {
    "ExecuteTime": {
     "end_time": "2022-09-29T12:12:32.112034Z",
     "start_time": "2022-09-29T12:12:32.099039Z"
    }
   },
   "source": [
    "### Business questions"
   ]
  },
  {
   "cell_type": "markdown",
   "id": "c926ffb3",
   "metadata": {},
   "source": [
    "#### Who are the people elegible for the Insiders program?"
   ]
  },
  {
   "cell_type": "code",
   "execution_count": null,
   "id": "37c7034c",
   "metadata": {
    "ExecuteTime": {
     "end_time": "2022-11-15T16:38:09.632565Z",
     "start_time": "2022-11-15T16:38:00.088Z"
    }
   },
   "outputs": [],
   "source": [
    "insiders_id = list(df10.loc[df10['cluster'] == 3, 'customer_id'])\n",
    "print(insiders_id)"
   ]
  },
  {
   "cell_type": "markdown",
   "id": "15e24488",
   "metadata": {},
   "source": [
    "#### How many people are part of this group?"
   ]
  },
  {
   "cell_type": "code",
   "execution_count": null,
   "id": "a277b06c",
   "metadata": {
    "ExecuteTime": {
     "end_time": "2022-11-15T16:38:09.633564Z",
     "start_time": "2022-11-15T16:38:00.101Z"
    }
   },
   "outputs": [],
   "source": [
    "print(df10.loc[df10['cluster'] == 3, 'customer_id'].size)"
   ]
  },
  {
   "cell_type": "markdown",
   "id": "7f550067",
   "metadata": {},
   "source": [
    "#### What are the main characteristics of the insiders group?"
   ]
  },
  {
   "cell_type": "code",
   "execution_count": null,
   "id": "d20f16e2",
   "metadata": {
    "ExecuteTime": {
     "end_time": "2022-11-15T16:38:09.635564Z",
     "start_time": "2022-11-15T16:38:00.113Z"
    }
   },
   "outputs": [],
   "source": [
    "print(f\"Total Number of Insiders: {len(df10.loc[df10['cluster'] == 3, 'customer_id'])} out of {len(df10['customer_id'])}\")\n",
    "print(f\"Average Gross Revenue Insiders: {df10.loc[df10['cluster'] == 3, 'gross_revenue'].mean():.2f}, Overall: {df10['gross_revenue'].mean():.2f}\")\n",
    "print(f\"Median Gross Revenue Insiders: {df10.loc[df10['cluster'] == 3, 'gross_revenue'].median():.2f}, Overall: {df10['gross_revenue'].median():.2f}\")\n",
    "print(f\"Average Recency Insiders: {df10.loc[df10['cluster'] == 3, 'recency_days'].mean():.2f}, Overall: {df10['recency_days'].mean():.2f}\")\n",
    "print(f\"Average Frequency Insiders: {df10.loc[df10['cluster'] == 3, 'frequency'].mean():.2f}, Overall: {df10['frequency'].mean():.2f}\")\n",
    "print(f\"Average different products purchased Insiders: {df10.loc[df10['cluster'] == 3, 'avg_basket_size'].mean():.2f}, Overall: {df10['avg_basket_size'].mean():.2f}\")\n"
   ]
  },
  {
   "cell_type": "code",
   "execution_count": null,
   "id": "ff47114d",
   "metadata": {
    "ExecuteTime": {
     "end_time": "2022-11-15T16:38:09.636565Z",
     "start_time": "2022-11-15T16:38:00.121Z"
    }
   },
   "outputs": [],
   "source": [
    "# Break here"
   ]
  },
  {
   "cell_type": "markdown",
   "id": "2e821b89",
   "metadata": {
    "ExecuteTime": {
     "end_time": "2022-08-28T12:00:27.590402Z",
     "start_time": "2022-08-28T12:00:27.582403Z"
    }
   },
   "source": [
    "# Deploy to production"
   ]
  },
  {
   "cell_type": "code",
   "execution_count": null,
   "id": "cbd2c0c9",
   "metadata": {
    "ExecuteTime": {
     "end_time": "2022-11-15T16:38:09.637563Z",
     "start_time": "2022-11-15T16:38:00.133Z"
    }
   },
   "outputs": [],
   "source": [
    "\n",
    "# from sqlalchemy import create_engine\n",
    "\n",
    "# host = \n",
    "# port = 5432\n",
    "# database ='postgres'\n",
    "# user = 'postgres'\n",
    "# pwd = \n",
    "# endpoint = f'postgresql://{user}:{pwd}@{host}:{port}'\n",
    "\n",
    "# conn = create_engine(endpoint)\n",
    "\n"
   ]
  },
  {
   "cell_type": "code",
   "execution_count": null,
   "id": "1d117c80",
   "metadata": {
    "ExecuteTime": {
     "end_time": "2022-11-15T16:38:09.638563Z",
     "start_time": "2022-11-15T16:38:00.141Z"
    }
   },
   "outputs": [],
   "source": [
    "# query_table_df10_creation = '''\n",
    "#     CREATE TABLE df_10_insiders (\n",
    "#         customer_id            INTEGER,\n",
    "#         gross_revenue          REAL,\n",
    "#         recency_days           INTEGER,\n",
    "#         invoice_ammt           INTEGER,\n",
    "#         item_ammt              INTEGER,\n",
    "#         n_of_dif_products      INTEGER,\n",
    "#         avg_ticket             REAL,\n",
    "#         avg_recency_days       REAL,\n",
    "#         frequency              REAL,\n",
    "#         qtt_returns            INTEGER,\n",
    "#         avg_basket_size        REAL,\n",
    "#         avg_unique_basket_size REAL,\n",
    "#         cluster                INTEGER,\n",
    "#         cluster_name           TEXT\n",
    "#     )\n",
    "#     '''\n",
    "\n",
    "# query_table_df_cluster_creation = '''\n",
    "#     CREATE TABLE df_cluster (\n",
    "#         cluster                INTEGER,\n",
    "#         number_of_customers    INTEGER,\n",
    "#         perc_customer          REAL,\n",
    "#         gross_revenue          REAL,\n",
    "#         recency_days           REAL,\n",
    "#         n_of_dif_products      REAL,\n",
    "#         frequency              REAL,\n",
    "#         qtt_returns            REAL,\n",
    "#         frequency_min_max      REAL,\n",
    "#         recency_min_max        REAL,\n",
    "#         aux_bubble             REAL,\n",
    "#         gross_revenue_log      REAL,\n",
    "#         cluster_name           TEXT\n",
    "#     )\n",
    "#     '''\n",
    "        \n",
    "\n",
    "# conn.execute(query_table_df10_creation)\n",
    "# conn.execute(query_table_df_cluster_creation)\n"
   ]
  },
  {
   "cell_type": "code",
   "execution_count": null,
   "id": "ea25d09b",
   "metadata": {
    "ExecuteTime": {
     "end_time": "2022-11-15T16:38:09.639562Z",
     "start_time": "2022-11-15T16:38:00.151Z"
    }
   },
   "outputs": [],
   "source": [
    "# df10.to_sql( 'df_10_insiders', con=conn, if_exists='append', index=False )\n",
    "\n",
    "# df_cluster.to_sql( 'df_cluster', con=conn, if_exists='append', index=False )"
   ]
  },
  {
   "cell_type": "code",
   "execution_count": null,
   "id": "05a68201",
   "metadata": {
    "ExecuteTime": {
     "end_time": "2022-11-15T16:38:09.640562Z",
     "start_time": "2022-11-15T16:38:00.159Z"
    }
   },
   "outputs": [],
   "source": [
    "# conn.close()"
   ]
  }
 ],
 "metadata": {
  "hide_input": false,
  "kernelspec": {
   "display_name": "Python 3",
   "language": "python",
   "name": "python3"
  },
  "language_info": {
   "codemirror_mode": {
    "name": "ipython",
    "version": 3
   },
   "file_extension": ".py",
   "mimetype": "text/x-python",
   "name": "python",
   "nbconvert_exporter": "python",
   "pygments_lexer": "ipython3",
   "version": "3.8.8"
  },
  "toc": {
   "base_numbering": 1,
   "nav_menu": {
    "height": "721px",
    "width": "332px"
   },
   "number_sections": true,
   "sideBar": true,
   "skip_h1_title": false,
   "title_cell": "Table of Contents",
   "title_sidebar": "Contents",
   "toc_cell": false,
   "toc_position": {
    "height": "747px",
    "left": "56px",
    "top": "111.133px",
    "width": "770px"
   },
   "toc_section_display": true,
   "toc_window_display": false
  }
 },
 "nbformat": 4,
 "nbformat_minor": 5
}
