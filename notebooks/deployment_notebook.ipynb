{
 "cells": [
  {
   "cell_type": "markdown",
   "id": "d652c8de",
   "metadata": {},
   "source": [
    "This project refers to an online retailer/wholesaler that sells through an e-commerce platform. The aim is to create a VIP club for important customers with access to extra perks. Customers will be selected according to the frequency and amount they buy. This program will be called “Insiders”. Using data manipulation techniques, customers will be grouped(clustered) according to similarities.\n",
    "\n",
    "\n",
    "\n",
    "\n",
    "**Solution Planning (IOT)**\n",
    "\n",
    "**Input**  \n",
    "\n",
    "    - Business Problem: Select the most valuable customers to join a loyalty program.  \n",
    "    - Dataset: E-commerce online sales.  \n",
    "**Output**  \n",
    "\n",
    "    1.List of customers who will join the Insiders program.  \n",
    "    2.Answer questions  \n",
    "    1.Who are the people eligible to join the Insiders program?  \n",
    "    2.How many customers will be part of the group?  \n",
    "    3.What are characteristics of these customers?  \n",
    "    4.What is the percentage of revenue contribution coming from the Insiders?  \n",
    "    5.What is the expected revenue of this group for the next months?  \n",
    "**Tasks**  \n",
    "\n",
    "1.Segment customers eligible to join the Insiders program. \n",
    "    •\tWhat is being eligible? What are the most valuable customers?  \n",
    "    •\tRevenue:  \n",
    "    \n",
    "    - High average ticket  \n",
    "    - High LTV (Life Time Value)  \n",
    "    - Low Recency (last time of purchase)  \n",
    "    - Big basket size  \n",
    "    - Low churn probability  \n",
    "   •   Cost:  \n",
    "    - Low return rate  \n",
    "2. How many customers will be part of the group?  \n",
    "Total number of customers vs % of Insiders Group  \n",
    "3. What are the main characteristics of these customers?  \n",
    "•\tClustering attributes  \n",
    "4. What is the percentage of revenue contribution coming from the Insiders?  \n",
    "•\tAnual total revenue  \n",
    "•\tInsiders' revenue  \n",
    "5. What is the expected revenue of this group for the next months?  \n",
    "•\tInsiders' LTV\n",
    "•\tCohort Analysis\n",
    "•\tTimeseries (ARIMA, ARMA, Prophet)\n",
    "6. What actions can the marketing team take to increase revenue?  \n",
    "•\tDiscount  \n",
    "•\tShipping  \n",
    "•\tCompany visit  \n",
    "•\tPerks  \n",
    "\n",
    "**Benchmark guide: RFM Model:**\n",
    "\n",
    "![RFM Model](./rfm.png)\n",
    "\n",
    "The goal is to extract clusters that best fit the RFM(Recency, Frequency, Monetary) model.\n",
    "\n",
    "\n"
   ]
  },
  {
   "cell_type": "markdown",
   "id": "b4c94556",
   "metadata": {},
   "source": [
    "## Imports"
   ]
  },
  {
   "cell_type": "code",
   "execution_count": null,
   "id": "20ac221f",
   "metadata": {
    "ExecuteTime": {
     "end_time": "2022-09-10T09:54:10.108796Z",
     "start_time": "2022-09-10T09:53:47.633973Z"
    }
   },
   "outputs": [],
   "source": []
  },
  {
   "cell_type": "code",
   "execution_count": 1,
   "id": "a69e8cb5",
   "metadata": {
    "ExecuteTime": {
     "end_time": "2022-11-11T17:07:49.622736Z",
     "start_time": "2022-11-11T17:07:40.353679Z"
    },
    "scrolled": true
   },
   "outputs": [],
   "source": [
    "import pandas  as pd\n",
    "import numpy   as np\n",
    "import seaborn as sns\n",
    "import umap.umap_ as umap\n",
    "import pickle\n",
    "\n",
    "from matplotlib import pyplot as plt\n",
    "from IPython.display import HTML\n",
    "from IPython.core.display import Image\n",
    "\n",
    "# from pandas_profiling import ProfileReport\n",
    "\n",
    "from sklearn import cluster as c\n",
    "from sklearn import metrics as m\n",
    "from sklearn import preprocessing as pp\n",
    "from plotly import express as px\n",
    "from sklearn import decomposition as dd\n",
    "from sklearn import ensemble as en\n",
    "from sklearn import mixture as mx\n",
    "from sklearn.neighbors import NearestNeighbors\n",
    "from sklearn.manifold import TSNE\n",
    "\n",
    "\n",
    "from yellowbrick.cluster import KElbowVisualizer, SilhouetteVisualizer"
   ]
  },
  {
   "cell_type": "markdown",
   "id": "1dbf64aa",
   "metadata": {},
   "source": [
    "## Helper functions"
   ]
  },
  {
   "cell_type": "code",
   "execution_count": 2,
   "id": "b84c4aa1",
   "metadata": {
    "ExecuteTime": {
     "end_time": "2022-11-11T17:07:49.670707Z",
     "start_time": "2022-11-11T17:07:49.624722Z"
    }
   },
   "outputs": [
    {
     "name": "stdout",
     "output_type": "stream",
     "text": [
      "Populating the interactive namespace from numpy and matplotlib\n"
     ]
    },
    {
     "data": {
      "text/html": [
       "<style>.container { width:100% !important;}</style>"
      ],
      "text/plain": [
       "<IPython.core.display.HTML object>"
      ]
     },
     "metadata": {},
     "output_type": "display_data"
    }
   ],
   "source": [
    "def jupyter_settings():\n",
    "    %matplotlib inline\n",
    "    %pylab inline\n",
    "    \n",
    "    plt.style.use('ggplot')\n",
    "    plt.rcParams['figure.figsize'] = [24,9]\n",
    "    plt.rcParams['font.size'] = 24\n",
    "    \n",
    "    display(HTML('<style>.container { width:100% !important;}</style>'))\n",
    "    pd.options.display.max_columns = None\n",
    "    pd.options.display.max_rows = None\n",
    "    pd.set_option('display.expand_frame_repr', False)\n",
    "    \n",
    "    sns.set()\n",
    "\n",
    "jupyter_settings()"
   ]
  },
  {
   "cell_type": "markdown",
   "id": "2685c52a",
   "metadata": {},
   "source": [
    "## Load dataset"
   ]
  },
  {
   "cell_type": "code",
   "execution_count": 3,
   "id": "53c39ee3",
   "metadata": {
    "ExecuteTime": {
     "end_time": "2022-11-11T17:07:50.613408Z",
     "start_time": "2022-11-11T17:07:49.672706Z"
    }
   },
   "outputs": [],
   "source": [
    "df_raw = pd.read_csv('../data/raw/data.csv', encoding = \"ISO-8859-1\")  # when exporting to linux machine, generates encoding error, not utf-8"
   ]
  },
  {
   "cell_type": "code",
   "execution_count": 4,
   "id": "62553723",
   "metadata": {
    "ExecuteTime": {
     "end_time": "2022-11-11T17:07:50.629402Z",
     "start_time": "2022-11-11T17:07:50.616406Z"
    }
   },
   "outputs": [
    {
     "data": {
      "text/plain": [
       "(541909, 9)"
      ]
     },
     "execution_count": 4,
     "metadata": {},
     "output_type": "execute_result"
    }
   ],
   "source": [
    "df_raw.shape"
   ]
  },
  {
   "cell_type": "code",
   "execution_count": 5,
   "id": "67fb97fa",
   "metadata": {
    "ExecuteTime": {
     "end_time": "2022-11-11T17:07:50.677387Z",
     "start_time": "2022-11-11T17:07:50.632400Z"
    }
   },
   "outputs": [
    {
     "data": {
      "text/html": [
       "<div>\n",
       "<style scoped>\n",
       "    .dataframe tbody tr th:only-of-type {\n",
       "        vertical-align: middle;\n",
       "    }\n",
       "\n",
       "    .dataframe tbody tr th {\n",
       "        vertical-align: top;\n",
       "    }\n",
       "\n",
       "    .dataframe thead th {\n",
       "        text-align: right;\n",
       "    }\n",
       "</style>\n",
       "<table border=\"1\" class=\"dataframe\">\n",
       "  <thead>\n",
       "    <tr style=\"text-align: right;\">\n",
       "      <th></th>\n",
       "      <th>InvoiceNo</th>\n",
       "      <th>StockCode</th>\n",
       "      <th>Description</th>\n",
       "      <th>Quantity</th>\n",
       "      <th>InvoiceDate</th>\n",
       "      <th>UnitPrice</th>\n",
       "      <th>CustomerID</th>\n",
       "      <th>Country</th>\n",
       "      <th>Unnamed: 8</th>\n",
       "    </tr>\n",
       "  </thead>\n",
       "  <tbody>\n",
       "    <tr>\n",
       "      <th>0</th>\n",
       "      <td>536365</td>\n",
       "      <td>85123A</td>\n",
       "      <td>WHITE HANGING HEART T-LIGHT HOLDER</td>\n",
       "      <td>6</td>\n",
       "      <td>29-Nov-16</td>\n",
       "      <td>2.55</td>\n",
       "      <td>17850.0</td>\n",
       "      <td>United Kingdom</td>\n",
       "      <td>NaN</td>\n",
       "    </tr>\n",
       "    <tr>\n",
       "      <th>1</th>\n",
       "      <td>536365</td>\n",
       "      <td>71053</td>\n",
       "      <td>WHITE METAL LANTERN</td>\n",
       "      <td>6</td>\n",
       "      <td>29-Nov-16</td>\n",
       "      <td>3.39</td>\n",
       "      <td>17850.0</td>\n",
       "      <td>United Kingdom</td>\n",
       "      <td>NaN</td>\n",
       "    </tr>\n",
       "    <tr>\n",
       "      <th>2</th>\n",
       "      <td>536365</td>\n",
       "      <td>84406B</td>\n",
       "      <td>CREAM CUPID HEARTS COAT HANGER</td>\n",
       "      <td>8</td>\n",
       "      <td>29-Nov-16</td>\n",
       "      <td>2.75</td>\n",
       "      <td>17850.0</td>\n",
       "      <td>United Kingdom</td>\n",
       "      <td>NaN</td>\n",
       "    </tr>\n",
       "    <tr>\n",
       "      <th>3</th>\n",
       "      <td>536365</td>\n",
       "      <td>84029G</td>\n",
       "      <td>KNITTED UNION FLAG HOT WATER BOTTLE</td>\n",
       "      <td>6</td>\n",
       "      <td>29-Nov-16</td>\n",
       "      <td>3.39</td>\n",
       "      <td>17850.0</td>\n",
       "      <td>United Kingdom</td>\n",
       "      <td>NaN</td>\n",
       "    </tr>\n",
       "    <tr>\n",
       "      <th>4</th>\n",
       "      <td>536365</td>\n",
       "      <td>84029E</td>\n",
       "      <td>RED WOOLLY HOTTIE WHITE HEART.</td>\n",
       "      <td>6</td>\n",
       "      <td>29-Nov-16</td>\n",
       "      <td>3.39</td>\n",
       "      <td>17850.0</td>\n",
       "      <td>United Kingdom</td>\n",
       "      <td>NaN</td>\n",
       "    </tr>\n",
       "  </tbody>\n",
       "</table>\n",
       "</div>"
      ],
      "text/plain": [
       "  InvoiceNo StockCode                          Description  Quantity InvoiceDate  UnitPrice  CustomerID         Country  Unnamed: 8\n",
       "0    536365    85123A   WHITE HANGING HEART T-LIGHT HOLDER         6   29-Nov-16       2.55     17850.0  United Kingdom         NaN\n",
       "1    536365     71053                  WHITE METAL LANTERN         6   29-Nov-16       3.39     17850.0  United Kingdom         NaN\n",
       "2    536365    84406B       CREAM CUPID HEARTS COAT HANGER         8   29-Nov-16       2.75     17850.0  United Kingdom         NaN\n",
       "3    536365    84029G  KNITTED UNION FLAG HOT WATER BOTTLE         6   29-Nov-16       3.39     17850.0  United Kingdom         NaN\n",
       "4    536365    84029E       RED WOOLLY HOTTIE WHITE HEART.         6   29-Nov-16       3.39     17850.0  United Kingdom         NaN"
      ]
     },
     "execution_count": 5,
     "metadata": {},
     "output_type": "execute_result"
    }
   ],
   "source": [
    "df_raw.head()"
   ]
  },
  {
   "cell_type": "code",
   "execution_count": 6,
   "id": "834d7fa7",
   "metadata": {
    "ExecuteTime": {
     "end_time": "2022-11-11T17:07:50.772356Z",
     "start_time": "2022-11-11T17:07:50.680388Z"
    }
   },
   "outputs": [
    {
     "data": {
      "text/html": [
       "<div>\n",
       "<style scoped>\n",
       "    .dataframe tbody tr th:only-of-type {\n",
       "        vertical-align: middle;\n",
       "    }\n",
       "\n",
       "    .dataframe tbody tr th {\n",
       "        vertical-align: top;\n",
       "    }\n",
       "\n",
       "    .dataframe thead th {\n",
       "        text-align: right;\n",
       "    }\n",
       "</style>\n",
       "<table border=\"1\" class=\"dataframe\">\n",
       "  <thead>\n",
       "    <tr style=\"text-align: right;\">\n",
       "      <th></th>\n",
       "      <th>InvoiceNo</th>\n",
       "      <th>StockCode</th>\n",
       "      <th>Description</th>\n",
       "      <th>Quantity</th>\n",
       "      <th>InvoiceDate</th>\n",
       "      <th>UnitPrice</th>\n",
       "      <th>CustomerID</th>\n",
       "      <th>Country</th>\n",
       "    </tr>\n",
       "  </thead>\n",
       "  <tbody>\n",
       "    <tr>\n",
       "      <th>0</th>\n",
       "      <td>536365</td>\n",
       "      <td>85123A</td>\n",
       "      <td>WHITE HANGING HEART T-LIGHT HOLDER</td>\n",
       "      <td>6</td>\n",
       "      <td>29-Nov-16</td>\n",
       "      <td>2.55</td>\n",
       "      <td>17850.0</td>\n",
       "      <td>United Kingdom</td>\n",
       "    </tr>\n",
       "    <tr>\n",
       "      <th>1</th>\n",
       "      <td>536365</td>\n",
       "      <td>71053</td>\n",
       "      <td>WHITE METAL LANTERN</td>\n",
       "      <td>6</td>\n",
       "      <td>29-Nov-16</td>\n",
       "      <td>3.39</td>\n",
       "      <td>17850.0</td>\n",
       "      <td>United Kingdom</td>\n",
       "    </tr>\n",
       "    <tr>\n",
       "      <th>2</th>\n",
       "      <td>536365</td>\n",
       "      <td>84406B</td>\n",
       "      <td>CREAM CUPID HEARTS COAT HANGER</td>\n",
       "      <td>8</td>\n",
       "      <td>29-Nov-16</td>\n",
       "      <td>2.75</td>\n",
       "      <td>17850.0</td>\n",
       "      <td>United Kingdom</td>\n",
       "    </tr>\n",
       "    <tr>\n",
       "      <th>3</th>\n",
       "      <td>536365</td>\n",
       "      <td>84029G</td>\n",
       "      <td>KNITTED UNION FLAG HOT WATER BOTTLE</td>\n",
       "      <td>6</td>\n",
       "      <td>29-Nov-16</td>\n",
       "      <td>3.39</td>\n",
       "      <td>17850.0</td>\n",
       "      <td>United Kingdom</td>\n",
       "    </tr>\n",
       "    <tr>\n",
       "      <th>4</th>\n",
       "      <td>536365</td>\n",
       "      <td>84029E</td>\n",
       "      <td>RED WOOLLY HOTTIE WHITE HEART.</td>\n",
       "      <td>6</td>\n",
       "      <td>29-Nov-16</td>\n",
       "      <td>3.39</td>\n",
       "      <td>17850.0</td>\n",
       "      <td>United Kingdom</td>\n",
       "    </tr>\n",
       "  </tbody>\n",
       "</table>\n",
       "</div>"
      ],
      "text/plain": [
       "  InvoiceNo StockCode                          Description  Quantity InvoiceDate  UnitPrice  CustomerID         Country\n",
       "0    536365    85123A   WHITE HANGING HEART T-LIGHT HOLDER         6   29-Nov-16       2.55     17850.0  United Kingdom\n",
       "1    536365     71053                  WHITE METAL LANTERN         6   29-Nov-16       3.39     17850.0  United Kingdom\n",
       "2    536365    84406B       CREAM CUPID HEARTS COAT HANGER         8   29-Nov-16       2.75     17850.0  United Kingdom\n",
       "3    536365    84029G  KNITTED UNION FLAG HOT WATER BOTTLE         6   29-Nov-16       3.39     17850.0  United Kingdom\n",
       "4    536365    84029E       RED WOOLLY HOTTIE WHITE HEART.         6   29-Nov-16       3.39     17850.0  United Kingdom"
      ]
     },
     "execution_count": 6,
     "metadata": {},
     "output_type": "execute_result"
    }
   ],
   "source": [
    "df_raw.drop('Unnamed: 8',axis = 1, inplace = True)\n",
    "df_raw.head()"
   ]
  },
  {
   "cell_type": "markdown",
   "id": "ae7aeb4a",
   "metadata": {},
   "source": [
    "# Data Preparation"
   ]
  },
  {
   "cell_type": "code",
   "execution_count": 7,
   "id": "fe4cc04f",
   "metadata": {
    "ExecuteTime": {
     "end_time": "2022-11-11T17:07:50.803346Z",
     "start_time": "2022-11-11T17:07:50.774356Z"
    }
   },
   "outputs": [],
   "source": [
    "df1 = df_raw.copy()"
   ]
  },
  {
   "cell_type": "markdown",
   "id": "cdd2e745",
   "metadata": {},
   "source": [
    "## Columns Rename"
   ]
  },
  {
   "cell_type": "code",
   "execution_count": 8,
   "id": "b3a60bca",
   "metadata": {
    "ExecuteTime": {
     "end_time": "2022-11-11T17:07:50.819341Z",
     "start_time": "2022-11-11T17:07:50.807345Z"
    }
   },
   "outputs": [
    {
     "data": {
      "text/plain": [
       "Index(['InvoiceNo', 'StockCode', 'Description', 'Quantity', 'InvoiceDate',\n",
       "       'UnitPrice', 'CustomerID', 'Country'],\n",
       "      dtype='object')"
      ]
     },
     "execution_count": 8,
     "metadata": {},
     "output_type": "execute_result"
    }
   ],
   "source": [
    "df1.columns"
   ]
  },
  {
   "cell_type": "code",
   "execution_count": 9,
   "id": "9904c22e",
   "metadata": {
    "ExecuteTime": {
     "end_time": "2022-11-11T17:07:50.835336Z",
     "start_time": "2022-11-11T17:07:50.822340Z"
    }
   },
   "outputs": [],
   "source": [
    "cols_new = ['invoice_no', 'stock_code', 'description', 'quantity', 'invoice_date', 'unit_price','customer_id', 'country']\n",
    "\n",
    "df1.columns = cols_new"
   ]
  },
  {
   "cell_type": "markdown",
   "id": "e7c60041",
   "metadata": {
    "ExecuteTime": {
     "end_time": "2022-08-28T12:17:09.364577Z",
     "start_time": "2022-08-28T12:17:09.350585Z"
    }
   },
   "source": [
    "## Data Dimensions"
   ]
  },
  {
   "cell_type": "code",
   "execution_count": 10,
   "id": "7363628c",
   "metadata": {
    "ExecuteTime": {
     "end_time": "2022-11-11T17:07:50.851331Z",
     "start_time": "2022-11-11T17:07:50.837336Z"
    }
   },
   "outputs": [
    {
     "name": "stdout",
     "output_type": "stream",
     "text": [
      "Number of Rows:541909\n",
      "Number of Columns:8\n"
     ]
    }
   ],
   "source": [
    "print(f'Number of Rows:{df1.shape[0]}')\n",
    "print(f'Number of Columns:{df1.shape[1]}')"
   ]
  },
  {
   "cell_type": "markdown",
   "id": "54e2afba",
   "metadata": {},
   "source": [
    "## Data types"
   ]
  },
  {
   "cell_type": "code",
   "execution_count": 11,
   "id": "9277d62c",
   "metadata": {
    "ExecuteTime": {
     "end_time": "2022-11-11T17:07:50.866327Z",
     "start_time": "2022-11-11T17:07:50.854331Z"
    },
    "scrolled": true
   },
   "outputs": [
    {
     "data": {
      "text/plain": [
       "invoice_no       object\n",
       "stock_code       object\n",
       "description      object\n",
       "quantity          int64\n",
       "invoice_date     object\n",
       "unit_price      float64\n",
       "customer_id     float64\n",
       "country          object\n",
       "dtype: object"
      ]
     },
     "execution_count": 11,
     "metadata": {},
     "output_type": "execute_result"
    }
   ],
   "source": [
    "df1.dtypes"
   ]
  },
  {
   "cell_type": "markdown",
   "id": "00bf0d9f",
   "metadata": {},
   "source": [
    "\n",
    "## Check NA"
   ]
  },
  {
   "cell_type": "code",
   "execution_count": 12,
   "id": "17d80d9c",
   "metadata": {
    "ExecuteTime": {
     "end_time": "2022-11-11T17:07:51.038273Z",
     "start_time": "2022-11-11T17:07:50.868325Z"
    }
   },
   "outputs": [
    {
     "data": {
      "text/plain": [
       "invoice_no           0\n",
       "stock_code           0\n",
       "description       1454\n",
       "quantity             0\n",
       "invoice_date         0\n",
       "unit_price           0\n",
       "customer_id     135080\n",
       "country              0\n",
       "dtype: int64"
      ]
     },
     "execution_count": 12,
     "metadata": {},
     "output_type": "execute_result"
    }
   ],
   "source": [
    "df1.isna().sum()"
   ]
  },
  {
   "cell_type": "markdown",
   "id": "39ea9577",
   "metadata": {
    "ExecuteTime": {
     "end_time": "2022-09-26T09:24:30.681424Z",
     "start_time": "2022-09-26T09:24:30.667483Z"
    }
   },
   "source": [
    "**135.080 customers id.... 'missing'**"
   ]
  },
  {
   "cell_type": "markdown",
   "id": "c7b32c27",
   "metadata": {},
   "source": [
    "## Filling NAs"
   ]
  },
  {
   "cell_type": "markdown",
   "id": "989e5259",
   "metadata": {},
   "source": [
    "Split dataset into missing vs not_missing:"
   ]
  },
  {
   "cell_type": "code",
   "execution_count": 13,
   "id": "9e86857e",
   "metadata": {
    "ExecuteTime": {
     "end_time": "2022-11-11T17:07:51.147238Z",
     "start_time": "2022-11-11T17:07:51.042270Z"
    },
    "scrolled": true
   },
   "outputs": [
    {
     "data": {
      "text/html": [
       "<div>\n",
       "<style scoped>\n",
       "    .dataframe tbody tr th:only-of-type {\n",
       "        vertical-align: middle;\n",
       "    }\n",
       "\n",
       "    .dataframe tbody tr th {\n",
       "        vertical-align: top;\n",
       "    }\n",
       "\n",
       "    .dataframe thead th {\n",
       "        text-align: right;\n",
       "    }\n",
       "</style>\n",
       "<table border=\"1\" class=\"dataframe\">\n",
       "  <thead>\n",
       "    <tr style=\"text-align: right;\">\n",
       "      <th></th>\n",
       "      <th>invoice_no</th>\n",
       "      <th>stock_code</th>\n",
       "      <th>description</th>\n",
       "      <th>quantity</th>\n",
       "      <th>invoice_date</th>\n",
       "      <th>unit_price</th>\n",
       "      <th>customer_id</th>\n",
       "      <th>country</th>\n",
       "    </tr>\n",
       "  </thead>\n",
       "  <tbody>\n",
       "    <tr>\n",
       "      <th>622</th>\n",
       "      <td>536414</td>\n",
       "      <td>22139</td>\n",
       "      <td>NaN</td>\n",
       "      <td>56</td>\n",
       "      <td>29-Nov-16</td>\n",
       "      <td>0.00</td>\n",
       "      <td>NaN</td>\n",
       "      <td>United Kingdom</td>\n",
       "    </tr>\n",
       "    <tr>\n",
       "      <th>1443</th>\n",
       "      <td>536544</td>\n",
       "      <td>21773</td>\n",
       "      <td>DECORATIVE ROSE BATHROOM BOTTLE</td>\n",
       "      <td>1</td>\n",
       "      <td>29-Nov-16</td>\n",
       "      <td>2.51</td>\n",
       "      <td>NaN</td>\n",
       "      <td>United Kingdom</td>\n",
       "    </tr>\n",
       "    <tr>\n",
       "      <th>1444</th>\n",
       "      <td>536544</td>\n",
       "      <td>21774</td>\n",
       "      <td>DECORATIVE CATS BATHROOM BOTTLE</td>\n",
       "      <td>2</td>\n",
       "      <td>29-Nov-16</td>\n",
       "      <td>2.51</td>\n",
       "      <td>NaN</td>\n",
       "      <td>United Kingdom</td>\n",
       "    </tr>\n",
       "    <tr>\n",
       "      <th>1445</th>\n",
       "      <td>536544</td>\n",
       "      <td>21786</td>\n",
       "      <td>POLKADOT RAIN HAT</td>\n",
       "      <td>4</td>\n",
       "      <td>29-Nov-16</td>\n",
       "      <td>0.85</td>\n",
       "      <td>NaN</td>\n",
       "      <td>United Kingdom</td>\n",
       "    </tr>\n",
       "    <tr>\n",
       "      <th>1446</th>\n",
       "      <td>536544</td>\n",
       "      <td>21787</td>\n",
       "      <td>RAIN PONCHO RETROSPOT</td>\n",
       "      <td>2</td>\n",
       "      <td>29-Nov-16</td>\n",
       "      <td>1.66</td>\n",
       "      <td>NaN</td>\n",
       "      <td>United Kingdom</td>\n",
       "    </tr>\n",
       "  </tbody>\n",
       "</table>\n",
       "</div>"
      ],
      "text/plain": [
       "     invoice_no stock_code                      description  quantity invoice_date  unit_price  customer_id         country\n",
       "622      536414      22139                              NaN        56    29-Nov-16        0.00          NaN  United Kingdom\n",
       "1443     536544      21773  DECORATIVE ROSE BATHROOM BOTTLE         1    29-Nov-16        2.51          NaN  United Kingdom\n",
       "1444     536544      21774  DECORATIVE CATS BATHROOM BOTTLE         2    29-Nov-16        2.51          NaN  United Kingdom\n",
       "1445     536544      21786               POLKADOT RAIN HAT          4    29-Nov-16        0.85          NaN  United Kingdom\n",
       "1446     536544      21787            RAIN PONCHO RETROSPOT         2    29-Nov-16        1.66          NaN  United Kingdom"
      ]
     },
     "execution_count": 13,
     "metadata": {},
     "output_type": "execute_result"
    }
   ],
   "source": [
    "df_missing = df1.loc[df1['customer_id'].isna(),:]\n",
    "df_not_missing = df1.loc[~df1['customer_id'].isna(),:]\n",
    "df_missing.head()"
   ]
  },
  {
   "cell_type": "code",
   "execution_count": 14,
   "id": "ac5abc72",
   "metadata": {
    "ExecuteTime": {
     "end_time": "2022-11-11T17:07:51.162233Z",
     "start_time": "2022-11-11T17:07:51.149236Z"
    }
   },
   "outputs": [
    {
     "data": {
      "text/plain": [
       "(406829, 8)"
      ]
     },
     "execution_count": 14,
     "metadata": {},
     "output_type": "execute_result"
    }
   ],
   "source": [
    "df_not_missing.shape"
   ]
  },
  {
   "cell_type": "markdown",
   "id": "3b447ab0",
   "metadata": {},
   "source": [
    "Dataset has 135.080 records where customer ID not present:"
   ]
  },
  {
   "cell_type": "code",
   "execution_count": 15,
   "id": "967546cc",
   "metadata": {
    "ExecuteTime": {
     "end_time": "2022-11-11T17:07:51.178228Z",
     "start_time": "2022-11-11T17:07:51.164231Z"
    }
   },
   "outputs": [
    {
     "data": {
      "text/plain": [
       "(135080, 8)"
      ]
     },
     "execution_count": 15,
     "metadata": {},
     "output_type": "execute_result"
    }
   ],
   "source": [
    "df_missing.shape"
   ]
  },
  {
   "cell_type": "code",
   "execution_count": 16,
   "id": "645c61b9",
   "metadata": {
    "ExecuteTime": {
     "end_time": "2022-11-11T17:07:51.194221Z",
     "start_time": "2022-11-11T17:07:51.181226Z"
    }
   },
   "outputs": [],
   "source": [
    "# missing_invoice = df_missing['invoice_no'].drop_duplicates().tolist()\n",
    "# missing_invoice[0:10]"
   ]
  },
  {
   "cell_type": "code",
   "execution_count": 17,
   "id": "5f31240d",
   "metadata": {
    "ExecuteTime": {
     "end_time": "2022-11-11T17:07:51.210217Z",
     "start_time": "2022-11-11T17:07:51.196221Z"
    }
   },
   "outputs": [],
   "source": [
    "# df_not_missing.loc[df_not_missing['invoice_no'].isin(missing_invoice), :].head()"
   ]
  },
  {
   "cell_type": "markdown",
   "id": "f74191f4",
   "metadata": {},
   "source": [
    "- All customer_id from 19000 onwards will be a missing id just for training, and we will merge it on df1:"
   ]
  },
  {
   "cell_type": "code",
   "execution_count": 18,
   "id": "939e30ab",
   "metadata": {
    "ExecuteTime": {
     "end_time": "2022-11-11T17:07:52.072941Z",
     "start_time": "2022-11-11T17:07:51.213216Z"
    }
   },
   "outputs": [
    {
     "name": "stdout",
     "output_type": "stream",
     "text": [
      "invoice_no         0\n",
      "stock_code         0\n",
      "description     1454\n",
      "quantity           0\n",
      "invoice_date       0\n",
      "unit_price         0\n",
      "country            0\n",
      "customer_id        0\n",
      "dtype: int64\n"
     ]
    },
    {
     "data": {
      "text/html": [
       "<div>\n",
       "<style scoped>\n",
       "    .dataframe tbody tr th:only-of-type {\n",
       "        vertical-align: middle;\n",
       "    }\n",
       "\n",
       "    .dataframe tbody tr th {\n",
       "        vertical-align: top;\n",
       "    }\n",
       "\n",
       "    .dataframe thead th {\n",
       "        text-align: right;\n",
       "    }\n",
       "</style>\n",
       "<table border=\"1\" class=\"dataframe\">\n",
       "  <thead>\n",
       "    <tr style=\"text-align: right;\">\n",
       "      <th></th>\n",
       "      <th>invoice_no</th>\n",
       "      <th>stock_code</th>\n",
       "      <th>description</th>\n",
       "      <th>quantity</th>\n",
       "      <th>invoice_date</th>\n",
       "      <th>unit_price</th>\n",
       "      <th>country</th>\n",
       "      <th>customer_id</th>\n",
       "    </tr>\n",
       "  </thead>\n",
       "  <tbody>\n",
       "    <tr>\n",
       "      <th>0</th>\n",
       "      <td>536365</td>\n",
       "      <td>85123A</td>\n",
       "      <td>WHITE HANGING HEART T-LIGHT HOLDER</td>\n",
       "      <td>6</td>\n",
       "      <td>29-Nov-16</td>\n",
       "      <td>2.55</td>\n",
       "      <td>United Kingdom</td>\n",
       "      <td>17850.0</td>\n",
       "    </tr>\n",
       "    <tr>\n",
       "      <th>1</th>\n",
       "      <td>536365</td>\n",
       "      <td>71053</td>\n",
       "      <td>WHITE METAL LANTERN</td>\n",
       "      <td>6</td>\n",
       "      <td>29-Nov-16</td>\n",
       "      <td>3.39</td>\n",
       "      <td>United Kingdom</td>\n",
       "      <td>17850.0</td>\n",
       "    </tr>\n",
       "    <tr>\n",
       "      <th>2</th>\n",
       "      <td>536365</td>\n",
       "      <td>84406B</td>\n",
       "      <td>CREAM CUPID HEARTS COAT HANGER</td>\n",
       "      <td>8</td>\n",
       "      <td>29-Nov-16</td>\n",
       "      <td>2.75</td>\n",
       "      <td>United Kingdom</td>\n",
       "      <td>17850.0</td>\n",
       "    </tr>\n",
       "    <tr>\n",
       "      <th>3</th>\n",
       "      <td>536365</td>\n",
       "      <td>84029G</td>\n",
       "      <td>KNITTED UNION FLAG HOT WATER BOTTLE</td>\n",
       "      <td>6</td>\n",
       "      <td>29-Nov-16</td>\n",
       "      <td>3.39</td>\n",
       "      <td>United Kingdom</td>\n",
       "      <td>17850.0</td>\n",
       "    </tr>\n",
       "    <tr>\n",
       "      <th>4</th>\n",
       "      <td>536365</td>\n",
       "      <td>84029E</td>\n",
       "      <td>RED WOOLLY HOTTIE WHITE HEART.</td>\n",
       "      <td>6</td>\n",
       "      <td>29-Nov-16</td>\n",
       "      <td>3.39</td>\n",
       "      <td>United Kingdom</td>\n",
       "      <td>17850.0</td>\n",
       "    </tr>\n",
       "  </tbody>\n",
       "</table>\n",
       "</div>"
      ],
      "text/plain": [
       "  invoice_no stock_code                          description  quantity invoice_date  unit_price         country  customer_id\n",
       "0     536365     85123A   WHITE HANGING HEART T-LIGHT HOLDER         6    29-Nov-16        2.55  United Kingdom      17850.0\n",
       "1     536365      71053                  WHITE METAL LANTERN         6    29-Nov-16        3.39  United Kingdom      17850.0\n",
       "2     536365     84406B       CREAM CUPID HEARTS COAT HANGER         8    29-Nov-16        2.75  United Kingdom      17850.0\n",
       "3     536365     84029G  KNITTED UNION FLAG HOT WATER BOTTLE         6    29-Nov-16        3.39  United Kingdom      17850.0\n",
       "4     536365     84029E       RED WOOLLY HOTTIE WHITE HEART.         6    29-Nov-16        3.39  United Kingdom      17850.0"
      ]
     },
     "execution_count": 18,
     "metadata": {},
     "output_type": "execute_result"
    }
   ],
   "source": [
    "# Decision:\n",
    "# each NAN customer ID will be a new single customer time purchase, just for training(?)\n",
    "\n",
    "# Create Reference:\n",
    "df_backup = pd.DataFrame(df_missing['invoice_no'].drop_duplicates())\n",
    "df_backup['customer_id'] = np.arange(19000, 19000+len(df_backup),1) # linspace or arrange\n",
    "\n",
    "# merging original w/ reference df:\n",
    "df1 = pd.merge(df1, df_backup, on = 'invoice_no', how = 'left')\n",
    "\n",
    "# need to keep columns...\n",
    "# Coalesce:\n",
    "df1['customer_id'] = df1['customer_id_x'].combine_first(df1['customer_id_y'])\n",
    "\n",
    "# drop aux columns\n",
    "df1 = df1.drop(columns=['customer_id_x','customer_id_y'])\n",
    "print(df1.isna().sum())\n",
    "df1.head()\n",
    "\n"
   ]
  },
  {
   "cell_type": "code",
   "execution_count": 19,
   "id": "12667e07",
   "metadata": {
    "ExecuteTime": {
     "end_time": "2022-11-11T17:07:52.215896Z",
     "start_time": "2022-11-11T17:07:52.074941Z"
    }
   },
   "outputs": [
    {
     "name": "stdout",
     "output_type": "stream",
     "text": [
      "Removed data: 0.00268 %, thats a total of 1454 rows.\n"
     ]
    }
   ],
   "source": [
    "# Removing NAs\n",
    "df1 = df1.dropna(subset =['description','customer_id'])\n",
    "print('Removed data: {:.5f} %, thats a total of {} rows.'.format(1 - (df1.shape[0] / df_raw.shape[0]), (df_raw.shape[0] - df1.shape[0] )))"
   ]
  },
  {
   "cell_type": "code",
   "execution_count": 20,
   "id": "33df1eb2",
   "metadata": {
    "ExecuteTime": {
     "end_time": "2022-11-11T17:07:52.373847Z",
     "start_time": "2022-11-11T17:07:52.217895Z"
    }
   },
   "outputs": [
    {
     "data": {
      "text/plain": [
       "invoice_no      0\n",
       "stock_code      0\n",
       "description     0\n",
       "quantity        0\n",
       "invoice_date    0\n",
       "unit_price      0\n",
       "country         0\n",
       "customer_id     0\n",
       "dtype: int64"
      ]
     },
     "execution_count": 20,
     "metadata": {},
     "output_type": "execute_result"
    }
   ],
   "source": [
    "df1.isna().sum()"
   ]
  },
  {
   "cell_type": "markdown",
   "id": "9827e3b0",
   "metadata": {
    "ExecuteTime": {
     "end_time": "2022-08-28T12:18:33.311251Z",
     "start_time": "2022-08-28T12:18:33.306254Z"
    }
   },
   "source": [
    "## Change dtypes"
   ]
  },
  {
   "cell_type": "code",
   "execution_count": 21,
   "id": "7d30510b",
   "metadata": {
    "ExecuteTime": {
     "end_time": "2022-11-11T17:07:52.389840Z",
     "start_time": "2022-11-11T17:07:52.375845Z"
    },
    "scrolled": true
   },
   "outputs": [
    {
     "data": {
      "text/plain": [
       "invoice_no       object\n",
       "stock_code       object\n",
       "description      object\n",
       "quantity          int64\n",
       "invoice_date     object\n",
       "unit_price      float64\n",
       "country          object\n",
       "customer_id     float64\n",
       "dtype: object"
      ]
     },
     "execution_count": 21,
     "metadata": {},
     "output_type": "execute_result"
    }
   ],
   "source": [
    "df1.dtypes"
   ]
  },
  {
   "cell_type": "code",
   "execution_count": 22,
   "id": "3343fd31",
   "metadata": {
    "ExecuteTime": {
     "end_time": "2022-11-11T17:07:52.405835Z",
     "start_time": "2022-11-11T17:07:52.391839Z"
    }
   },
   "outputs": [],
   "source": [
    "df1['customer_id'] = df1['customer_id'].astype(int)"
   ]
  },
  {
   "cell_type": "code",
   "execution_count": 23,
   "id": "67036027",
   "metadata": {
    "ExecuteTime": {
     "end_time": "2022-11-11T17:07:52.529797Z",
     "start_time": "2022-11-11T17:07:52.411835Z"
    }
   },
   "outputs": [
    {
     "data": {
      "text/html": [
       "<div>\n",
       "<style scoped>\n",
       "    .dataframe tbody tr th:only-of-type {\n",
       "        vertical-align: middle;\n",
       "    }\n",
       "\n",
       "    .dataframe tbody tr th {\n",
       "        vertical-align: top;\n",
       "    }\n",
       "\n",
       "    .dataframe thead th {\n",
       "        text-align: right;\n",
       "    }\n",
       "</style>\n",
       "<table border=\"1\" class=\"dataframe\">\n",
       "  <thead>\n",
       "    <tr style=\"text-align: right;\">\n",
       "      <th></th>\n",
       "      <th>invoice_no</th>\n",
       "      <th>stock_code</th>\n",
       "      <th>description</th>\n",
       "      <th>quantity</th>\n",
       "      <th>invoice_date</th>\n",
       "      <th>unit_price</th>\n",
       "      <th>country</th>\n",
       "      <th>customer_id</th>\n",
       "    </tr>\n",
       "  </thead>\n",
       "  <tbody>\n",
       "    <tr>\n",
       "      <th>0</th>\n",
       "      <td>536365</td>\n",
       "      <td>85123A</td>\n",
       "      <td>WHITE HANGING HEART T-LIGHT HOLDER</td>\n",
       "      <td>6</td>\n",
       "      <td>2016-11-29</td>\n",
       "      <td>2.55</td>\n",
       "      <td>United Kingdom</td>\n",
       "      <td>17850</td>\n",
       "    </tr>\n",
       "    <tr>\n",
       "      <th>1</th>\n",
       "      <td>536365</td>\n",
       "      <td>71053</td>\n",
       "      <td>WHITE METAL LANTERN</td>\n",
       "      <td>6</td>\n",
       "      <td>2016-11-29</td>\n",
       "      <td>3.39</td>\n",
       "      <td>United Kingdom</td>\n",
       "      <td>17850</td>\n",
       "    </tr>\n",
       "    <tr>\n",
       "      <th>2</th>\n",
       "      <td>536365</td>\n",
       "      <td>84406B</td>\n",
       "      <td>CREAM CUPID HEARTS COAT HANGER</td>\n",
       "      <td>8</td>\n",
       "      <td>2016-11-29</td>\n",
       "      <td>2.75</td>\n",
       "      <td>United Kingdom</td>\n",
       "      <td>17850</td>\n",
       "    </tr>\n",
       "    <tr>\n",
       "      <th>3</th>\n",
       "      <td>536365</td>\n",
       "      <td>84029G</td>\n",
       "      <td>KNITTED UNION FLAG HOT WATER BOTTLE</td>\n",
       "      <td>6</td>\n",
       "      <td>2016-11-29</td>\n",
       "      <td>3.39</td>\n",
       "      <td>United Kingdom</td>\n",
       "      <td>17850</td>\n",
       "    </tr>\n",
       "    <tr>\n",
       "      <th>4</th>\n",
       "      <td>536365</td>\n",
       "      <td>84029E</td>\n",
       "      <td>RED WOOLLY HOTTIE WHITE HEART.</td>\n",
       "      <td>6</td>\n",
       "      <td>2016-11-29</td>\n",
       "      <td>3.39</td>\n",
       "      <td>United Kingdom</td>\n",
       "      <td>17850</td>\n",
       "    </tr>\n",
       "  </tbody>\n",
       "</table>\n",
       "</div>"
      ],
      "text/plain": [
       "  invoice_no stock_code                          description  quantity invoice_date  unit_price         country  customer_id\n",
       "0     536365     85123A   WHITE HANGING HEART T-LIGHT HOLDER         6   2016-11-29        2.55  United Kingdom        17850\n",
       "1     536365      71053                  WHITE METAL LANTERN         6   2016-11-29        3.39  United Kingdom        17850\n",
       "2     536365     84406B       CREAM CUPID HEARTS COAT HANGER         8   2016-11-29        2.75  United Kingdom        17850\n",
       "3     536365     84029G  KNITTED UNION FLAG HOT WATER BOTTLE         6   2016-11-29        3.39  United Kingdom        17850\n",
       "4     536365     84029E       RED WOOLLY HOTTIE WHITE HEART.         6   2016-11-29        3.39  United Kingdom        17850"
      ]
     },
     "execution_count": 23,
     "metadata": {},
     "output_type": "execute_result"
    }
   ],
   "source": [
    "df1['invoice_date'] = pd.to_datetime(df1['invoice_date'], format='%d-%b-%y' )\n",
    "df1.head()"
   ]
  },
  {
   "cell_type": "code",
   "execution_count": 24,
   "id": "99c86e13",
   "metadata": {
    "ExecuteTime": {
     "end_time": "2022-11-11T17:07:52.545792Z",
     "start_time": "2022-11-11T17:07:52.534794Z"
    }
   },
   "outputs": [
    {
     "data": {
      "text/plain": [
       "invoice_no              object\n",
       "stock_code              object\n",
       "description             object\n",
       "quantity                 int64\n",
       "invoice_date    datetime64[ns]\n",
       "unit_price             float64\n",
       "country                 object\n",
       "customer_id              int32\n",
       "dtype: object"
      ]
     },
     "execution_count": 24,
     "metadata": {},
     "output_type": "execute_result"
    }
   ],
   "source": [
    "df1.dtypes"
   ]
  },
  {
   "cell_type": "markdown",
   "id": "853f9f52",
   "metadata": {},
   "source": [
    "## Descriptive Statistics"
   ]
  },
  {
   "cell_type": "code",
   "execution_count": 25,
   "id": "7f8e4c4c",
   "metadata": {
    "ExecuteTime": {
     "end_time": "2022-11-11T17:07:52.561788Z",
     "start_time": "2022-11-11T17:07:52.548790Z"
    }
   },
   "outputs": [],
   "source": [
    "# doing the model first, then come back - 'clustering not an end'."
   ]
  },
  {
   "cell_type": "markdown",
   "id": "3a0523bb",
   "metadata": {},
   "source": [
    "Splitting dataset into numerical/categorical:"
   ]
  },
  {
   "cell_type": "code",
   "execution_count": 26,
   "id": "f50a1f79",
   "metadata": {
    "ExecuteTime": {
     "end_time": "2022-11-11T17:07:52.624766Z",
     "start_time": "2022-11-11T17:07:52.564786Z"
    }
   },
   "outputs": [],
   "source": [
    "num_attributes = df1.select_dtypes(include =['int64','float64', 'int32'])\n",
    "cat_attributes = df1.select_dtypes(exclude =['int64','float64', 'int32'])"
   ]
  },
  {
   "cell_type": "markdown",
   "id": "5f2c7a1c",
   "metadata": {
    "ExecuteTime": {
     "end_time": "2022-09-07T06:34:22.575441Z",
     "start_time": "2022-09-07T06:34:22.567445Z"
    }
   },
   "source": [
    "### Numerical Attributes"
   ]
  },
  {
   "cell_type": "code",
   "execution_count": 27,
   "id": "d8ee2106",
   "metadata": {
    "ExecuteTime": {
     "end_time": "2022-11-11T17:07:52.779716Z",
     "start_time": "2022-11-11T17:07:52.626764Z"
    },
    "scrolled": true
   },
   "outputs": [
    {
     "data": {
      "text/html": [
       "<div>\n",
       "<style scoped>\n",
       "    .dataframe tbody tr th:only-of-type {\n",
       "        vertical-align: middle;\n",
       "    }\n",
       "\n",
       "    .dataframe tbody tr th {\n",
       "        vertical-align: top;\n",
       "    }\n",
       "\n",
       "    .dataframe thead th {\n",
       "        text-align: right;\n",
       "    }\n",
       "</style>\n",
       "<table border=\"1\" class=\"dataframe\">\n",
       "  <thead>\n",
       "    <tr style=\"text-align: right;\">\n",
       "      <th>index</th>\n",
       "      <th>Mean</th>\n",
       "      <th>Median</th>\n",
       "      <th>Std</th>\n",
       "      <th>Min</th>\n",
       "      <th>Max</th>\n",
       "      <th>Range</th>\n",
       "      <th>Skew</th>\n",
       "      <th>Kurtosis</th>\n",
       "    </tr>\n",
       "  </thead>\n",
       "  <tbody>\n",
       "    <tr>\n",
       "      <th>quantity</th>\n",
       "      <td>9.603129</td>\n",
       "      <td>3.00</td>\n",
       "      <td>218.007397</td>\n",
       "      <td>-80995.00</td>\n",
       "      <td>80995.0</td>\n",
       "      <td>161990.00</td>\n",
       "      <td>-0.281253</td>\n",
       "      <td>120252.449063</td>\n",
       "    </tr>\n",
       "    <tr>\n",
       "      <th>unit_price</th>\n",
       "      <td>4.623519</td>\n",
       "      <td>2.08</td>\n",
       "      <td>96.889538</td>\n",
       "      <td>-11062.06</td>\n",
       "      <td>38970.0</td>\n",
       "      <td>50032.06</td>\n",
       "      <td>186.257919</td>\n",
       "      <td>58848.017575</td>\n",
       "    </tr>\n",
       "    <tr>\n",
       "      <th>customer_id</th>\n",
       "      <td>16678.153600</td>\n",
       "      <td>16241.00</td>\n",
       "      <td>2907.570262</td>\n",
       "      <td>12346.00</td>\n",
       "      <td>22709.0</td>\n",
       "      <td>10363.00</td>\n",
       "      <td>0.493600</td>\n",
       "      <td>-0.792496</td>\n",
       "    </tr>\n",
       "  </tbody>\n",
       "</table>\n",
       "</div>"
      ],
      "text/plain": [
       "index                Mean    Median          Std       Min      Max      Range        Skew       Kurtosis\n",
       "quantity         9.603129      3.00   218.007397 -80995.00  80995.0  161990.00   -0.281253  120252.449063\n",
       "unit_price       4.623519      2.08    96.889538 -11062.06  38970.0   50032.06  186.257919   58848.017575\n",
       "customer_id  16678.153600  16241.00  2907.570262  12346.00  22709.0   10363.00    0.493600      -0.792496"
      ]
     },
     "execution_count": 27,
     "metadata": {},
     "output_type": "execute_result"
    }
   ],
   "source": [
    "# central tendency: mean, median\n",
    "ct1 = pd.DataFrame(num_attributes.apply(np.mean)).T\n",
    "ct2 = pd.DataFrame(num_attributes.apply(np.median)).T\n",
    "# Dispersion - std dev, min, max, range, skew, kurtosis\n",
    "d1 = pd.DataFrame(num_attributes.apply(np.std)).T\n",
    "d2 = pd.DataFrame(num_attributes.apply(np.min)).T\n",
    "d3 = pd.DataFrame(num_attributes.apply(np.max)).T\n",
    "d4 = pd.DataFrame(num_attributes.apply(lambda x: x.max() - x.min() )).T\n",
    "d5 = pd.DataFrame(num_attributes.apply(lambda x: x.skew() )).T\n",
    "d6 = pd.DataFrame(num_attributes.apply(lambda x: x.kurtosis() )).T\n",
    "\n",
    "merged = pd.concat([ct1,ct2,d1,d2,d3,d4,d5,d6])\n",
    "merged['index'] = ['Mean','Median', 'Std', 'Min','Max','Range','Skew','Kurtosis']\n",
    "merged.set_index('index', inplace = True)\n",
    "merged.T\n"
   ]
  },
  {
   "cell_type": "markdown",
   "id": "4fbe0d7c",
   "metadata": {},
   "source": [
    "1. Min for quantity is negative - returns?.\n",
    "2. Unity Price 0.0 ? free item?\n"
   ]
  },
  {
   "cell_type": "markdown",
   "id": "4285cf98",
   "metadata": {
    "ExecuteTime": {
     "end_time": "2022-09-07T06:34:36.405098Z",
     "start_time": "2022-09-07T06:34:36.387091Z"
    }
   },
   "source": [
    "### Categorical Attributes"
   ]
  },
  {
   "cell_type": "code",
   "execution_count": 28,
   "id": "2d73df6f",
   "metadata": {
    "ExecuteTime": {
     "end_time": "2022-11-11T17:07:55.936709Z",
     "start_time": "2022-11-11T17:07:52.781716Z"
    }
   },
   "outputs": [
    {
     "name": "stdout",
     "output_type": "stream",
     "text": [
      "Invoices with letters: 3839\n",
      "Stock Codes with letters: 1073\n",
      "Unique stock codes with only letters: ['POST' 'D' 'DOT' 'M' 'S' 'AMAZONFEE' 'm' 'DCGSSBOY' 'DCGSSGIRL' 'PADS'\n",
      " 'B' 'CRUK']\n"
     ]
    }
   ],
   "source": [
    "#number of invoices with letters:\n",
    "number_invs_letters = len(cat_attributes.loc[cat_attributes['invoice_no'].apply(lambda x: bool(re.search( '[^0-9]+', x))), 'invoice_no'].drop_duplicates())\n",
    "print(f'Invoices with letters: {number_invs_letters}')\n",
    "\n",
    "#number of stock codes with letters:\n",
    "number_stk_letters = len(cat_attributes.loc[cat_attributes['stock_code'].apply(lambda x: bool(re.search( '[^0-9]+', x))), 'stock_code'].drop_duplicates())\n",
    "print(f'Stock Codes with letters: {number_stk_letters}')\n",
    "\n",
    "only_letters_unique_stock_code = cat_attributes.loc[cat_attributes['stock_code'].apply(lambda x: bool(re.search('^[a-zA-Z]+$', x ) ) ), 'stock_code' ].unique()\n",
    "print(f'Unique stock codes with only letters: {only_letters_unique_stock_code}')"
   ]
  },
  {
   "cell_type": "code",
   "execution_count": 29,
   "id": "1cc71ba8",
   "metadata": {
    "ExecuteTime": {
     "end_time": "2022-11-11T17:07:55.983694Z",
     "start_time": "2022-11-11T17:07:55.938709Z"
    },
    "scrolled": false
   },
   "outputs": [
    {
     "data": {
      "text/html": [
       "<div>\n",
       "<style scoped>\n",
       "    .dataframe tbody tr th:only-of-type {\n",
       "        vertical-align: middle;\n",
       "    }\n",
       "\n",
       "    .dataframe tbody tr th {\n",
       "        vertical-align: top;\n",
       "    }\n",
       "\n",
       "    .dataframe thead th {\n",
       "        text-align: right;\n",
       "    }\n",
       "</style>\n",
       "<table border=\"1\" class=\"dataframe\">\n",
       "  <thead>\n",
       "    <tr style=\"text-align: right;\">\n",
       "      <th></th>\n",
       "      <th>invoice_no</th>\n",
       "      <th>stock_code</th>\n",
       "      <th>description</th>\n",
       "      <th>invoice_date</th>\n",
       "      <th>country</th>\n",
       "    </tr>\n",
       "  </thead>\n",
       "  <tbody>\n",
       "    <tr>\n",
       "      <th>249037</th>\n",
       "      <td>558879</td>\n",
       "      <td>20725</td>\n",
       "      <td>LUNCH BAG RED RETROSPOT</td>\n",
       "      <td>2017-07-02</td>\n",
       "      <td>United Kingdom</td>\n",
       "    </tr>\n",
       "  </tbody>\n",
       "</table>\n",
       "</div>"
      ],
      "text/plain": [
       "       invoice_no stock_code              description invoice_date         country\n",
       "249037     558879      20725  LUNCH BAG RED RETROSPOT   2017-07-02  United Kingdom"
      ]
     },
     "execution_count": 29,
     "metadata": {},
     "output_type": "execute_result"
    }
   ],
   "source": [
    "cat_attributes.sample(1)"
   ]
  },
  {
   "cell_type": "code",
   "execution_count": 30,
   "id": "0f672729",
   "metadata": {
    "ExecuteTime": {
     "end_time": "2022-11-11T17:07:55.998689Z",
     "start_time": "2022-11-11T17:07:55.985694Z"
    },
    "scrolled": true
   },
   "outputs": [],
   "source": [
    "# some further investigation...\n",
    "# df1.loc[df1['description'] == 'RED RETROSPOT PEG BAG'].sort_values('customer_id').reset_index()\n",
    "\n",
    "# df1.loc[df1['invoice_no'] == 'C548995']"
   ]
  },
  {
   "cell_type": "code",
   "execution_count": 31,
   "id": "da92642c",
   "metadata": {
    "ExecuteTime": {
     "end_time": "2022-11-11T17:07:56.044676Z",
     "start_time": "2022-11-11T17:07:56.000690Z"
    },
    "scrolled": true
   },
   "outputs": [
    {
     "data": {
      "text/html": [
       "<div>\n",
       "<style scoped>\n",
       "    .dataframe tbody tr th:only-of-type {\n",
       "        vertical-align: middle;\n",
       "    }\n",
       "\n",
       "    .dataframe tbody tr th {\n",
       "        vertical-align: top;\n",
       "    }\n",
       "\n",
       "    .dataframe thead th {\n",
       "        text-align: right;\n",
       "    }\n",
       "</style>\n",
       "<table border=\"1\" class=\"dataframe\">\n",
       "  <thead>\n",
       "    <tr style=\"text-align: right;\">\n",
       "      <th></th>\n",
       "      <th>invoice_no</th>\n",
       "      <th>stock_code</th>\n",
       "      <th>description</th>\n",
       "      <th>quantity</th>\n",
       "      <th>invoice_date</th>\n",
       "      <th>unit_price</th>\n",
       "      <th>country</th>\n",
       "      <th>customer_id</th>\n",
       "    </tr>\n",
       "  </thead>\n",
       "  <tbody>\n",
       "    <tr>\n",
       "      <th>179420</th>\n",
       "      <td>552277</td>\n",
       "      <td>22384</td>\n",
       "      <td>LUNCH BAG PINK POLKADOT</td>\n",
       "      <td>1</td>\n",
       "      <td>2017-05-06</td>\n",
       "      <td>1.65</td>\n",
       "      <td>United Kingdom</td>\n",
       "      <td>13642</td>\n",
       "    </tr>\n",
       "  </tbody>\n",
       "</table>\n",
       "</div>"
      ],
      "text/plain": [
       "       invoice_no stock_code              description  quantity invoice_date  unit_price         country  customer_id\n",
       "179420     552277      22384  LUNCH BAG PINK POLKADOT         1   2017-05-06        1.65  United Kingdom        13642"
      ]
     },
     "execution_count": 31,
     "metadata": {},
     "output_type": "execute_result"
    }
   ],
   "source": [
    "df1.sample(1)"
   ]
  },
  {
   "cell_type": "markdown",
   "id": "8a30e5d1",
   "metadata": {},
   "source": [
    "#### Invoice No"
   ]
  },
  {
   "cell_type": "markdown",
   "id": "bdde4ac0",
   "metadata": {},
   "source": [
    "- Invoice number has letter numbers, and are mostly negative quantities."
   ]
  },
  {
   "cell_type": "code",
   "execution_count": 32,
   "id": "bcfe327b",
   "metadata": {
    "ExecuteTime": {
     "end_time": "2022-11-11T17:07:57.108336Z",
     "start_time": "2022-11-11T17:07:56.046674Z"
    }
   },
   "outputs": [
    {
     "name": "stdout",
     "output_type": "stream",
     "text": [
      "Total number of invoices w/ letters\n",
      "9291\n",
      "Total number of invoices w/ letters with negative quantity\n",
      "9288\n",
      "       invoice_no stock_code      description  quantity invoice_date  unit_price         country  customer_id\n",
      "299982    A563185          B  Adjust bad debt         1   2017-08-10    11062.06  United Kingdom        21497\n",
      "299983    A563186          B  Adjust bad debt         1   2017-08-10   -11062.06  United Kingdom        21498\n",
      "299984    A563187          B  Adjust bad debt         1   2017-08-10   -11062.06  United Kingdom        21499\n",
      "\n",
      "Total # of non negative invoices: 3 \n"
     ]
    }
   ],
   "source": [
    "# There are invoices with letters\n",
    "df_invoices_w_letters = df1.loc[df1['invoice_no'].apply(lambda x: bool (re.search('[^0-9]+', x))),:]\n",
    "\n",
    "print('Total number of invoices w/ letters')\n",
    "print(len(df_invoices_w_letters))\n",
    "\n",
    "# Are all invoices that start with letters 'negative quantity' one?\n",
    "print('Total number of invoices w/ letters with negative quantity')\n",
    "print(len(df_invoices_w_letters[df_invoices_w_letters['quantity'] <0]))\n",
    "\n",
    "# Yes, all invoices starting with letters are negative quantity except three / 'Adjust bad debt'.\n",
    "print(df_invoices_w_letters[df_invoices_w_letters['quantity'] >= 0].head())\n",
    "print(f\"\\nTotal # of non negative invoices: {df_invoices_w_letters[df_invoices_w_letters['quantity'] >= 0].invoice_no.count()} \")"
   ]
  },
  {
   "cell_type": "markdown",
   "id": "564de69f",
   "metadata": {
    "ExecuteTime": {
     "end_time": "2022-09-08T13:32:53.247562Z",
     "start_time": "2022-09-08T13:32:53.237567Z"
    }
   },
   "source": [
    "#### Stock Code"
   ]
  },
  {
   "cell_type": "code",
   "execution_count": 33,
   "id": "ed31ff22",
   "metadata": {
    "ExecuteTime": {
     "end_time": "2022-11-11T17:07:58.147004Z",
     "start_time": "2022-11-11T17:07:57.110335Z"
    }
   },
   "outputs": [
    {
     "data": {
      "text/plain": [
       "array(['POST', 'D', 'DOT', 'M', 'S', 'AMAZONFEE', 'm', 'DCGSSBOY',\n",
       "       'DCGSSGIRL', 'PADS', 'B', 'CRUK'], dtype=object)"
      ]
     },
     "execution_count": 33,
     "metadata": {},
     "output_type": "execute_result"
    }
   ],
   "source": [
    "df1.loc[df1['stock_code'].apply(lambda x: bool(re.search('^[a-zA-Z]+$', x))),'stock_code'].unique()   "
   ]
  },
  {
   "cell_type": "markdown",
   "id": "3e79059c",
   "metadata": {},
   "source": [
    "**To do:**  \n",
    "Remove Stock_codes in ['POST', 'D', 'M', 'PADS', 'DOT', 'CRUK']  \n",
    "New stock_Codes after joining missing data ['POST', 'D', 'DOT', 'M', 'S', 'AMAZONFEE', 'm',   'DCGSSBOY',        'DCGSSGIRL', 'PADS', 'B', 'CRUK']\n",
    " "
   ]
  },
  {
   "cell_type": "markdown",
   "id": "0148eb28",
   "metadata": {
    "ExecuteTime": {
     "end_time": "2022-09-08T13:38:43.171226Z",
     "start_time": "2022-09-08T13:38:43.154219Z"
    }
   },
   "source": [
    "#### Description"
   ]
  },
  {
   "cell_type": "code",
   "execution_count": 34,
   "id": "a12265e4",
   "metadata": {
    "ExecuteTime": {
     "end_time": "2022-11-11T17:07:58.162000Z",
     "start_time": "2022-11-11T17:07:58.149004Z"
    }
   },
   "outputs": [],
   "source": [
    "# Todo - delete description"
   ]
  },
  {
   "cell_type": "markdown",
   "id": "f2415870",
   "metadata": {},
   "source": [
    "#### Country"
   ]
  },
  {
   "cell_type": "code",
   "execution_count": 35,
   "id": "c432d70d",
   "metadata": {
    "ExecuteTime": {
     "end_time": "2022-11-11T17:07:58.223981Z",
     "start_time": "2022-11-11T17:07:58.164000Z"
    }
   },
   "outputs": [
    {
     "data": {
      "text/plain": [
       "array(['United Kingdom', 'France', 'Australia', 'Netherlands', 'Germany',\n",
       "       'Norway', 'EIRE', 'Switzerland', 'Spain', 'Poland', 'Portugal',\n",
       "       'Italy', 'Belgium', 'Lithuania', 'Japan', 'Iceland',\n",
       "       'Channel Islands', 'Denmark', 'Cyprus', 'Sweden', 'Austria',\n",
       "       'Israel', 'Finland', 'Bahrain', 'Greece', 'Hong Kong', 'Singapore',\n",
       "       'Lebanon', 'United Arab Emirates', 'Saudi Arabia',\n",
       "       'Czech Republic', 'Canada', 'Unspecified', 'Brazil', 'USA',\n",
       "       'European Community', 'Malta', 'RSA'], dtype=object)"
      ]
     },
     "execution_count": 35,
     "metadata": {},
     "output_type": "execute_result"
    }
   ],
   "source": [
    "df1['country'].unique()"
   ]
  },
  {
   "cell_type": "markdown",
   "id": "10b1f6f4",
   "metadata": {},
   "source": [
    "- UK main market:"
   ]
  },
  {
   "cell_type": "code",
   "execution_count": 36,
   "id": "8ce0ac49",
   "metadata": {
    "ExecuteTime": {
     "end_time": "2022-11-11T17:07:58.302955Z",
     "start_time": "2022-11-11T17:07:58.225979Z"
    }
   },
   "outputs": [
    {
     "data": {
      "text/plain": [
       "United Kingdom    0.914089\n",
       "Germany           0.017569\n",
       "France            0.015833\n",
       "EIRE              0.015165\n",
       "Spain             0.004687\n",
       "Netherlands       0.004387\n",
       "Name: country, dtype: float64"
      ]
     },
     "execution_count": 36,
     "metadata": {},
     "output_type": "execute_result"
    }
   ],
   "source": [
    "df1['country'].value_counts(normalize = True).head(6)"
   ]
  },
  {
   "cell_type": "code",
   "execution_count": 37,
   "id": "5c147270",
   "metadata": {
    "ExecuteTime": {
     "end_time": "2022-11-11T17:07:58.318963Z",
     "start_time": "2022-11-11T17:07:58.304956Z"
    }
   },
   "outputs": [],
   "source": [
    "# df1[['customer_id', 'country']].drop_duplicates().groupby('country').count().reset_index().sort_values('customer_id', ascending = False).head()"
   ]
  },
  {
   "cell_type": "markdown",
   "id": "75f04ca8",
   "metadata": {},
   "source": [
    "# Data Filtering"
   ]
  },
  {
   "cell_type": "code",
   "execution_count": 38,
   "id": "e59fd162",
   "metadata": {
    "ExecuteTime": {
     "end_time": "2022-11-11T17:07:58.349954Z",
     "start_time": "2022-11-11T17:07:58.320949Z"
    }
   },
   "outputs": [],
   "source": [
    "df2 = df1.copy()"
   ]
  },
  {
   "cell_type": "markdown",
   "id": "bc068fa9",
   "metadata": {
    "ExecuteTime": {
     "end_time": "2022-09-08T11:04:56.784249Z",
     "start_time": "2022-09-08T11:04:56.771242Z"
    }
   },
   "source": [
    "Makes sense to filter some data: negative quantity values, assuming returns in the table."
   ]
  },
  {
   "cell_type": "markdown",
   "id": "084bb8e9",
   "metadata": {},
   "source": [
    "2 ways - \n",
    "- exclude what has been returned, like customer had never bought the product?\n",
    "- other way to create new feature based on returns. - Return feature would be beneficial to score clients?\n",
    "(returns consumes resources)\n",
    "\n",
    "Creating feature for returns."
   ]
  },
  {
   "cell_type": "code",
   "execution_count": 39,
   "id": "4ab8b3fc",
   "metadata": {
    "ExecuteTime": {
     "end_time": "2022-11-11T17:07:58.537882Z",
     "start_time": "2022-11-11T17:07:58.351939Z"
    }
   },
   "outputs": [
    {
     "data": {
      "text/html": [
       "<div>\n",
       "<style scoped>\n",
       "    .dataframe tbody tr th:only-of-type {\n",
       "        vertical-align: middle;\n",
       "    }\n",
       "\n",
       "    .dataframe tbody tr th {\n",
       "        vertical-align: top;\n",
       "    }\n",
       "\n",
       "    .dataframe thead th {\n",
       "        text-align: right;\n",
       "    }\n",
       "</style>\n",
       "<table border=\"1\" class=\"dataframe\">\n",
       "  <thead>\n",
       "    <tr style=\"text-align: right;\">\n",
       "      <th></th>\n",
       "      <th>customer_id</th>\n",
       "      <th>description</th>\n",
       "      <th>unit_price</th>\n",
       "    </tr>\n",
       "  </thead>\n",
       "  <tbody>\n",
       "    <tr>\n",
       "      <th>157195</th>\n",
       "      <td>13952</td>\n",
       "      <td>PADS TO MATCH ALL CUSHIONS</td>\n",
       "      <td>0.001</td>\n",
       "    </tr>\n",
       "    <tr>\n",
       "      <th>279045</th>\n",
       "      <td>15618</td>\n",
       "      <td>PADS TO MATCH ALL CUSHIONS</td>\n",
       "      <td>0.001</td>\n",
       "    </tr>\n",
       "    <tr>\n",
       "      <th>361741</th>\n",
       "      <td>13405</td>\n",
       "      <td>Bank Charges</td>\n",
       "      <td>0.001</td>\n",
       "    </tr>\n",
       "    <tr>\n",
       "      <th>359871</th>\n",
       "      <td>16198</td>\n",
       "      <td>PADS TO MATCH ALL CUSHIONS</td>\n",
       "      <td>0.001</td>\n",
       "    </tr>\n",
       "    <tr>\n",
       "      <th>108088</th>\n",
       "      <td>16422</td>\n",
       "      <td>Discount</td>\n",
       "      <td>0.010</td>\n",
       "    </tr>\n",
       "    <tr>\n",
       "      <th>182729</th>\n",
       "      <td>12901</td>\n",
       "      <td>Discount</td>\n",
       "      <td>0.030</td>\n",
       "    </tr>\n",
       "    <tr>\n",
       "      <th>355050</th>\n",
       "      <td>16422</td>\n",
       "      <td>Manual</td>\n",
       "      <td>0.030</td>\n",
       "    </tr>\n",
       "    <tr>\n",
       "      <th>4287</th>\n",
       "      <td>15838</td>\n",
       "      <td>ROTATING SILVER ANGELS T-LIGHT HLDR</td>\n",
       "      <td>0.030</td>\n",
       "    </tr>\n",
       "    <tr>\n",
       "      <th>362028</th>\n",
       "      <td>16629</td>\n",
       "      <td>POPART WOODEN PENCILS ASST</td>\n",
       "      <td>0.040</td>\n",
       "    </tr>\n",
       "    <tr>\n",
       "      <th>303023</th>\n",
       "      <td>16488</td>\n",
       "      <td>POPART WOODEN PENCILS ASST</td>\n",
       "      <td>0.040</td>\n",
       "    </tr>\n",
       "  </tbody>\n",
       "</table>\n",
       "</div>"
      ],
      "text/plain": [
       "        customer_id                          description  unit_price\n",
       "157195        13952           PADS TO MATCH ALL CUSHIONS       0.001\n",
       "279045        15618           PADS TO MATCH ALL CUSHIONS       0.001\n",
       "361741        13405                         Bank Charges       0.001\n",
       "359871        16198           PADS TO MATCH ALL CUSHIONS       0.001\n",
       "108088        16422                             Discount       0.010\n",
       "182729        12901                             Discount       0.030\n",
       "355050        16422                               Manual       0.030\n",
       "4287          15838  ROTATING SILVER ANGELS T-LIGHT HLDR       0.030\n",
       "362028        16629           POPART WOODEN PENCILS ASST       0.040\n",
       "303023        16488           POPART WOODEN PENCILS ASST       0.040"
      ]
     },
     "execution_count": 39,
     "metadata": {},
     "output_type": "execute_result"
    }
   ],
   "source": [
    "df2.loc[df2['unit_price'] > 0.0, ['customer_id', 'description', 'unit_price']].sort_values('unit_price', ascending = True).head(10)\n",
    "# df1[['customer_id', 'description', 'unit_price']].sort_values('unit_price', ascending = True).head(10))\n"
   ]
  },
  {
   "cell_type": "code",
   "execution_count": 40,
   "id": "6afc34b3",
   "metadata": {
    "ExecuteTime": {
     "end_time": "2022-11-11T17:07:58.553875Z",
     "start_time": "2022-11-11T17:07:58.539879Z"
    }
   },
   "outputs": [
    {
     "data": {
      "text/html": [
       "<div>\n",
       "<style scoped>\n",
       "    .dataframe tbody tr th:only-of-type {\n",
       "        vertical-align: middle;\n",
       "    }\n",
       "\n",
       "    .dataframe tbody tr th {\n",
       "        vertical-align: top;\n",
       "    }\n",
       "\n",
       "    .dataframe thead th {\n",
       "        text-align: right;\n",
       "    }\n",
       "</style>\n",
       "<table border=\"1\" class=\"dataframe\">\n",
       "  <thead>\n",
       "    <tr style=\"text-align: right;\">\n",
       "      <th></th>\n",
       "      <th>invoice_no</th>\n",
       "      <th>stock_code</th>\n",
       "      <th>description</th>\n",
       "      <th>quantity</th>\n",
       "      <th>invoice_date</th>\n",
       "      <th>unit_price</th>\n",
       "      <th>country</th>\n",
       "      <th>customer_id</th>\n",
       "    </tr>\n",
       "  </thead>\n",
       "  <tbody>\n",
       "    <tr>\n",
       "      <th>0</th>\n",
       "      <td>536365</td>\n",
       "      <td>85123A</td>\n",
       "      <td>WHITE HANGING HEART T-LIGHT HOLDER</td>\n",
       "      <td>6</td>\n",
       "      <td>2016-11-29</td>\n",
       "      <td>2.55</td>\n",
       "      <td>United Kingdom</td>\n",
       "      <td>17850</td>\n",
       "    </tr>\n",
       "    <tr>\n",
       "      <th>1</th>\n",
       "      <td>536365</td>\n",
       "      <td>71053</td>\n",
       "      <td>WHITE METAL LANTERN</td>\n",
       "      <td>6</td>\n",
       "      <td>2016-11-29</td>\n",
       "      <td>3.39</td>\n",
       "      <td>United Kingdom</td>\n",
       "      <td>17850</td>\n",
       "    </tr>\n",
       "    <tr>\n",
       "      <th>2</th>\n",
       "      <td>536365</td>\n",
       "      <td>84406B</td>\n",
       "      <td>CREAM CUPID HEARTS COAT HANGER</td>\n",
       "      <td>8</td>\n",
       "      <td>2016-11-29</td>\n",
       "      <td>2.75</td>\n",
       "      <td>United Kingdom</td>\n",
       "      <td>17850</td>\n",
       "    </tr>\n",
       "    <tr>\n",
       "      <th>3</th>\n",
       "      <td>536365</td>\n",
       "      <td>84029G</td>\n",
       "      <td>KNITTED UNION FLAG HOT WATER BOTTLE</td>\n",
       "      <td>6</td>\n",
       "      <td>2016-11-29</td>\n",
       "      <td>3.39</td>\n",
       "      <td>United Kingdom</td>\n",
       "      <td>17850</td>\n",
       "    </tr>\n",
       "    <tr>\n",
       "      <th>4</th>\n",
       "      <td>536365</td>\n",
       "      <td>84029E</td>\n",
       "      <td>RED WOOLLY HOTTIE WHITE HEART.</td>\n",
       "      <td>6</td>\n",
       "      <td>2016-11-29</td>\n",
       "      <td>3.39</td>\n",
       "      <td>United Kingdom</td>\n",
       "      <td>17850</td>\n",
       "    </tr>\n",
       "  </tbody>\n",
       "</table>\n",
       "</div>"
      ],
      "text/plain": [
       "  invoice_no stock_code                          description  quantity invoice_date  unit_price         country  customer_id\n",
       "0     536365     85123A   WHITE HANGING HEART T-LIGHT HOLDER         6   2016-11-29        2.55  United Kingdom        17850\n",
       "1     536365      71053                  WHITE METAL LANTERN         6   2016-11-29        3.39  United Kingdom        17850\n",
       "2     536365     84406B       CREAM CUPID HEARTS COAT HANGER         8   2016-11-29        2.75  United Kingdom        17850\n",
       "3     536365     84029G  KNITTED UNION FLAG HOT WATER BOTTLE         6   2016-11-29        3.39  United Kingdom        17850\n",
       "4     536365     84029E       RED WOOLLY HOTTIE WHITE HEART.         6   2016-11-29        3.39  United Kingdom        17850"
      ]
     },
     "execution_count": 40,
     "metadata": {},
     "output_type": "execute_result"
    }
   ],
   "source": [
    "df2.head()"
   ]
  },
  {
   "cell_type": "markdown",
   "id": "3ddb1de1",
   "metadata": {
    "ExecuteTime": {
     "end_time": "2022-11-10T09:54:42.757244Z",
     "start_time": "2022-11-10T09:54:42.737253Z"
    }
   },
   "source": [
    "- Filetering out: \n",
    "    - products with unit_price less than 4p(?), \n",
    "    - letters on stock_code, non-specific countries, \n",
    "    - and dropping \n",
    "    \n",
    "- Auxiliary dataframes df2_returns and df2_purchase."
   ]
  },
  {
   "cell_type": "code",
   "execution_count": 41,
   "id": "6715ca04",
   "metadata": {
    "ExecuteTime": {
     "end_time": "2022-11-11T17:07:58.883769Z",
     "start_time": "2022-11-11T17:07:58.556875Z"
    }
   },
   "outputs": [],
   "source": [
    "# Numerical Attributes\n",
    "# unit price > 0\n",
    "df2 = df2.loc[df2['unit_price'] >= 0.04, :]  # there are products that price is 0.001\n",
    "\n",
    "# Categorical Attributes\n",
    "# stock code != [POST, D, M, DOT, CRUK]  \n",
    "# New ones ['POST', 'D', 'DOT', 'M', 'S', 'AMAZONFEE', 'm', 'DCGSSBOY', 'DCGSSGIRL', 'PADS', 'B', 'CRUK']\n",
    "#df2 = df2[~df2['stock_code'].isin(['POST' 'D' 'M' 'PADS' 'DOT' 'CRUK'])]  # removing these products...\n",
    "df2 = df2[~df2['stock_code'].isin(['POST', 'D', 'DOT', 'M', 'S', 'AMAZONFEE', 'm', 'DCGSSBOY', 'DCGSSGIRL', 'PADS', 'B', 'CRUK'])]  # removing these products...\n",
    "\n",
    "# Countries\n",
    "# remove not specific like EU, and unspecified.\n",
    "df2 = df2[~df2['country'].isin(['European Community', 'Unspecified'])]\n",
    "\n",
    "# Description - drop it\n",
    "df2 = df2.drop(columns = 'description', axis = 1)\n",
    "\n",
    "# quantity - assuming negative numbers are returns.\n",
    "df2_returns = df2.loc[df2['quantity'] < 0,:]\n",
    "df2_purchase = df2.loc[df2['quantity'] > 0,:]\n",
    "\n",
    "\n",
    "# df2.loc[df2['quantity'] < 0,:].sort_values(['customer_id','description']).head()"
   ]
  },
  {
   "cell_type": "markdown",
   "id": "02be4505",
   "metadata": {
    "ExecuteTime": {
     "end_time": "2022-08-28T11:57:05.264344Z",
     "start_time": "2022-08-28T11:57:05.256350Z"
    }
   },
   "source": [
    "# Feature Engineering"
   ]
  },
  {
   "cell_type": "code",
   "execution_count": 42,
   "id": "4673794c",
   "metadata": {
    "ExecuteTime": {
     "end_time": "2022-11-11T17:07:58.930755Z",
     "start_time": "2022-11-11T17:07:58.885770Z"
    }
   },
   "outputs": [],
   "source": [
    "df3 = df2.copy()\n",
    "df3_purchase = df2_purchase.copy()\n",
    "df3_returns = df2_returns.copy()"
   ]
  },
  {
   "cell_type": "markdown",
   "id": "f1416585",
   "metadata": {},
   "source": [
    "## Feature Creation"
   ]
  },
  {
   "cell_type": "markdown",
   "id": "e974bd88",
   "metadata": {
    "ExecuteTime": {
     "end_time": "2022-11-10T09:16:25.605739Z",
     "start_time": "2022-11-10T09:16:25.595757Z"
    }
   },
   "source": [
    "Here df3_ref will be the table compiled with features grouped by customers ID."
   ]
  },
  {
   "cell_type": "code",
   "execution_count": 43,
   "id": "344ee0a5",
   "metadata": {
    "ExecuteTime": {
     "end_time": "2022-11-11T17:07:58.992735Z",
     "start_time": "2022-11-11T17:07:58.932755Z"
    }
   },
   "outputs": [
    {
     "data": {
      "text/html": [
       "<div>\n",
       "<style scoped>\n",
       "    .dataframe tbody tr th:only-of-type {\n",
       "        vertical-align: middle;\n",
       "    }\n",
       "\n",
       "    .dataframe tbody tr th {\n",
       "        vertical-align: top;\n",
       "    }\n",
       "\n",
       "    .dataframe thead th {\n",
       "        text-align: right;\n",
       "    }\n",
       "</style>\n",
       "<table border=\"1\" class=\"dataframe\">\n",
       "  <thead>\n",
       "    <tr style=\"text-align: right;\">\n",
       "      <th></th>\n",
       "      <th>customer_id</th>\n",
       "    </tr>\n",
       "  </thead>\n",
       "  <tbody>\n",
       "    <tr>\n",
       "      <th>0</th>\n",
       "      <td>17850</td>\n",
       "    </tr>\n",
       "    <tr>\n",
       "      <th>1</th>\n",
       "      <td>13047</td>\n",
       "    </tr>\n",
       "    <tr>\n",
       "      <th>2</th>\n",
       "      <td>12583</td>\n",
       "    </tr>\n",
       "    <tr>\n",
       "      <th>3</th>\n",
       "      <td>13748</td>\n",
       "    </tr>\n",
       "    <tr>\n",
       "      <th>4</th>\n",
       "      <td>15100</td>\n",
       "    </tr>\n",
       "  </tbody>\n",
       "</table>\n",
       "</div>"
      ],
      "text/plain": [
       "   customer_id\n",
       "0        17850\n",
       "1        13047\n",
       "2        12583\n",
       "3        13748\n",
       "4        15100"
      ]
     },
     "execution_count": 43,
     "metadata": {},
     "output_type": "execute_result"
    }
   ],
   "source": [
    "# data referencing\n",
    "df3_ref = df3.drop(['invoice_no','stock_code',\n",
    "                   'quantity','invoice_date','unit_price',\n",
    "                   'country'], axis = 1).drop_duplicates(ignore_index = True)\n",
    "df3_ref.head()\n",
    "\n",
    "# Gross Revenue ( qtt * price)\n",
    "# Recency - latest purchase data for customer\n",
    "# Frequency - how many products client bought in one year period"
   ]
  },
  {
   "cell_type": "markdown",
   "id": "eeb8fb73",
   "metadata": {},
   "source": [
    "### Gross Revenue"
   ]
  },
  {
   "cell_type": "markdown",
   "id": "4397ab2c",
   "metadata": {},
   "source": [
    "Calculating the total ammount of revenue a customer has generated"
   ]
  },
  {
   "cell_type": "code",
   "execution_count": 44,
   "id": "87131476",
   "metadata": {
    "ExecuteTime": {
     "end_time": "2022-11-11T17:07:59.072710Z",
     "start_time": "2022-11-11T17:07:58.994735Z"
    },
    "scrolled": true
   },
   "outputs": [
    {
     "data": {
      "text/plain": [
       "customer_id       0\n",
       "gross_revenue    91\n",
       "dtype: int64"
      ]
     },
     "execution_count": 44,
     "metadata": {},
     "output_type": "execute_result"
    }
   ],
   "source": [
    "# Gross Revenue:\n",
    "df3_purchase.loc[:,'gross_revenue'] = df3_purchase.loc[:,'quantity'] * df2_purchase.loc[:,'unit_price']\n",
    "\n",
    "# # Monetary:\n",
    "df_monetary = df3_purchase.loc[:,['customer_id', 'gross_revenue']].groupby('customer_id').sum().reset_index()\n",
    "df3_ref = pd.merge(df3_ref, df_monetary, how = 'left', on = 'customer_id')\n",
    "df3_ref.isna().sum()"
   ]
  },
  {
   "cell_type": "markdown",
   "id": "b0c5e0ae",
   "metadata": {
    "ExecuteTime": {
     "end_time": "2022-09-09T09:59:04.953011Z",
     "start_time": "2022-09-09T09:59:04.935020Z"
    }
   },
   "source": [
    "### Recency - Days since last purchase"
   ]
  },
  {
   "cell_type": "code",
   "execution_count": 45,
   "id": "89b7ec8e",
   "metadata": {
    "ExecuteTime": {
     "end_time": "2022-11-11T17:07:59.151684Z",
     "start_time": "2022-11-11T17:07:59.074709Z"
    }
   },
   "outputs": [
    {
     "name": "stdout",
     "output_type": "stream",
     "text": [
      "*******Nas before merge:\n",
      "customer_id     0\n",
      "recency_days    0\n",
      "dtype: int64\n",
      "*******Nas After merge:\n",
      "customer_id       0\n",
      "gross_revenue    91\n",
      "recency_days     91\n",
      "dtype: int64\n"
     ]
    }
   ],
   "source": [
    "# Recency - how long has it been since the last puchase.\n",
    "df3_recency = df3_purchase[['customer_id', 'invoice_date']].groupby('customer_id').max().reset_index()\n",
    "df3_recency['recency_days'] = (df3_purchase['invoice_date'].max() - df3_recency['invoice_date']).dt.days  # using dt, to get int type\n",
    "df3_recency = df3_recency[['customer_id','recency_days']].copy()\n",
    "\n",
    "print('*******Nas before merge:')\n",
    "print(df3_recency.isna().sum())\n",
    "\n",
    "df3_ref = pd.merge(df3_ref, df3_recency, how = 'left', on = 'customer_id')\n",
    "\n",
    "print('*******Nas After merge:')\n",
    "print(df3_ref.isna().sum())\n",
    "# 33 clients never bought anything, onlyu returns... likely data doesn´t comprehend these purchases."
   ]
  },
  {
   "cell_type": "code",
   "execution_count": null,
   "id": "32663777",
   "metadata": {},
   "outputs": [],
   "source": []
  },
  {
   "cell_type": "markdown",
   "id": "cf41db2d",
   "metadata": {
    "ExecuteTime": {
     "end_time": "2022-09-09T10:00:19.899680Z",
     "start_time": "2022-09-09T10:00:19.882672Z"
    }
   },
   "source": [
    "### Ammount purchased"
   ]
  },
  {
   "cell_type": "code",
   "execution_count": 46,
   "id": "4794a703",
   "metadata": {
    "ExecuteTime": {
     "end_time": "2022-11-11T17:07:59.293638Z",
     "start_time": "2022-11-11T17:07:59.153685Z"
    }
   },
   "outputs": [
    {
     "data": {
      "text/html": [
       "<div>\n",
       "<style scoped>\n",
       "    .dataframe tbody tr th:only-of-type {\n",
       "        vertical-align: middle;\n",
       "    }\n",
       "\n",
       "    .dataframe tbody tr th {\n",
       "        vertical-align: top;\n",
       "    }\n",
       "\n",
       "    .dataframe thead th {\n",
       "        text-align: right;\n",
       "    }\n",
       "</style>\n",
       "<table border=\"1\" class=\"dataframe\">\n",
       "  <thead>\n",
       "    <tr style=\"text-align: right;\">\n",
       "      <th></th>\n",
       "      <th>customer_id</th>\n",
       "      <th>gross_revenue</th>\n",
       "      <th>recency_days</th>\n",
       "      <th>invoice_ammt</th>\n",
       "    </tr>\n",
       "  </thead>\n",
       "  <tbody>\n",
       "    <tr>\n",
       "      <th>0</th>\n",
       "      <td>17850</td>\n",
       "      <td>5391.21</td>\n",
       "      <td>372.0</td>\n",
       "      <td>34.0</td>\n",
       "    </tr>\n",
       "    <tr>\n",
       "      <th>1</th>\n",
       "      <td>13047</td>\n",
       "      <td>3232.59</td>\n",
       "      <td>56.0</td>\n",
       "      <td>9.0</td>\n",
       "    </tr>\n",
       "    <tr>\n",
       "      <th>2</th>\n",
       "      <td>12583</td>\n",
       "      <td>6705.38</td>\n",
       "      <td>2.0</td>\n",
       "      <td>15.0</td>\n",
       "    </tr>\n",
       "    <tr>\n",
       "      <th>3</th>\n",
       "      <td>13748</td>\n",
       "      <td>948.25</td>\n",
       "      <td>95.0</td>\n",
       "      <td>5.0</td>\n",
       "    </tr>\n",
       "    <tr>\n",
       "      <th>4</th>\n",
       "      <td>15100</td>\n",
       "      <td>876.00</td>\n",
       "      <td>333.0</td>\n",
       "      <td>3.0</td>\n",
       "    </tr>\n",
       "  </tbody>\n",
       "</table>\n",
       "</div>"
      ],
      "text/plain": [
       "   customer_id  gross_revenue  recency_days  invoice_ammt\n",
       "0        17850        5391.21         372.0          34.0\n",
       "1        13047        3232.59          56.0           9.0\n",
       "2        12583        6705.38           2.0          15.0\n",
       "3        13748         948.25          95.0           5.0\n",
       "4        15100         876.00         333.0           3.0"
      ]
     },
     "execution_count": 46,
     "metadata": {},
     "output_type": "execute_result"
    }
   ],
   "source": [
    "# This it just the number different (variety of) products bought\n",
    "df3_ammt_purchased = df3_purchase[['customer_id', 'invoice_no']].drop_duplicates().groupby('customer_id').count().reset_index().rename(columns ={'invoice_no':'invoice_ammt'})\n",
    "df3_ref = pd.merge(df3_ref, df3_ammt_purchased, how = 'left', on = 'customer_id')\n",
    "df3_ref.isna().sum()\n",
    "df3_ref.head()"
   ]
  },
  {
   "cell_type": "markdown",
   "id": "ce81e886",
   "metadata": {},
   "source": [
    "### Ammount products items  purchased"
   ]
  },
  {
   "cell_type": "code",
   "execution_count": 47,
   "id": "a248a6e7",
   "metadata": {
    "ExecuteTime": {
     "end_time": "2022-11-11T17:07:59.388609Z",
     "start_time": "2022-11-11T17:07:59.295638Z"
    }
   },
   "outputs": [
    {
     "data": {
      "text/html": [
       "<div>\n",
       "<style scoped>\n",
       "    .dataframe tbody tr th:only-of-type {\n",
       "        vertical-align: middle;\n",
       "    }\n",
       "\n",
       "    .dataframe tbody tr th {\n",
       "        vertical-align: top;\n",
       "    }\n",
       "\n",
       "    .dataframe thead th {\n",
       "        text-align: right;\n",
       "    }\n",
       "</style>\n",
       "<table border=\"1\" class=\"dataframe\">\n",
       "  <thead>\n",
       "    <tr style=\"text-align: right;\">\n",
       "      <th></th>\n",
       "      <th>customer_id</th>\n",
       "      <th>gross_revenue</th>\n",
       "      <th>recency_days</th>\n",
       "      <th>invoice_ammt</th>\n",
       "      <th>item_ammt</th>\n",
       "    </tr>\n",
       "  </thead>\n",
       "  <tbody>\n",
       "    <tr>\n",
       "      <th>0</th>\n",
       "      <td>17850</td>\n",
       "      <td>5391.21</td>\n",
       "      <td>372.0</td>\n",
       "      <td>34.0</td>\n",
       "      <td>1733.0</td>\n",
       "    </tr>\n",
       "    <tr>\n",
       "      <th>1</th>\n",
       "      <td>13047</td>\n",
       "      <td>3232.59</td>\n",
       "      <td>56.0</td>\n",
       "      <td>9.0</td>\n",
       "      <td>1390.0</td>\n",
       "    </tr>\n",
       "    <tr>\n",
       "      <th>2</th>\n",
       "      <td>12583</td>\n",
       "      <td>6705.38</td>\n",
       "      <td>2.0</td>\n",
       "      <td>15.0</td>\n",
       "      <td>5028.0</td>\n",
       "    </tr>\n",
       "    <tr>\n",
       "      <th>3</th>\n",
       "      <td>13748</td>\n",
       "      <td>948.25</td>\n",
       "      <td>95.0</td>\n",
       "      <td>5.0</td>\n",
       "      <td>439.0</td>\n",
       "    </tr>\n",
       "    <tr>\n",
       "      <th>4</th>\n",
       "      <td>15100</td>\n",
       "      <td>876.00</td>\n",
       "      <td>333.0</td>\n",
       "      <td>3.0</td>\n",
       "      <td>80.0</td>\n",
       "    </tr>\n",
       "  </tbody>\n",
       "</table>\n",
       "</div>"
      ],
      "text/plain": [
       "   customer_id  gross_revenue  recency_days  invoice_ammt  item_ammt\n",
       "0        17850        5391.21         372.0          34.0     1733.0\n",
       "1        13047        3232.59          56.0           9.0     1390.0\n",
       "2        12583        6705.38           2.0          15.0     5028.0\n",
       "3        13748         948.25          95.0           5.0      439.0\n",
       "4        15100         876.00         333.0           3.0       80.0"
      ]
     },
     "execution_count": 47,
     "metadata": {},
     "output_type": "execute_result"
    }
   ],
   "source": [
    "# This it just the number of products bought\n",
    "df3_i_ammt_purchased = df3_purchase[['customer_id', 'quantity']].groupby('customer_id').sum().rename(columns = {'quantity':'item_ammt'}).reset_index()\n",
    "df3_ref = pd.merge(df3_ref, df3_i_ammt_purchased, how = 'left', on = 'customer_id')\n",
    "df3_ref.isna().sum()\n",
    "df3_ref.head()"
   ]
  },
  {
   "cell_type": "markdown",
   "id": "a2f76301",
   "metadata": {},
   "source": [
    "### Ammount different products purchased"
   ]
  },
  {
   "cell_type": "code",
   "execution_count": 48,
   "id": "9023e020",
   "metadata": {
    "ExecuteTime": {
     "end_time": "2022-11-11T17:07:59.497574Z",
     "start_time": "2022-11-11T17:07:59.390609Z"
    }
   },
   "outputs": [
    {
     "name": "stdout",
     "output_type": "stream",
     "text": [
      "customer_id           0\n",
      "gross_revenue        91\n",
      "recency_days         91\n",
      "invoice_ammt         91\n",
      "item_ammt            91\n",
      "n_of_dif_products    91\n",
      "dtype: int64\n"
     ]
    },
    {
     "data": {
      "text/html": [
       "<div>\n",
       "<style scoped>\n",
       "    .dataframe tbody tr th:only-of-type {\n",
       "        vertical-align: middle;\n",
       "    }\n",
       "\n",
       "    .dataframe tbody tr th {\n",
       "        vertical-align: top;\n",
       "    }\n",
       "\n",
       "    .dataframe thead th {\n",
       "        text-align: right;\n",
       "    }\n",
       "</style>\n",
       "<table border=\"1\" class=\"dataframe\">\n",
       "  <thead>\n",
       "    <tr style=\"text-align: right;\">\n",
       "      <th></th>\n",
       "      <th>customer_id</th>\n",
       "      <th>gross_revenue</th>\n",
       "      <th>recency_days</th>\n",
       "      <th>invoice_ammt</th>\n",
       "      <th>item_ammt</th>\n",
       "      <th>n_of_dif_products</th>\n",
       "    </tr>\n",
       "  </thead>\n",
       "  <tbody>\n",
       "    <tr>\n",
       "      <th>0</th>\n",
       "      <td>17850</td>\n",
       "      <td>5391.21</td>\n",
       "      <td>372.0</td>\n",
       "      <td>34.0</td>\n",
       "      <td>1733.0</td>\n",
       "      <td>297.0</td>\n",
       "    </tr>\n",
       "    <tr>\n",
       "      <th>1</th>\n",
       "      <td>13047</td>\n",
       "      <td>3232.59</td>\n",
       "      <td>56.0</td>\n",
       "      <td>9.0</td>\n",
       "      <td>1390.0</td>\n",
       "      <td>171.0</td>\n",
       "    </tr>\n",
       "    <tr>\n",
       "      <th>2</th>\n",
       "      <td>12583</td>\n",
       "      <td>6705.38</td>\n",
       "      <td>2.0</td>\n",
       "      <td>15.0</td>\n",
       "      <td>5028.0</td>\n",
       "      <td>232.0</td>\n",
       "    </tr>\n",
       "    <tr>\n",
       "      <th>3</th>\n",
       "      <td>13748</td>\n",
       "      <td>948.25</td>\n",
       "      <td>95.0</td>\n",
       "      <td>5.0</td>\n",
       "      <td>439.0</td>\n",
       "      <td>28.0</td>\n",
       "    </tr>\n",
       "    <tr>\n",
       "      <th>4</th>\n",
       "      <td>15100</td>\n",
       "      <td>876.00</td>\n",
       "      <td>333.0</td>\n",
       "      <td>3.0</td>\n",
       "      <td>80.0</td>\n",
       "      <td>3.0</td>\n",
       "    </tr>\n",
       "  </tbody>\n",
       "</table>\n",
       "</div>"
      ],
      "text/plain": [
       "   customer_id  gross_revenue  recency_days  invoice_ammt  item_ammt  n_of_dif_products\n",
       "0        17850        5391.21         372.0          34.0     1733.0              297.0\n",
       "1        13047        3232.59          56.0           9.0     1390.0              171.0\n",
       "2        12583        6705.38           2.0          15.0     5028.0              232.0\n",
       "3        13748         948.25          95.0           5.0      439.0               28.0\n",
       "4        15100         876.00         333.0           3.0       80.0                3.0"
      ]
     },
     "execution_count": 48,
     "metadata": {},
     "output_type": "execute_result"
    }
   ],
   "source": [
    "# This it just the number of products bought\n",
    "df3_ammt_type_of_prod_purchased = df3_purchase[['customer_id', 'stock_code']].groupby('customer_id').count().rename(columns = {'stock_code':'n_of_dif_products'}).reset_index()\n",
    "df3_ref = pd.merge(df3_ref, df3_ammt_type_of_prod_purchased, how = 'left', on = 'customer_id')\n",
    "print(df3_ref.isna().sum())\n",
    "df3_ref.head()"
   ]
  },
  {
   "cell_type": "markdown",
   "id": "d9e1d98f",
   "metadata": {},
   "source": [
    "### Average Ticket Value"
   ]
  },
  {
   "cell_type": "code",
   "execution_count": 49,
   "id": "46ec7a40",
   "metadata": {
    "ExecuteTime": {
     "end_time": "2022-11-11T17:07:59.577550Z",
     "start_time": "2022-11-11T17:07:59.499573Z"
    }
   },
   "outputs": [
    {
     "data": {
      "text/plain": [
       "customer_id           0\n",
       "gross_revenue        91\n",
       "recency_days         91\n",
       "invoice_ammt         91\n",
       "item_ammt            91\n",
       "n_of_dif_products    91\n",
       "avg_ticket           91\n",
       "dtype: int64"
      ]
     },
     "execution_count": 49,
     "metadata": {},
     "output_type": "execute_result"
    }
   ],
   "source": [
    "# Avg Ticket\n",
    "df3_avg_ticket = df3_purchase[['customer_id', 'gross_revenue']].groupby('customer_id').mean().reset_index().rename(columns={'gross_revenue':'avg_ticket'})\n",
    "df3_avg_ticket['avg_ticket'] = np.round(df3_avg_ticket['avg_ticket'],2 )\n",
    "df3_ref = pd.merge(df3_ref, df3_avg_ticket, on = 'customer_id', how = 'left')\n",
    "df3_ref.isna().sum()\n",
    "\n",
    "# df_ref.head()"
   ]
  },
  {
   "cell_type": "markdown",
   "id": "e595edc0",
   "metadata": {
    "ExecuteTime": {
     "end_time": "2022-09-09T10:02:27.978469Z",
     "start_time": "2022-09-09T10:02:27.961461Z"
    }
   },
   "source": [
    "### Average Recency Days"
   ]
  },
  {
   "cell_type": "code",
   "execution_count": 66,
   "id": "46437d84",
   "metadata": {
    "ExecuteTime": {
     "end_time": "2022-11-11T18:09:44.639289Z",
     "start_time": "2022-11-11T18:09:32.584133Z"
    }
   },
   "outputs": [
    {
     "data": {
      "text/plain": [
       "customer_id                  0\n",
       "gross_revenue               91\n",
       "recency_days                91\n",
       "invoice_ammt                91\n",
       "item_ammt                   91\n",
       "n_of_dif_products           91\n",
       "avg_ticket                  91\n",
       "avg_recency_days_x        2816\n",
       "frequency                    0\n",
       "qtt_returns                  0\n",
       "avg_basket_size             91\n",
       "avg_unique_basket_size      91\n",
       "avg_recency_days_y        2816\n",
       "dtype: int64"
      ]
     },
     "execution_count": 66,
     "metadata": {},
     "output_type": "execute_result"
    }
   ],
   "source": [
    "# df2.loc[df2['customer_id'] == 17850,:]\n",
    "\n",
    "df3_aux = df3[['customer_id', 'invoice_date']].drop_duplicates().sort_values(['customer_id','invoice_date'], ascending =[False,False])\n",
    "df3_aux['next_customer_id'] = df3_aux['customer_id'].shift() #next cx\n",
    "df3_aux['previous_date'] = df3_aux['invoice_date'].shift() # next  invoice dt\n",
    "\n",
    "df3_aux['avg_recency_days'] = df3_aux.apply(lambda x: (x['invoice_date'] - x['previous_date']).days if x['customer_id'] == x['next_customer_id'] else np.nan, axis = 1)\n",
    "\n",
    "df3_aux = df3_aux.drop(['invoice_date', 'next_customer_id', 'previous_date'], axis =1).dropna()\n",
    "\n",
    "#avg recency\n",
    "df3_avg_recency_days = df3_aux.groupby('customer_id').mean().reset_index()\n",
    "\n",
    "#Merging\n",
    "df3_ref = pd.merge(df3_ref, df3_avg_recency_days, on ='customer_id', how = 'left' )\n",
    "\n",
    "df3_ref.isna().sum()\n",
    "# df_aux.dtypes\n"
   ]
  },
  {
   "cell_type": "code",
   "execution_count": 51,
   "id": "4c7d3e3c",
   "metadata": {
    "ExecuteTime": {
     "end_time": "2022-11-11T17:08:01.090065Z",
     "start_time": "2022-11-11T17:08:01.061075Z"
    },
    "scrolled": true
   },
   "outputs": [
    {
     "data": {
      "text/html": [
       "<div>\n",
       "<style scoped>\n",
       "    .dataframe tbody tr th:only-of-type {\n",
       "        vertical-align: middle;\n",
       "    }\n",
       "\n",
       "    .dataframe tbody tr th {\n",
       "        vertical-align: top;\n",
       "    }\n",
       "\n",
       "    .dataframe thead th {\n",
       "        text-align: right;\n",
       "    }\n",
       "</style>\n",
       "<table border=\"1\" class=\"dataframe\">\n",
       "  <thead>\n",
       "    <tr style=\"text-align: right;\">\n",
       "      <th></th>\n",
       "      <th>customer_id</th>\n",
       "      <th>gross_revenue</th>\n",
       "      <th>recency_days</th>\n",
       "      <th>invoice_ammt</th>\n",
       "      <th>item_ammt</th>\n",
       "      <th>n_of_dif_products</th>\n",
       "      <th>avg_ticket</th>\n",
       "      <th>avg_recency_days</th>\n",
       "    </tr>\n",
       "  </thead>\n",
       "  <tbody>\n",
       "    <tr>\n",
       "      <th>0</th>\n",
       "      <td>17850</td>\n",
       "      <td>5391.21</td>\n",
       "      <td>372.0</td>\n",
       "      <td>34.0</td>\n",
       "      <td>1733.0</td>\n",
       "      <td>297.0</td>\n",
       "      <td>18.15</td>\n",
       "      <td>35.500000</td>\n",
       "    </tr>\n",
       "    <tr>\n",
       "      <th>1</th>\n",
       "      <td>13047</td>\n",
       "      <td>3232.59</td>\n",
       "      <td>56.0</td>\n",
       "      <td>9.0</td>\n",
       "      <td>1390.0</td>\n",
       "      <td>171.0</td>\n",
       "      <td>18.90</td>\n",
       "      <td>27.250000</td>\n",
       "    </tr>\n",
       "    <tr>\n",
       "      <th>2</th>\n",
       "      <td>12583</td>\n",
       "      <td>6705.38</td>\n",
       "      <td>2.0</td>\n",
       "      <td>15.0</td>\n",
       "      <td>5028.0</td>\n",
       "      <td>232.0</td>\n",
       "      <td>28.90</td>\n",
       "      <td>23.187500</td>\n",
       "    </tr>\n",
       "    <tr>\n",
       "      <th>3</th>\n",
       "      <td>13748</td>\n",
       "      <td>948.25</td>\n",
       "      <td>95.0</td>\n",
       "      <td>5.0</td>\n",
       "      <td>439.0</td>\n",
       "      <td>28.0</td>\n",
       "      <td>33.87</td>\n",
       "      <td>92.666667</td>\n",
       "    </tr>\n",
       "    <tr>\n",
       "      <th>4</th>\n",
       "      <td>15100</td>\n",
       "      <td>876.00</td>\n",
       "      <td>333.0</td>\n",
       "      <td>3.0</td>\n",
       "      <td>80.0</td>\n",
       "      <td>3.0</td>\n",
       "      <td>292.00</td>\n",
       "      <td>8.600000</td>\n",
       "    </tr>\n",
       "  </tbody>\n",
       "</table>\n",
       "</div>"
      ],
      "text/plain": [
       "   customer_id  gross_revenue  recency_days  invoice_ammt  item_ammt  n_of_dif_products  avg_ticket  avg_recency_days\n",
       "0        17850        5391.21         372.0          34.0     1733.0              297.0       18.15         35.500000\n",
       "1        13047        3232.59          56.0           9.0     1390.0              171.0       18.90         27.250000\n",
       "2        12583        6705.38           2.0          15.0     5028.0              232.0       28.90         23.187500\n",
       "3        13748         948.25          95.0           5.0      439.0               28.0       33.87         92.666667\n",
       "4        15100         876.00         333.0           3.0       80.0                3.0      292.00          8.600000"
      ]
     },
     "execution_count": 51,
     "metadata": {},
     "output_type": "execute_result"
    }
   ],
   "source": [
    "df3_ref.head()"
   ]
  },
  {
   "cell_type": "markdown",
   "id": "5e35fe7a",
   "metadata": {},
   "source": [
    "### Frequency"
   ]
  },
  {
   "cell_type": "code",
   "execution_count": 52,
   "id": "cb1102ff",
   "metadata": {
    "ExecuteTime": {
     "end_time": "2022-11-11T17:08:03.355343Z",
     "start_time": "2022-11-11T17:08:01.092066Z"
    }
   },
   "outputs": [
    {
     "data": {
      "text/plain": [
       "customer_id             0\n",
       "gross_revenue          91\n",
       "recency_days           91\n",
       "invoice_ammt           91\n",
       "item_ammt              91\n",
       "n_of_dif_products      91\n",
       "avg_ticket             91\n",
       "avg_recency_days     2816\n",
       "frequency               0\n",
       "dtype: int64"
      ]
     },
     "execution_count": 52,
     "metadata": {},
     "output_type": "execute_result"
    }
   ],
   "source": [
    "### Frequency purchase\n",
    "\n",
    "df3_max = df3[['customer_id', 'invoice_date']].drop_duplicates().groupby('customer_id').max()\n",
    "df3_min = df3[['customer_id', 'invoice_date']].drop_duplicates().groupby('customer_id').min()\n",
    "# df2_purchase = df2[['customer_id','invoice_date']].drop_duplicates().groupby('customer_id').count()\n",
    "df3_purchase.head()\n",
    "\n",
    "df3_aux = ( df2[['customer_id','invoice_no','invoice_date']].drop_duplicates()\n",
    "                                                           .groupby('customer_id')\n",
    "                                                           .agg( max_  = ('invoice_date','max'),\n",
    "                                                                 min_  = ('invoice_date','min'),\n",
    "                                                                 days_ = ('invoice_date',lambda x: ((x.max() - x.min() ).days) +1  ),\n",
    "                                                                 buy_  = ('invoice_no', 'count' ) ) ).reset_index()\n",
    "\n",
    "# frequency  # how many times a customer has bought given the specific period (number of days b/w\n",
    "# 1st purchase and last purchase) eg 30 days, has bought 2 times = 2 / 30  = 1/15 = 0.066 ) \n",
    "# then... 'customer buys 0.06 a day' -maybe it should be # of times has bought last 12mo, and \n",
    "# if 1st purchase less than that, then use tome kind of formula to compensate for new customers\n",
    "\n",
    "\n",
    "df3_aux['frequency'] = df3_aux[['buy_', 'days_']].apply(lambda x: x['buy_'] / x['days_'] if x['days_'] != 0 else 0, axis = 1 )\n",
    "\n",
    "# Merging\n",
    "df3_ref = pd.merge(df3_ref, df3_aux[['customer_id', 'frequency']], on = 'customer_id', how = 'left')\n",
    "# df_ref.head()\n",
    "df3_ref.isna().sum()\n",
    "\n",
    "# df_aux.sort_values('frequency', ascending = False).head(20)\n",
    "# df_aux[df_aux['customer_id'] == 17850].head()"
   ]
  },
  {
   "cell_type": "code",
   "execution_count": 53,
   "id": "5f5015dc",
   "metadata": {
    "ExecuteTime": {
     "end_time": "2022-11-11T17:08:03.385337Z",
     "start_time": "2022-11-11T17:08:03.358343Z"
    }
   },
   "outputs": [
    {
     "data": {
      "text/html": [
       "<div>\n",
       "<style scoped>\n",
       "    .dataframe tbody tr th:only-of-type {\n",
       "        vertical-align: middle;\n",
       "    }\n",
       "\n",
       "    .dataframe tbody tr th {\n",
       "        vertical-align: top;\n",
       "    }\n",
       "\n",
       "    .dataframe thead th {\n",
       "        text-align: right;\n",
       "    }\n",
       "</style>\n",
       "<table border=\"1\" class=\"dataframe\">\n",
       "  <thead>\n",
       "    <tr style=\"text-align: right;\">\n",
       "      <th></th>\n",
       "      <th>customer_id</th>\n",
       "      <th>gross_revenue</th>\n",
       "      <th>recency_days</th>\n",
       "      <th>invoice_ammt</th>\n",
       "      <th>item_ammt</th>\n",
       "      <th>n_of_dif_products</th>\n",
       "      <th>avg_ticket</th>\n",
       "      <th>avg_recency_days</th>\n",
       "      <th>frequency</th>\n",
       "    </tr>\n",
       "  </thead>\n",
       "  <tbody>\n",
       "    <tr>\n",
       "      <th>0</th>\n",
       "      <td>17850</td>\n",
       "      <td>5391.21</td>\n",
       "      <td>372.0</td>\n",
       "      <td>34.0</td>\n",
       "      <td>1733.0</td>\n",
       "      <td>297.0</td>\n",
       "      <td>18.15</td>\n",
       "      <td>35.500000</td>\n",
       "      <td>0.486111</td>\n",
       "    </tr>\n",
       "    <tr>\n",
       "      <th>1</th>\n",
       "      <td>13047</td>\n",
       "      <td>3232.59</td>\n",
       "      <td>56.0</td>\n",
       "      <td>9.0</td>\n",
       "      <td>1390.0</td>\n",
       "      <td>171.0</td>\n",
       "      <td>18.90</td>\n",
       "      <td>27.250000</td>\n",
       "      <td>0.048780</td>\n",
       "    </tr>\n",
       "    <tr>\n",
       "      <th>2</th>\n",
       "      <td>12583</td>\n",
       "      <td>6705.38</td>\n",
       "      <td>2.0</td>\n",
       "      <td>15.0</td>\n",
       "      <td>5028.0</td>\n",
       "      <td>232.0</td>\n",
       "      <td>28.90</td>\n",
       "      <td>23.187500</td>\n",
       "      <td>0.045699</td>\n",
       "    </tr>\n",
       "    <tr>\n",
       "      <th>3</th>\n",
       "      <td>13748</td>\n",
       "      <td>948.25</td>\n",
       "      <td>95.0</td>\n",
       "      <td>5.0</td>\n",
       "      <td>439.0</td>\n",
       "      <td>28.0</td>\n",
       "      <td>33.87</td>\n",
       "      <td>92.666667</td>\n",
       "      <td>0.017921</td>\n",
       "    </tr>\n",
       "    <tr>\n",
       "      <th>4</th>\n",
       "      <td>15100</td>\n",
       "      <td>876.00</td>\n",
       "      <td>333.0</td>\n",
       "      <td>3.0</td>\n",
       "      <td>80.0</td>\n",
       "      <td>3.0</td>\n",
       "      <td>292.00</td>\n",
       "      <td>8.600000</td>\n",
       "      <td>0.136364</td>\n",
       "    </tr>\n",
       "  </tbody>\n",
       "</table>\n",
       "</div>"
      ],
      "text/plain": [
       "   customer_id  gross_revenue  recency_days  invoice_ammt  item_ammt  n_of_dif_products  avg_ticket  avg_recency_days  frequency\n",
       "0        17850        5391.21         372.0          34.0     1733.0              297.0       18.15         35.500000   0.486111\n",
       "1        13047        3232.59          56.0           9.0     1390.0              171.0       18.90         27.250000   0.048780\n",
       "2        12583        6705.38           2.0          15.0     5028.0              232.0       28.90         23.187500   0.045699\n",
       "3        13748         948.25          95.0           5.0      439.0               28.0       33.87         92.666667   0.017921\n",
       "4        15100         876.00         333.0           3.0       80.0                3.0      292.00          8.600000   0.136364"
      ]
     },
     "execution_count": 53,
     "metadata": {},
     "output_type": "execute_result"
    }
   ],
   "source": [
    "df3_ref.head()"
   ]
  },
  {
   "cell_type": "markdown",
   "id": "c0f93e31",
   "metadata": {},
   "source": [
    "### Number of Returns"
   ]
  },
  {
   "cell_type": "code",
   "execution_count": 54,
   "id": "7551873f",
   "metadata": {
    "ExecuteTime": {
     "end_time": "2022-11-11T17:08:03.432320Z",
     "start_time": "2022-11-11T17:08:03.387333Z"
    },
    "scrolled": true
   },
   "outputs": [
    {
     "data": {
      "text/plain": [
       "customer_id             0\n",
       "gross_revenue          91\n",
       "recency_days           91\n",
       "invoice_ammt           91\n",
       "item_ammt              91\n",
       "n_of_dif_products      91\n",
       "avg_ticket             91\n",
       "avg_recency_days     2816\n",
       "frequency               0\n",
       "qtt_returns             0\n",
       "dtype: int64"
      ]
     },
     "execution_count": 54,
     "metadata": {},
     "output_type": "execute_result"
    }
   ],
   "source": [
    "df3_returns = df3_returns[['customer_id','quantity']].groupby('customer_id').sum().reset_index().rename(columns={'quantity':'qtt_returns'})\n",
    "df3_returns['qtt_returns'] = df3_returns['qtt_returns'] * -1\n",
    "\n",
    "df3_ref = pd.merge(df3_ref, df3_returns, how = 'left', on ='customer_id')\n",
    "df3_ref.loc[df3_ref['qtt_returns'].isna(), 'qtt_returns'] = 0\n",
    "df3_ref.isna().sum()"
   ]
  },
  {
   "cell_type": "markdown",
   "id": "0b8b7c35",
   "metadata": {},
   "source": [
    "### Basket Size - Number of product items per basket  *sum"
   ]
  },
  {
   "cell_type": "code",
   "execution_count": 55,
   "id": "3311a9f4",
   "metadata": {
    "ExecuteTime": {
     "end_time": "2022-11-11T17:08:03.448314Z",
     "start_time": "2022-11-11T17:08:03.434318Z"
    },
    "code_folding": []
   },
   "outputs": [],
   "source": [
    "# invoice (basket) > products > number of total items for all products\n",
    "# df2_purchase.head()"
   ]
  },
  {
   "cell_type": "code",
   "execution_count": 56,
   "id": "59d6bdc6",
   "metadata": {
    "ExecuteTime": {
     "end_time": "2022-11-11T17:08:03.681240Z",
     "start_time": "2022-11-11T17:08:03.450314Z"
    },
    "scrolled": true
   },
   "outputs": [
    {
     "data": {
      "text/plain": [
       "customer_id             0\n",
       "gross_revenue          91\n",
       "recency_days           91\n",
       "invoice_ammt           91\n",
       "item_ammt              91\n",
       "n_of_dif_products      91\n",
       "avg_ticket             91\n",
       "avg_recency_days     2816\n",
       "frequency               0\n",
       "qtt_returns             0\n",
       "avg_basket_size        91\n",
       "dtype: int64"
      ]
     },
     "execution_count": 56,
     "metadata": {},
     "output_type": "execute_result"
    }
   ],
   "source": [
    "# The total Quantity of products items divided by the number of times a customer has transactioned. \n",
    "\n",
    "df3_aux =(df3_purchase.loc[:,['customer_id', 'invoice_no', 'quantity']].groupby('customer_id')\n",
    "                                                                      .agg(n_purchase = ('invoice_no', 'nunique'), \n",
    "                                                                           n_products = ('quantity','sum'))\n",
    "                                                                      .reset_index() )\n",
    "\n",
    "\n",
    "df3_aux['avg_basket_size'] = df3_aux['n_products'] / df3_aux['n_purchase']\n",
    "\n",
    "df3_ref = pd.merge(df3_ref, df3_aux[['customer_id','avg_basket_size']], how = 'left', on = 'customer_id')\n",
    "df3_ref.isna().sum()\n",
    "# missing NA´s the ones in 'returns'"
   ]
  },
  {
   "cell_type": "markdown",
   "id": "4e584fb0",
   "metadata": {},
   "source": [
    "### Basket, distinctive items per purchase. *count"
   ]
  },
  {
   "cell_type": "code",
   "execution_count": 57,
   "id": "afeb597e",
   "metadata": {
    "ExecuteTime": {
     "end_time": "2022-11-11T17:08:04.074115Z",
     "start_time": "2022-11-11T17:08:03.684238Z"
    }
   },
   "outputs": [
    {
     "data": {
      "text/plain": [
       "customer_id                  0\n",
       "gross_revenue               91\n",
       "recency_days                91\n",
       "invoice_ammt                91\n",
       "item_ammt                   91\n",
       "n_of_dif_products           91\n",
       "avg_ticket                  91\n",
       "avg_recency_days          2816\n",
       "frequency                    0\n",
       "qtt_returns                  0\n",
       "avg_basket_size             91\n",
       "avg_unique_basket_size      91\n",
       "dtype: int64"
      ]
     },
     "execution_count": 57,
     "metadata": {},
     "output_type": "execute_result"
    }
   ],
   "source": [
    "# Transaction > product > item ammount\n",
    "# The total number of different products divided by the number of times a customer transactioned.\n",
    "\n",
    "df3_aux = (df3_purchase.loc[:,['customer_id', 'invoice_no', 'quantity']].groupby('customer_id')\n",
    "                                                                       .agg(n_purchase = ('invoice_no', 'nunique'), \n",
    "                                                                            n_products = ('quantity','nunique'))\n",
    "                                                                       .reset_index() )\n",
    "\n",
    "df3_aux['avg_unique_basket_size'] = df3_aux['n_products'] / df3_aux['n_purchase']\n",
    "\n",
    "df3_ref = pd.merge(df3_ref, df3_aux[['customer_id','avg_unique_basket_size']], how = 'left', on = 'customer_id')\n",
    "df3_ref.isna().sum()"
   ]
  },
  {
   "cell_type": "markdown",
   "id": "69c75392",
   "metadata": {},
   "source": [
    "Check if returns will remain in df_ref:"
   ]
  },
  {
   "cell_type": "code",
   "execution_count": 58,
   "id": "7a51cece",
   "metadata": {
    "ExecuteTime": {
     "end_time": "2022-11-11T17:08:04.105104Z",
     "start_time": "2022-11-11T17:08:04.076114Z"
    }
   },
   "outputs": [
    {
     "data": {
      "text/html": [
       "<div>\n",
       "<style scoped>\n",
       "    .dataframe tbody tr th:only-of-type {\n",
       "        vertical-align: middle;\n",
       "    }\n",
       "\n",
       "    .dataframe tbody tr th {\n",
       "        vertical-align: top;\n",
       "    }\n",
       "\n",
       "    .dataframe thead th {\n",
       "        text-align: right;\n",
       "    }\n",
       "</style>\n",
       "<table border=\"1\" class=\"dataframe\">\n",
       "  <thead>\n",
       "    <tr style=\"text-align: right;\">\n",
       "      <th></th>\n",
       "      <th>customer_id</th>\n",
       "      <th>gross_revenue</th>\n",
       "      <th>recency_days</th>\n",
       "      <th>invoice_ammt</th>\n",
       "      <th>item_ammt</th>\n",
       "      <th>n_of_dif_products</th>\n",
       "      <th>avg_ticket</th>\n",
       "      <th>avg_recency_days</th>\n",
       "      <th>frequency</th>\n",
       "      <th>qtt_returns</th>\n",
       "      <th>avg_basket_size</th>\n",
       "      <th>avg_unique_basket_size</th>\n",
       "    </tr>\n",
       "  </thead>\n",
       "  <tbody>\n",
       "    <tr>\n",
       "      <th>0</th>\n",
       "      <td>17850</td>\n",
       "      <td>5391.21</td>\n",
       "      <td>372.0</td>\n",
       "      <td>34.0</td>\n",
       "      <td>1733.0</td>\n",
       "      <td>297.0</td>\n",
       "      <td>18.15</td>\n",
       "      <td>35.500000</td>\n",
       "      <td>0.486111</td>\n",
       "      <td>40.0</td>\n",
       "      <td>50.970588</td>\n",
       "      <td>0.176471</td>\n",
       "    </tr>\n",
       "    <tr>\n",
       "      <th>1</th>\n",
       "      <td>13047</td>\n",
       "      <td>3232.59</td>\n",
       "      <td>56.0</td>\n",
       "      <td>9.0</td>\n",
       "      <td>1390.0</td>\n",
       "      <td>171.0</td>\n",
       "      <td>18.90</td>\n",
       "      <td>27.250000</td>\n",
       "      <td>0.048780</td>\n",
       "      <td>35.0</td>\n",
       "      <td>154.444444</td>\n",
       "      <td>1.222222</td>\n",
       "    </tr>\n",
       "    <tr>\n",
       "      <th>2</th>\n",
       "      <td>12583</td>\n",
       "      <td>6705.38</td>\n",
       "      <td>2.0</td>\n",
       "      <td>15.0</td>\n",
       "      <td>5028.0</td>\n",
       "      <td>232.0</td>\n",
       "      <td>28.90</td>\n",
       "      <td>23.187500</td>\n",
       "      <td>0.045699</td>\n",
       "      <td>50.0</td>\n",
       "      <td>335.200000</td>\n",
       "      <td>1.600000</td>\n",
       "    </tr>\n",
       "    <tr>\n",
       "      <th>3</th>\n",
       "      <td>13748</td>\n",
       "      <td>948.25</td>\n",
       "      <td>95.0</td>\n",
       "      <td>5.0</td>\n",
       "      <td>439.0</td>\n",
       "      <td>28.0</td>\n",
       "      <td>33.87</td>\n",
       "      <td>92.666667</td>\n",
       "      <td>0.017921</td>\n",
       "      <td>0.0</td>\n",
       "      <td>87.800000</td>\n",
       "      <td>1.600000</td>\n",
       "    </tr>\n",
       "    <tr>\n",
       "      <th>4</th>\n",
       "      <td>15100</td>\n",
       "      <td>876.00</td>\n",
       "      <td>333.0</td>\n",
       "      <td>3.0</td>\n",
       "      <td>80.0</td>\n",
       "      <td>3.0</td>\n",
       "      <td>292.00</td>\n",
       "      <td>8.600000</td>\n",
       "      <td>0.136364</td>\n",
       "      <td>22.0</td>\n",
       "      <td>26.666667</td>\n",
       "      <td>0.666667</td>\n",
       "    </tr>\n",
       "  </tbody>\n",
       "</table>\n",
       "</div>"
      ],
      "text/plain": [
       "   customer_id  gross_revenue  recency_days  invoice_ammt  item_ammt  n_of_dif_products  avg_ticket  avg_recency_days  frequency  qtt_returns  avg_basket_size  avg_unique_basket_size\n",
       "0        17850        5391.21         372.0          34.0     1733.0              297.0       18.15         35.500000   0.486111         40.0        50.970588                0.176471\n",
       "1        13047        3232.59          56.0           9.0     1390.0              171.0       18.90         27.250000   0.048780         35.0       154.444444                1.222222\n",
       "2        12583        6705.38           2.0          15.0     5028.0              232.0       28.90         23.187500   0.045699         50.0       335.200000                1.600000\n",
       "3        13748         948.25          95.0           5.0      439.0               28.0       33.87         92.666667   0.017921          0.0        87.800000                1.600000\n",
       "4        15100         876.00         333.0           3.0       80.0                3.0      292.00          8.600000   0.136364         22.0        26.666667                0.666667"
      ]
     },
     "execution_count": 58,
     "metadata": {},
     "output_type": "execute_result"
    }
   ],
   "source": [
    "df3_ref.head()"
   ]
  },
  {
   "cell_type": "code",
   "execution_count": 59,
   "id": "74997f6e",
   "metadata": {
    "ExecuteTime": {
     "end_time": "2022-11-11T17:08:04.120100Z",
     "start_time": "2022-11-11T17:08:04.107104Z"
    }
   },
   "outputs": [
    {
     "data": {
      "text/plain": [
       "(5787, 12)"
      ]
     },
     "execution_count": 59,
     "metadata": {},
     "output_type": "execute_result"
    }
   ],
   "source": [
    "df3_ref.shape"
   ]
  },
  {
   "cell_type": "markdown",
   "id": "2b5e4521",
   "metadata": {
    "ExecuteTime": {
     "end_time": "2022-08-28T11:57:51.040971Z",
     "start_time": "2022-08-28T11:57:51.026974Z"
    }
   },
   "source": [
    "# EDA"
   ]
  },
  {
   "cell_type": "code",
   "execution_count": 60,
   "id": "b0e2758e",
   "metadata": {
    "ExecuteTime": {
     "end_time": "2022-11-11T17:08:04.151090Z",
     "start_time": "2022-11-11T17:08:04.122100Z"
    },
    "scrolled": true
   },
   "outputs": [
    {
     "data": {
      "text/plain": [
       "customer_id               0\n",
       "gross_revenue             0\n",
       "recency_days              0\n",
       "invoice_ammt              0\n",
       "item_ammt                 0\n",
       "n_of_dif_products         0\n",
       "avg_ticket                0\n",
       "avg_recency_days          0\n",
       "frequency                 0\n",
       "qtt_returns               0\n",
       "avg_basket_size           0\n",
       "avg_unique_basket_size    0\n",
       "dtype: int64"
      ]
     },
     "execution_count": 60,
     "metadata": {},
     "output_type": "execute_result"
    }
   ],
   "source": [
    "df4 = df3_ref.dropna().copy()\n",
    "\n",
    "df4.isna().sum()"
   ]
  },
  {
   "cell_type": "markdown",
   "id": "a325794b",
   "metadata": {},
   "source": [
    "## Univariate Analysis"
   ]
  },
  {
   "cell_type": "code",
   "execution_count": 61,
   "id": "f5517ca9",
   "metadata": {
    "ExecuteTime": {
     "end_time": "2022-11-11T17:08:04.167085Z",
     "start_time": "2022-11-11T17:08:04.153089Z"
    }
   },
   "outputs": [],
   "source": [
    "# profile = ProfileReport(df4)\n",
    "# profile.to_file('output.html')"
   ]
  },
  {
   "cell_type": "markdown",
   "id": "2cd7a0fe",
   "metadata": {
    "ExecuteTime": {
     "end_time": "2022-09-10T10:59:49.904184Z",
     "start_time": "2022-09-10T10:59:49.886191Z"
    }
   },
   "source": [
    "### Gross Revenue"
   ]
  },
  {
   "cell_type": "code",
   "execution_count": 62,
   "id": "68663c41",
   "metadata": {
    "ExecuteTime": {
     "end_time": "2022-11-11T17:08:04.557960Z",
     "start_time": "2022-11-11T17:08:04.169084Z"
    }
   },
   "outputs": [
    {
     "name": "stderr",
     "output_type": "stream",
     "text": [
      "C:\\ProgramData\\Anaconda3\\lib\\site-packages\\seaborn\\_decorators.py:36: FutureWarning: Pass the following variable as a keyword arg: x. From version 0.12, the only valid positional argument will be `data`, and passing other arguments without an explicit keyword will result in an error or misinterpretation.\n",
      "  warnings.warn(\n"
     ]
    },
    {
     "data": {
      "text/plain": [
       "<AxesSubplot:xlabel='gross_revenue'>"
      ]
     },
     "execution_count": 62,
     "metadata": {},
     "output_type": "execute_result"
    },
    {
     "data": {
      "image/png": "[encoded data removed]",
      "text/plain": [
       "<Figure size 1728x648 with 1 Axes>"
      ]
     },
     "metadata": {},
     "output_type": "display_data"
    }
   ],
   "source": [
    "sns.boxplot(df4.gross_revenue)"
   ]
  },
  {
   "cell_type": "markdown",
   "id": "6cdcd89a",
   "metadata": {},
   "source": [
    "## Bivariate Analysis"
   ]
  },
  {
   "cell_type": "markdown",
   "id": "2a800efe",
   "metadata": {},
   "source": [
    "**Low variance on Frequency and Avg. Ticket**"
   ]
  },
  {
   "cell_type": "code",
   "execution_count": 63,
   "id": "5996aaef",
   "metadata": {
    "ExecuteTime": {
     "end_time": "2022-11-11T17:12:43.431412Z",
     "start_time": "2022-11-11T17:08:04.559959Z"
    }
   },
   "outputs": [
    {
     "data": {
      "image/png": "[encoded data removed]",
      "text/plain": [
       "<Figure size 1980x1980 with 132 Axes>"
      ]
     },
     "metadata": {},
     "output_type": "display_data"
    }
   ],
   "source": [
    "sns.pairplot(df4.drop(columns = 'customer_id'));"
   ]
  },
  {
   "cell_type": "code",
   "execution_count": null,
   "id": "400045dd",
   "metadata": {},
   "outputs": [],
   "source": []
  },
  {
   "cell_type": "markdown",
   "id": "99fc11d1",
   "metadata": {},
   "source": [
    "## Spatial Study"
   ]
  },
  {
   "cell_type": "code",
   "execution_count": 64,
   "id": "f6df6112",
   "metadata": {
    "ExecuteTime": {
     "end_time": "2022-11-11T17:12:43.446407Z",
     "start_time": "2022-11-11T17:12:43.433412Z"
    }
   },
   "outputs": [],
   "source": [
    "# full_feat:\n",
    "df43_full_features = df4.drop(columns = ['customer_id'], axis = 1).copy()\n",
    "\n",
    "# embedded space:\n",
    "cols_selected = ['customer_id', 'gross_revenue', 'recency_days', 'n_of_dif_products', 'frequency', 'qtt_returns']\n",
    "df43_less_features = df4[cols_selected].copy()\n",
    "df43_less_features.drop(columns= 'customer_id', inplace = True)\n",
    "# min-max, standard scales, robust scaler?"
   ]
  },
  {
   "cell_type": "markdown",
   "id": "8f4eabec",
   "metadata": {},
   "source": [
    "### Modeling with 2 sets 'full features', 'less features'"
   ]
  },
  {
   "cell_type": "code",
   "execution_count": 65,
   "id": "1d389d0d",
   "metadata": {
    "ExecuteTime": {
     "end_time": "2022-11-11T17:12:44.090215Z",
     "start_time": "2022-11-11T17:12:43.449407Z"
    }
   },
   "outputs": [
    {
     "ename": "FileNotFoundError",
     "evalue": "[Errno 2] No such file or directory: './features/gross_revenue_scaler.pkl'",
     "output_type": "error",
     "traceback": [
      "\u001b[1;31m---------------------------------------------------------------------------\u001b[0m",
      "\u001b[1;31mFileNotFoundError\u001b[0m                         Traceback (most recent call last)",
      "\u001b[1;32m<ipython-input-65-964dc7f1208b>\u001b[0m in \u001b[0;36m<module>\u001b[1;34m\u001b[0m\n\u001b[0;32m      5\u001b[0m \u001b[1;33m\u001b[0m\u001b[0m\n\u001b[0;32m      6\u001b[0m \u001b[0mdf43_full_features\u001b[0m\u001b[1;33m[\u001b[0m\u001b[1;34m'gross_revenue'\u001b[0m\u001b[1;33m]\u001b[0m \u001b[1;33m=\u001b[0m \u001b[0mmm\u001b[0m\u001b[1;33m.\u001b[0m\u001b[0mfit_transform\u001b[0m\u001b[1;33m(\u001b[0m\u001b[0mdf43_full_features\u001b[0m\u001b[1;33m[\u001b[0m\u001b[1;33m[\u001b[0m\u001b[1;34m'gross_revenue'\u001b[0m\u001b[1;33m]\u001b[0m\u001b[1;33m]\u001b[0m\u001b[1;33m)\u001b[0m  \u001b[1;31m#*\u001b[0m\u001b[1;33m\u001b[0m\u001b[1;33m\u001b[0m\u001b[0m\n\u001b[1;32m----> 7\u001b[1;33m \u001b[0mpickle\u001b[0m\u001b[1;33m.\u001b[0m\u001b[0mdump\u001b[0m\u001b[1;33m(\u001b[0m\u001b[0mmm\u001b[0m\u001b[1;33m,\u001b[0m \u001b[0mopen\u001b[0m\u001b[1;33m(\u001b[0m\u001b[1;34m'./features/gross_revenue_scaler.pkl'\u001b[0m\u001b[1;33m,\u001b[0m \u001b[1;34m'wb'\u001b[0m\u001b[1;33m)\u001b[0m\u001b[1;33m)\u001b[0m\u001b[1;33m\u001b[0m\u001b[1;33m\u001b[0m\u001b[0m\n\u001b[0m\u001b[0;32m      8\u001b[0m \u001b[1;33m\u001b[0m\u001b[0m\n\u001b[0;32m      9\u001b[0m \u001b[1;31m# 'customer_id',\u001b[0m\u001b[1;33m\u001b[0m\u001b[1;33m\u001b[0m\u001b[1;33m\u001b[0m\u001b[0m\n",
      "\u001b[1;31mFileNotFoundError\u001b[0m: [Errno 2] No such file or directory: './features/gross_revenue_scaler.pkl'"
     ]
    }
   ],
   "source": [
    "# Many features were not useful, so trying modeling with 2 different sets\n",
    "\n",
    "\n",
    "mm = pp.MinMaxScaler()\n",
    "\n",
    "df43_full_features['gross_revenue'] = mm.fit_transform(df43_full_features[['gross_revenue']])  #*\n",
    "pickle.dump(mm, open('./features/gross_revenue_scaler.pkl', 'wb'))\n",
    "\n",
    "# 'customer_id', \n",
    "df43_full_features['recency_days']          = mm.fit_transform( df43_full_features[['recency_days']])  # *\n",
    "pickle.dump(mm, open('./features/full_feat_recendy_days_scaler.pkl', 'wb'))\n",
    "df43_full_features['invoice_ammt']          = mm.fit_transform( df43_full_features[['invoice_ammt']])\n",
    "pickle.dump(mm, open('./features/full_feat_invoice_ammt_scaler.pkl', 'wb'))\n",
    "df43_full_features['item_ammt']             = mm.fit_transform( df43_full_features[['item_ammt']])  # *\n",
    "pickle.dump(mm, open('./features/full_feat_item_ammt_scaler.pkl', 'wb'))\n",
    "df43_full_features['n_of_dif_products']     = mm.fit_transform( df43_full_features[['n_of_dif_products']])\n",
    "pickle.dump(mm, open('./features/full_feat_n_of_dif_products_scaler.pkl', 'wb'))\n",
    "df43_full_features['avg_ticket']            = mm.fit_transform( df43_full_features[['avg_ticket']])\n",
    "pickle.dump(mm, open('./features/full_feat_avg_ticket_scaler.pkl', 'wb'))\n",
    "df43_full_features['avg_recency_days']      = mm.fit_transform( df43_full_features[['avg_recency_days']])\n",
    "pickle.dump(mm, open('./features/full_feat_avg_recency_days_scaler.pkl', 'wb'))\n",
    "df43_full_features['frequency']             = mm.fit_transform( df43_full_features[['frequency']])  #*\n",
    "pickle.dump(mm, open('./features/full_feat_frequency_scaler.pkl', 'wb'))\n",
    "df43_full_features['qtt_returns']           = mm.fit_transform( df43_full_features[['qtt_returns']])  #*\n",
    "pickle.dump(mm, open('./features/full_feat_qtt_returns_scaler.pkl', 'wb'))\n",
    "df43_full_features['avg_basket_size']       = mm.fit_transform( df43_full_features[['avg_basket_size']])\n",
    "pickle.dump(mm, open('./features/full_feat_avg_basket_size_scaler.pkl', 'wb'))\n",
    "df43_full_features['avg_unique_basket_size']= mm.fit_transform( df43_full_features[['avg_unique_basket_size']])\n",
    "pickle.dump(mm, open('./features/full_feat_avg_unique_basket_size_scaler.pkl', 'wb'))\n",
    "\n",
    "\n",
    "df43_less_features['gross_revenue'] = mm.fit_transform(df43_less_features[['gross_revenue']])\n",
    "pickle.dump(mm, open('./features/less_feat_gross_revenue_scaler.pkl', 'wb'))\n",
    "\n",
    "df43_less_features['recency_days']          = mm.fit_transform( df43_less_features[['recency_days']])\n",
    "pickle.dump(mm, open('./features/less_feat_full_feat_recendy_days_scaler.pkl', 'wb'))\n",
    "\n",
    "df43_less_features['n_of_dif_products']     = mm.fit_transform( df43_less_features[['n_of_dif_products']])\n",
    "pickle.dump(mm, open('./features/less_feat_full_feat_n_of_dif_products_scaler.pkl', 'wb'))\n",
    "\n",
    "df43_less_features['frequency']             = mm.fit_transform( df43_less_features[['frequency']])\n",
    "pickle.dump(mm, open('./features/less_feat_frequency_scaler.pkl', 'wb'))\n",
    "\n",
    "df43_less_features['qtt_returns']           = mm.fit_transform( df43_less_features[['qtt_returns']])\n",
    "pickle.dump(mm, open('./features/less_feat_qtt_returns_scaler.pkl', 'wb'))\n",
    "\n",
    "\n",
    "df43_less_features.columns"
   ]
  },
  {
   "cell_type": "code",
   "execution_count": null,
   "id": "71cc7c60",
   "metadata": {
    "ExecuteTime": {
     "end_time": "2022-11-11T17:12:44.099199Z",
     "start_time": "2022-11-11T17:07:41.115Z"
    }
   },
   "outputs": [],
   "source": [
    "X_less_features = df43_less_features.copy()\n",
    "X_full_features = df43_full_features.copy()"
   ]
  },
  {
   "cell_type": "code",
   "execution_count": null,
   "id": "8f903aa5",
   "metadata": {
    "ExecuteTime": {
     "end_time": "2022-11-11T17:12:44.101199Z",
     "start_time": "2022-11-11T17:07:41.126Z"
    },
    "scrolled": true
   },
   "outputs": [],
   "source": [
    "df43_full_features.head()"
   ]
  },
  {
   "cell_type": "code",
   "execution_count": null,
   "id": "d104b992",
   "metadata": {
    "ExecuteTime": {
     "end_time": "2022-11-11T17:12:44.102198Z",
     "start_time": "2022-11-11T17:07:41.135Z"
    }
   },
   "outputs": [],
   "source": [
    "df43_less_features.head()"
   ]
  },
  {
   "cell_type": "markdown",
   "id": "b1572275",
   "metadata": {
    "ExecuteTime": {
     "end_time": "2022-09-12T15:01:07.431192Z",
     "start_time": "2022-09-12T15:01:07.427193Z"
    }
   },
   "source": [
    "### PCA - full features"
   ]
  },
  {
   "cell_type": "code",
   "execution_count": null,
   "id": "41e2ce2b",
   "metadata": {
    "ExecuteTime": {
     "end_time": "2022-11-11T17:12:44.104200Z",
     "start_time": "2022-11-11T17:07:41.147Z"
    }
   },
   "outputs": [],
   "source": [
    "X_full_features.head()"
   ]
  },
  {
   "cell_type": "code",
   "execution_count": null,
   "id": "76a7a222",
   "metadata": {
    "ExecuteTime": {
     "end_time": "2022-11-11T17:12:44.105198Z",
     "start_time": "2022-11-11T17:07:41.155Z"
    }
   },
   "outputs": [],
   "source": [
    "\n",
    "pca = dd.PCA( n_components = X_full_features.shape[1])\n",
    "principal_component = pca.fit_transform(X_full_features)\n",
    "\n",
    "# plot explaining variables\n",
    "features = range ( pca.n_components_)\n",
    "plt.bar(features, pca.explained_variance_ratio_, color = 'black')\n",
    "\n",
    "# PCA COMPONENTS\n",
    "df_pca = pd.DataFrame(principal_component)"
   ]
  },
  {
   "cell_type": "code",
   "execution_count": null,
   "id": "c2ec6a50",
   "metadata": {
    "ExecuteTime": {
     "end_time": "2022-11-11T17:12:44.108197Z",
     "start_time": "2022-11-11T17:07:41.162Z"
    }
   },
   "outputs": [],
   "source": [
    "df_pca.head()"
   ]
  },
  {
   "cell_type": "code",
   "execution_count": null,
   "id": "6381d5cb",
   "metadata": {
    "ExecuteTime": {
     "end_time": "2022-11-11T17:12:44.110199Z",
     "start_time": "2022-11-11T17:07:41.170Z"
    }
   },
   "outputs": [],
   "source": [
    "sns.scatterplot(x = 0, y = 1, data = df_pca)"
   ]
  },
  {
   "cell_type": "markdown",
   "id": "07cc179b",
   "metadata": {},
   "source": [
    "#### PCA - Less Features"
   ]
  },
  {
   "cell_type": "code",
   "execution_count": null,
   "id": "62134edd",
   "metadata": {
    "ExecuteTime": {
     "end_time": "2022-11-11T17:12:44.112195Z",
     "start_time": "2022-11-11T17:07:41.182Z"
    }
   },
   "outputs": [],
   "source": [
    "X_less_features.head()"
   ]
  },
  {
   "cell_type": "code",
   "execution_count": null,
   "id": "9b1e69fe",
   "metadata": {
    "ExecuteTime": {
     "end_time": "2022-11-11T17:12:44.113196Z",
     "start_time": "2022-11-11T17:07:41.191Z"
    }
   },
   "outputs": [],
   "source": [
    "pca = dd.PCA( n_components = X_less_features.shape[1])\n",
    "principal_components = pca.fit_transform(X_less_features)\n",
    "\n",
    "# plot explaining variables\n",
    "features = range ( pca.n_components_)\n",
    "plt.bar(features, pca.explained_variance_ratio_, color = 'black')\n",
    "\n",
    "# PCA COMPONENTS\n",
    "df_pca = pd.DataFrame(principal_components)"
   ]
  },
  {
   "cell_type": "code",
   "execution_count": null,
   "id": "5735d63e",
   "metadata": {
    "ExecuteTime": {
     "end_time": "2022-11-11T17:12:44.115196Z",
     "start_time": "2022-11-11T17:07:41.198Z"
    }
   },
   "outputs": [],
   "source": [
    "sns.scatterplot( x=0, y=1, data=df_pca )"
   ]
  },
  {
   "cell_type": "markdown",
   "id": "a96f46cd",
   "metadata": {
    "ExecuteTime": {
     "end_time": "2022-11-09T15:04:00.254016Z",
     "start_time": "2022-11-09T15:04:00.241018Z"
    }
   },
   "source": [
    "- Both PCAs show no clear spacing"
   ]
  },
  {
   "cell_type": "markdown",
   "id": "3e7484ad",
   "metadata": {},
   "source": [
    "### UMAP - full features"
   ]
  },
  {
   "cell_type": "code",
   "execution_count": null,
   "id": "34048efa",
   "metadata": {
    "ExecuteTime": {
     "end_time": "2022-11-11T17:12:44.116195Z",
     "start_time": "2022-11-11T17:07:41.214Z"
    }
   },
   "outputs": [],
   "source": [
    "# UMAP\n",
    "\n",
    "# reducer = umap.UMAP(n_neighbors = 9, random_state = 42)\n",
    "reducer = umap.UMAP(random_state = 42)\n",
    "embedding = reducer.fit_transform(X_full_features)\n",
    "\n",
    "# embedding\n",
    "df_pca['embedding_x'] = embedding[:,0]\n",
    "df_pca['embedding_y'] = embedding[:,1]\n",
    "\n",
    "#plotting umap\n",
    "sns.scatterplot( x = 'embedding_x', y = 'embedding_y', data = df_pca )"
   ]
  },
  {
   "cell_type": "markdown",
   "id": "f1035b67",
   "metadata": {},
   "source": [
    "#### UMAP - Less features"
   ]
  },
  {
   "cell_type": "code",
   "execution_count": null,
   "id": "58e63dde",
   "metadata": {
    "ExecuteTime": {
     "end_time": "2022-11-11T17:12:44.118193Z",
     "start_time": "2022-11-11T17:07:41.232Z"
    },
    "scrolled": false
   },
   "outputs": [],
   "source": [
    "# UMAP\n",
    "\n",
    "# reducer = umap.UMAP(n_neighbors = 9, random_state = 42)\n",
    "reducer = umap.UMAP(random_state = 42)\n",
    "embedding = reducer.fit_transform(X_less_features)\n",
    "\n",
    "# embedding\n",
    "df_pca['embedding_x'] = embedding[:,0]\n",
    "df_pca['embedding_y'] = embedding[:,1]\n",
    "\n",
    "#plotting umap\n",
    "sns.scatterplot( x = 'embedding_x', y = 'embedding_y', data = df_pca )"
   ]
  },
  {
   "cell_type": "code",
   "execution_count": null,
   "id": "0fa77f56",
   "metadata": {
    "ExecuteTime": {
     "end_time": "2022-11-09T15:04:33.957390Z",
     "start_time": "2022-11-09T15:04:33.946394Z"
    }
   },
   "outputs": [],
   "source": []
  },
  {
   "cell_type": "markdown",
   "id": "9399380d",
   "metadata": {},
   "source": [
    "### t-SNE - full features"
   ]
  },
  {
   "cell_type": "code",
   "execution_count": null,
   "id": "6d39ce0b",
   "metadata": {
    "ExecuteTime": {
     "end_time": "2022-11-11T17:12:44.120193Z",
     "start_time": "2022-11-11T17:07:41.249Z"
    }
   },
   "outputs": [],
   "source": [
    "# UMAP\n",
    "import umap.umap_ as umap\n",
    "from sklearn.manifold import TSNE\n",
    "# reducer = umap.UMAP(n_neighbors = 9, random_state = 42)\n",
    "reducer = TSNE(n_components = 2, random_state = 42, n_jobs = -1)\n",
    "embedding = reducer.fit_transform(X_full_features)\n",
    "\n",
    "# embedding\n",
    "df_pca['embedding_x'] = embedding[:,0]\n",
    "df_pca['embedding_y'] = embedding[:,1]\n",
    "\n",
    "#plotting umap\n",
    "sns.scatterplot( x = 'embedding_x', y = 'embedding_y', data = df_pca )"
   ]
  },
  {
   "cell_type": "markdown",
   "id": "cf33e863",
   "metadata": {},
   "source": [
    "### t-SNE - less features"
   ]
  },
  {
   "cell_type": "code",
   "execution_count": null,
   "id": "f668cb0f",
   "metadata": {
    "ExecuteTime": {
     "end_time": "2022-11-11T17:12:44.122192Z",
     "start_time": "2022-11-11T17:07:41.261Z"
    }
   },
   "outputs": [],
   "source": [
    "# UMAP\n",
    "import umap.umap_ as umap\n",
    "from sklearn.manifold import TSNE\n",
    "# reducer = umap.UMAP(n_neighbors = 9, random_state = 42)\n",
    "reducer = TSNE(n_components = 2, random_state = 42, n_jobs = -1)\n",
    "embedding = reducer.fit_transform(X_less_features)\n",
    "\n",
    "# embedding\n",
    "df_pca['embedding_x'] = embedding[:,0]\n",
    "df_pca['embedding_y'] = embedding[:,1]\n",
    "\n",
    "#plotting umap\n",
    "sns.scatterplot( x = 'embedding_x', y = 'embedding_y', data = df_pca )"
   ]
  },
  {
   "cell_type": "markdown",
   "id": "9d03bb71",
   "metadata": {},
   "source": [
    "### Tree-Based Embedding - v1.0"
   ]
  },
  {
   "cell_type": "code",
   "execution_count": null,
   "id": "33b0c4cc",
   "metadata": {
    "ExecuteTime": {
     "end_time": "2022-11-11T17:12:44.124192Z",
     "start_time": "2022-11-11T17:07:41.272Z"
    }
   },
   "outputs": [],
   "source": [
    "from sklearn import ensemble as en"
   ]
  },
  {
   "cell_type": "code",
   "execution_count": null,
   "id": "1fd50ccd",
   "metadata": {
    "ExecuteTime": {
     "end_time": "2022-11-11T17:12:44.126193Z",
     "start_time": "2022-11-11T17:07:41.280Z"
    }
   },
   "outputs": [],
   "source": [
    "df4.head()\n",
    "X = df4.drop( columns = ['customer_id', 'gross_revenue'], axis = 1 )  # df4 - no transformation applied!!\n",
    "y = df4['gross_revenue'] # using gross_revenue\n",
    "\n",
    "# model definition\n",
    "rf_model = en.RandomForestRegressor( random_state = 42, n_estimators = 100)\n",
    "\n",
    "# model training\n",
    "rf_model.fit( X, y)\n",
    "\n",
    "#leaf\n",
    "# rf_model.apply( X )  # applying own training data\n",
    "\n",
    "#dataframe Leag"
   ]
  },
  {
   "cell_type": "code",
   "execution_count": null,
   "id": "7be00e0d",
   "metadata": {
    "ExecuteTime": {
     "end_time": "2022-11-11T17:12:44.128192Z",
     "start_time": "2022-11-11T17:07:41.292Z"
    },
    "scrolled": true
   },
   "outputs": [],
   "source": [
    "df_leaf = pd.DataFrame(rf_model. apply(X))\n",
    "df_leaf.head()"
   ]
  },
  {
   "cell_type": "code",
   "execution_count": null,
   "id": "aea62347",
   "metadata": {
    "ExecuteTime": {
     "end_time": "2022-11-11T17:12:44.129190Z",
     "start_time": "2022-11-11T17:07:41.301Z"
    }
   },
   "outputs": [],
   "source": [
    "# each point in the table is the position the customer was assigned to\n",
    "X.shape"
   ]
  },
  {
   "cell_type": "code",
   "execution_count": null,
   "id": "877b2425",
   "metadata": {
    "ExecuteTime": {
     "end_time": "2022-11-11T17:12:44.131189Z",
     "start_time": "2022-11-11T17:07:41.310Z"
    }
   },
   "outputs": [],
   "source": [
    "df_leaf.shape  # 100 (the 100 estimators)"
   ]
  },
  {
   "cell_type": "code",
   "execution_count": null,
   "id": "3bb81d9b",
   "metadata": {
    "ExecuteTime": {
     "end_time": "2022-11-11T17:12:44.132189Z",
     "start_time": "2022-11-11T17:07:41.320Z"
    },
    "scrolled": false
   },
   "outputs": [],
   "source": [
    "# Reducing dimensionality  # reduce the projection of the total columns columns into 2.\n",
    "reducer = umap.UMAP(random_state = 42)\n",
    "embedding = reducer.fit_transform(df_leaf)\n",
    "\n",
    "#embedding\n",
    "df_tree = pd.DataFrame()\n",
    "df_tree['embedding_x'] = embedding[:,0]\n",
    "df_tree['embedding_y'] = embedding[:,1]\n",
    "\n",
    "#plotting\n",
    "sns.scatterplot(x = 'embedding_x',\n",
    "               y = 'embedding_y',\n",
    "               data = df_tree)\n"
   ]
  },
  {
   "cell_type": "markdown",
   "id": "205fe006",
   "metadata": {},
   "source": [
    "#### Tree-Based Embedding - v2.0"
   ]
  },
  {
   "cell_type": "code",
   "execution_count": null,
   "id": "cfaa2df2",
   "metadata": {
    "ExecuteTime": {
     "end_time": "2022-11-11T17:12:44.134188Z",
     "start_time": "2022-11-11T17:07:41.342Z"
    }
   },
   "outputs": [],
   "source": [
    "df4.head()\n",
    "X = df4.drop( columns = ['customer_id', 'gross_revenue'], axis = 1 )\n",
    "y_aux = pd.DataFrame()\n",
    "y_aux['gross_revenue'] = df4['gross_revenue']\n",
    "y_aux['gross_revenue'] = mm.fit_transform(y_aux[['gross_revenue']])\n",
    "y = y_aux['gross_revenue'] # using gross_revenue\n",
    "\n",
    "\n",
    "for a in X.columns:\n",
    "    X[a] = mm.fit_transform( X[[a]])\n",
    "\n",
    "\n",
    "# model definition\n",
    "rf_model = en.RandomForestRegressor( random_state = 42, n_estimators = 100)\n",
    "\n",
    "# model training\n",
    "rf_model.fit( X, y)\n",
    "\n",
    "pickle.dump(rf_model, open('./model/rf_model_2.0.pkl', 'wb'))\n",
    "\n",
    "#leaf\n",
    "# rf_model.apply( X )  # applying own training data\n",
    "\n",
    "#dataframe Leag\n",
    "\n",
    "df_leaf = pd.DataFrame(rf_model. apply(X))\n",
    "df_leaf.head()"
   ]
  },
  {
   "cell_type": "code",
   "execution_count": null,
   "id": "6180fa92",
   "metadata": {
    "ExecuteTime": {
     "end_time": "2022-11-11T17:12:44.135188Z",
     "start_time": "2022-11-11T17:07:41.358Z"
    }
   },
   "outputs": [],
   "source": [
    "pwd"
   ]
  },
  {
   "cell_type": "code",
   "execution_count": null,
   "id": "32f8ff60",
   "metadata": {
    "ExecuteTime": {
     "end_time": "2022-11-11T17:12:44.137187Z",
     "start_time": "2022-11-11T17:07:41.368Z"
    }
   },
   "outputs": [],
   "source": [
    "y.head()"
   ]
  },
  {
   "cell_type": "code",
   "execution_count": null,
   "id": "ee379425",
   "metadata": {
    "ExecuteTime": {
     "end_time": "2022-11-11T17:12:44.139187Z",
     "start_time": "2022-11-11T17:07:41.390Z"
    }
   },
   "outputs": [],
   "source": [
    "# Reducing dimensionality  # reduce the projection of the 100 columns into 2.\n",
    "reducer = umap.UMAP(random_state = 42)\n",
    "embedding = reducer.fit_transform(df_leaf)\n",
    "\n",
    "#embedding\n",
    "df_tree_v2 = pd.DataFrame()\n",
    "df_tree_v2['embedding_x'] = embedding[:,0]\n",
    "df_tree_v2['embedding_y'] = embedding[:,1]\n",
    "\n",
    "#plotting\n",
    "sns.scatterplot(x = 'embedding_x',\n",
    "               y = 'embedding_y',\n",
    "               data = df_tree_v2)"
   ]
  },
  {
   "cell_type": "code",
   "execution_count": null,
   "id": "c0e4886e",
   "metadata": {
    "ExecuteTime": {
     "end_time": "2022-11-11T17:12:44.141186Z",
     "start_time": "2022-11-11T17:07:41.402Z"
    }
   },
   "outputs": [],
   "source": [
    "# Now we run the new space on the data.so people become neighbors because of the gross_revenue.  \n",
    "# 'so they are neighbors in the embedded space'.\n",
    "# This works, but wont be able to explain the reason neighbors are neighbors....\n",
    "# "
   ]
  },
  {
   "cell_type": "markdown",
   "id": "cd2a2feb",
   "metadata": {
    "ExecuteTime": {
     "end_time": "2022-08-28T11:58:08.149564Z",
     "start_time": "2022-08-28T11:58:08.139568Z"
    }
   },
   "source": [
    "# Data Preparation\n"
   ]
  },
  {
   "cell_type": "code",
   "execution_count": null,
   "id": "1df1d98d",
   "metadata": {
    "ExecuteTime": {
     "end_time": "2022-11-11T17:12:44.143185Z",
     "start_time": "2022-11-11T17:07:41.419Z"
    }
   },
   "outputs": [],
   "source": [
    "# df5 = df4.copy()\n",
    "df5_aux = df4.copy()\n",
    "df5_df_tree = df_tree.copy()\n",
    "df5_df_tree_v2 = df_tree_v2.copy()"
   ]
  },
  {
   "cell_type": "code",
   "execution_count": null,
   "id": "0dc31f9d",
   "metadata": {
    "ExecuteTime": {
     "end_time": "2022-11-11T17:12:44.144185Z",
     "start_time": "2022-11-11T17:07:41.439Z"
    },
    "cell_style": "split",
    "scrolled": true
   },
   "outputs": [],
   "source": [
    "\n",
    "sns.distplot(df5_aux['gross_revenue']);\n",
    "# Talvez um minmax, tá muito deseguilibrada essa disribuicao.\n"
   ]
  },
  {
   "cell_type": "code",
   "execution_count": null,
   "id": "d955cfa5",
   "metadata": {
    "ExecuteTime": {
     "end_time": "2022-11-11T17:12:44.146186Z",
     "start_time": "2022-11-11T17:07:41.452Z"
    },
    "cell_style": "split",
    "scrolled": false
   },
   "outputs": [],
   "source": [
    "sns.distplot(np.log(df5_aux['gross_revenue']))"
   ]
  },
  {
   "cell_type": "code",
   "execution_count": null,
   "id": "ba274635",
   "metadata": {
    "ExecuteTime": {
     "end_time": "2022-11-11T17:12:44.148184Z",
     "start_time": "2022-11-11T17:07:41.461Z"
    }
   },
   "outputs": [],
   "source": [
    "# Previously tested transformations before deciding going with embedded spaces:\n",
    "\n",
    "\n",
    "# # mm = pp.MinMaxScaler()\n",
    "# # ss = pp.StandardScaler()\n",
    "# # rs = pp.RobustScaler()\n",
    "\n",
    "# df5_aux['gross_revenue'] = mm.fit_transform(df5_aux[['gross_revenue']])\n",
    "# df5_aux['recency_days'] = mm.fit_transform(df5_aux[['recency_days']])\n",
    "# df5_aux['invoice_ammt'] = mm.fit_transform(df5_aux[['invoice_ammt']])\n",
    "# df5_aux['item_ammt'] = mm.fit_transform(df5_aux[['item_ammt']])\n",
    "# df5_aux['n_of_dif_products'] = mm.fit_transform(df5_aux[['n_of_dif_products']])\n",
    "\n",
    "# # df5_aux['avg_ticket'] = mm.fit_transform(df5_aux[['avg_ticket']])\n",
    "# # df5_aux['avg_recency_days'] = mm.fit_transform(df5_aux[['avg_recency_days']])\n",
    "\n",
    "# df5_aux['frequency'] = mm.fit_transform(df5_aux[['frequency']])\n",
    "# df5_aux['qtt_returns'] = mm.fit_transform(df5_aux[['qtt_returns']])\n",
    "\n",
    "# # df5_aux['avg_basket_size'] = mm.fit_transform(df5_aux[['avg_basket_size']])\n",
    "# # df5_aux['avg_unique_basket_size'] = mm.fit_transform(df5_aux[['avg_unique_basket_size']])  \n",
    "\n",
    "# # avg wont make sense in the end, not looking for avg of the avg in the end.\n",
    "\n",
    "# variable = 'gross_revenue'\n",
    "\n",
    "# # ['customer_id', 'gross_revenue', 'recency_days', 'n_of_dif_products', 'frequency', 'qtt_returns']\n",
    "\n",
    "# Data as it is\n",
    "# print('Min:{} - Max:{}'.format(df5_aux[variable].min(), df5_aux[variable].max() ) )\n",
    "# sns.displot(df5_aux[variable]);\n",
    "\n",
    "# # Data Standardized/Rescaled\n",
    "# print('Min:{} - Max:{}'.format(df5_aux[variable].min(), df5_aux[variable].max() ) )\n",
    "# sns.displot(df5_aux[variable]);"
   ]
  },
  {
   "cell_type": "code",
   "execution_count": null,
   "id": "daa130cd",
   "metadata": {
    "ExecuteTime": {
     "end_time": "2022-11-11T17:12:44.149183Z",
     "start_time": "2022-11-11T17:07:41.470Z"
    }
   },
   "outputs": [],
   "source": [
    "# Box Plot\n",
    "# sns.boxplot(df5_aux[variable]);"
   ]
  },
  {
   "cell_type": "markdown",
   "id": "6b0f3d12",
   "metadata": {},
   "source": [
    "# Feature Selection"
   ]
  },
  {
   "cell_type": "code",
   "execution_count": null,
   "id": "21aca851",
   "metadata": {
    "ExecuteTime": {
     "end_time": "2022-11-11T17:12:44.151183Z",
     "start_time": "2022-11-11T17:07:41.485Z"
    }
   },
   "outputs": [],
   "source": [
    "# Previous cycles:\n",
    "# cols_selected = ['customer_id', 'gross_revenue', 'recency_days', 'n_of_dif_products', 'frequency', 'qtt_returns']"
   ]
  },
  {
   "cell_type": "code",
   "execution_count": null,
   "id": "2ef441ea",
   "metadata": {
    "ExecuteTime": {
     "end_time": "2022-11-11T17:12:44.153182Z",
     "start_time": "2022-11-11T17:07:41.499Z"
    }
   },
   "outputs": [],
   "source": [
    "# df6 = df5[cols_selected].copy()\n",
    "df6_df_tree = df5_df_tree.copy()\n",
    "df6_df_tree_v2 = df5_df_tree_v2.copy()\n",
    "\n",
    "df6_df_tree.head()\n"
   ]
  },
  {
   "cell_type": "markdown",
   "id": "1ebefe39",
   "metadata": {
    "ExecuteTime": {
     "end_time": "2022-08-28T11:59:16.710083Z",
     "start_time": "2022-08-28T11:59:16.695088Z"
    }
   },
   "source": [
    "# Hyperparameter Fine-Tuning"
   ]
  },
  {
   "cell_type": "code",
   "execution_count": null,
   "id": "cb4825fd",
   "metadata": {
    "ExecuteTime": {
     "end_time": "2022-11-11T17:12:44.155183Z",
     "start_time": "2022-11-11T17:07:41.520Z"
    }
   },
   "outputs": [],
   "source": [
    "# X = df6.drop(columns = ['customer_id'])\n",
    "X = df6_df_tree.copy()\n",
    "X_v2 = df6_df_tree_v2.copy()"
   ]
  },
  {
   "cell_type": "code",
   "execution_count": null,
   "id": "3968bb7a",
   "metadata": {
    "ExecuteTime": {
     "end_time": "2022-11-11T17:12:44.156181Z",
     "start_time": "2022-11-11T17:07:41.536Z"
    },
    "scrolled": true
   },
   "outputs": [],
   "source": [
    "X.head()"
   ]
  },
  {
   "cell_type": "code",
   "execution_count": null,
   "id": "026766f0",
   "metadata": {
    "ExecuteTime": {
     "end_time": "2022-11-11T17:12:44.158180Z",
     "start_time": "2022-11-11T17:07:41.545Z"
    }
   },
   "outputs": [],
   "source": [
    "# clusters = [2, 3, 4, 5, 6, 7 , 8 ,9 ]\n",
    "h7_clusters = np.arange(2,25,1)"
   ]
  },
  {
   "cell_type": "markdown",
   "id": "c26f87b2",
   "metadata": {
    "ExecuteTime": {
     "end_time": "2022-09-14T09:01:05.232429Z",
     "start_time": "2022-09-14T09:00:28.969Z"
    }
   },
   "source": [
    "## K-Means"
   ]
  },
  {
   "cell_type": "code",
   "execution_count": null,
   "id": "051f8a26",
   "metadata": {
    "ExecuteTime": {
     "end_time": "2022-11-11T17:12:44.160180Z",
     "start_time": "2022-11-11T17:07:41.556Z"
    }
   },
   "outputs": [],
   "source": [
    "\n",
    "kmeans_list = []\n",
    "for k in h7_clusters:\n",
    "    # defining model\n",
    "    kmeans_model = c.KMeans(n_clusters = k)\n",
    "\n",
    "    # defining training\n",
    "    kmeans_model.fit(X)\n",
    "\n",
    "    # define prediction\n",
    "    labels = kmeans_model.predict(X)\n",
    "    # performance\n",
    "    # Using silhouette inside metrics package.\n",
    "    kmeans_list.append( m.silhouette_score(X, labels, metric = 'euclidean') )\n",
    "    \n",
    "\n",
    "#### v2.0 \n",
    "\n",
    "kmeans_list_v2 = []\n",
    "for k in h7_clusters:\n",
    "    # defining model\n",
    "    kmeans_model = c.KMeans(n_clusters = k)\n",
    "\n",
    "    # defining training\n",
    "    kmeans_model.fit(X_v2)\n",
    "\n",
    "    # define prediction\n",
    "    labels = kmeans_model.predict(X_v2)\n",
    "    # performance\n",
    "    # Using silhouette inside metrics package.\n",
    "    kmeans_list_v2.append( m.silhouette_score(X_v2, labels, metric = 'euclidean') )"
   ]
  },
  {
   "cell_type": "code",
   "execution_count": null,
   "id": "d5a7b8c8",
   "metadata": {
    "ExecuteTime": {
     "end_time": "2022-11-11T17:12:44.161179Z",
     "start_time": "2022-11-11T17:07:41.566Z"
    }
   },
   "outputs": [],
   "source": [
    "plt.plot(h7_clusters, kmeans_list, linestyle='--', marker = 'o', color ='b')\n",
    "plt.plot(h7_clusters, kmeans_list_v2, linestyle='--', marker = 'o', color ='green')\n",
    "plt.xlabel('K')\n",
    "plt.ylabel(' Silhouette Score ')\n",
    "plt.title('KMeans - Silhouette Score x K - Performance Comparison')\n",
    "\n",
    "import matplotlib.patches as mpatches\n",
    "import matplotlib.pyplot as plt\n",
    "\n",
    "blue_patch = mpatches.Patch(color='blue', label='Raw data')\n",
    "green_patch = mpatches.Patch(color='green', label='MinMax Transformation')\n",
    "\n",
    "plt.legend(handles=[blue_patch, green_patch])\n",
    "\n"
   ]
  },
  {
   "cell_type": "code",
   "execution_count": null,
   "id": "9d63e256",
   "metadata": {
    "ExecuteTime": {
     "end_time": "2022-11-11T17:12:44.162180Z",
     "start_time": "2022-11-11T17:07:41.575Z"
    }
   },
   "outputs": [],
   "source": [
    "np.unique(labels)"
   ]
  },
  {
   "cell_type": "markdown",
   "id": "1bacb27d",
   "metadata": {},
   "source": [
    "## GMM"
   ]
  },
  {
   "cell_type": "code",
   "execution_count": null,
   "id": "d96ffe94",
   "metadata": {
    "ExecuteTime": {
     "end_time": "2022-09-30T09:28:34.907879Z",
     "start_time": "2022-09-30T09:28:34.879888Z"
    }
   },
   "outputs": [],
   "source": []
  },
  {
   "cell_type": "code",
   "execution_count": null,
   "id": "b79ecf3e",
   "metadata": {
    "ExecuteTime": {
     "end_time": "2022-11-11T17:12:44.164179Z",
     "start_time": "2022-11-11T17:07:41.590Z"
    }
   },
   "outputs": [],
   "source": [
    "# def, training, predict, score\n",
    "gmm_list =[]\n",
    "for k in h7_clusters:\n",
    "    gmm_model = mx.GaussianMixture(n_components = k)\n",
    "\n",
    "    gmm_model.fit(X)\n",
    "\n",
    "    labels = gmm_model.predict(X)\n",
    "\n",
    "    sil = m.silhouette_score(X, labels, metric = 'euclidean')\n",
    "    gmm_list.append(sil)\n",
    "\n",
    "    \n",
    "### v2.0\n",
    "gmm_list_v2 =[]\n",
    "for k in h7_clusters:\n",
    "    gmm_model = mx.GaussianMixture(n_components = k)\n",
    "\n",
    "    gmm_model.fit(X_v2)\n",
    "\n",
    "    labels = gmm_model.predict(X_v2)\n",
    "\n",
    "    sil = m.silhouette_score(X_v2, labels, metric = 'euclidean')\n",
    "    gmm_list_v2.append(sil)\n",
    "    "
   ]
  },
  {
   "cell_type": "code",
   "execution_count": null,
   "id": "f2eebb7f",
   "metadata": {
    "ExecuteTime": {
     "end_time": "2022-11-11T17:12:44.166178Z",
     "start_time": "2022-11-11T17:07:41.598Z"
    }
   },
   "outputs": [],
   "source": [
    "plt.plot(h7_clusters, gmm_list, linestyle='--', marker = 'o', color = 'b')\n",
    "plt.plot(h7_clusters, gmm_list_v2, linestyle='--', marker = 'o', color = 'green')\n",
    "plt.xlabel('K')\n",
    "plt.ylabel('Silhouette Score')\n",
    "plt.title('GMM Silhouette Score K')"
   ]
  },
  {
   "cell_type": "markdown",
   "id": "e340811c",
   "metadata": {},
   "source": [
    "## Hierarchical Clustering"
   ]
  },
  {
   "cell_type": "code",
   "execution_count": null,
   "id": "97279f14",
   "metadata": {
    "ExecuteTime": {
     "end_time": "2022-11-11T17:12:44.167179Z",
     "start_time": "2022-11-11T17:07:41.609Z"
    }
   },
   "outputs": [],
   "source": [
    "from scipy.cluster import hierarchy as hc"
   ]
  },
  {
   "cell_type": "code",
   "execution_count": null,
   "id": "1eb02ffa",
   "metadata": {
    "ExecuteTime": {
     "end_time": "2022-11-11T17:12:44.168178Z",
     "start_time": "2022-11-11T17:07:41.619Z"
    }
   },
   "outputs": [],
   "source": [
    "# model definition and training\n",
    "hc_model = hc.linkage(X, 'ward')\n",
    "hc_model_v2 = hc.linkage(X_v2, 'ward')\n",
    "\n"
   ]
  },
  {
   "cell_type": "code",
   "execution_count": null,
   "id": "2f3198fa",
   "metadata": {
    "ExecuteTime": {
     "end_time": "2022-11-11T17:12:44.170177Z",
     "start_time": "2022-11-11T17:07:41.627Z"
    }
   },
   "outputs": [],
   "source": [
    "# DENDROGRAM\n",
    "\n",
    "# hc.dendrogram(\n",
    "#     hc_model,\n",
    "#     leaf_rotation = 90,\n",
    "#     leaf_font_size = 8)\n",
    "# plt.plot()"
   ]
  },
  {
   "cell_type": "code",
   "execution_count": null,
   "id": "eeccf45f",
   "metadata": {
    "ExecuteTime": {
     "end_time": "2022-11-11T17:12:44.172176Z",
     "start_time": "2022-11-11T17:07:41.636Z"
    }
   },
   "outputs": [],
   "source": [
    "hc.dendrogram(\n",
    "    hc_model,\n",
    "    truncate_mode='lastp',\n",
    "    p=12,\n",
    "    leaf_rotation = 90,\n",
    "    leaf_font_size = 8,\n",
    "    show_contracted = True)\n",
    "plt.show()"
   ]
  },
  {
   "cell_type": "markdown",
   "id": "e1cea04a",
   "metadata": {},
   "source": [
    "### H-Clustering Silhouette Score"
   ]
  },
  {
   "cell_type": "code",
   "execution_count": null,
   "id": "1bfd7747",
   "metadata": {},
   "outputs": [],
   "source": []
  },
  {
   "cell_type": "code",
   "execution_count": null,
   "id": "965dfec5",
   "metadata": {
    "ExecuteTime": {
     "end_time": "2022-11-11T17:12:44.173178Z",
     "start_time": "2022-11-11T17:07:41.653Z"
    }
   },
   "outputs": [],
   "source": [
    "hc_list = []\n",
    "for k in h7_clusters:\n",
    "    # def, training, predict score\n",
    "    hc_model = hc.linkage(X, 'ward')\n",
    "\n",
    "    # prediction\n",
    "    labels = hc.fcluster(hc_model, k, criterion = 'maxclust')\n",
    "\n",
    "    #metrics\n",
    "    sil = m.silhouette_score(X, labels, metric = 'euclidean')\n",
    "    hc_list.append( sil )\n",
    "\n",
    "    \n",
    "#### v2.0\n",
    "hc_list_v2 = []\n",
    "for k in h7_clusters:\n",
    "    # def, training, predict score\n",
    "    hc_model_v2 = hc.linkage(X_v2, 'ward')\n",
    "\n",
    "    # prediction\n",
    "    labels = hc.fcluster(hc_model_v2, k, criterion = 'maxclust')\n",
    "\n",
    "    #metrics\n",
    "    sil = m.silhouette_score(X_v2, labels, metric = 'euclidean')\n",
    "    hc_list_v2.append( sil )"
   ]
  },
  {
   "cell_type": "code",
   "execution_count": null,
   "id": "44447ba0",
   "metadata": {
    "ExecuteTime": {
     "end_time": "2022-11-11T17:12:44.175175Z",
     "start_time": "2022-11-11T17:07:41.661Z"
    }
   },
   "outputs": [],
   "source": [
    "plt.plot(h7_clusters, hc_list, linestyle = '--', marker ='o', color = 'b')\n",
    "plt.plot(h7_clusters, hc_list_v2, linestyle = '--', marker ='o', color = 'green')\n",
    "plt.xlabel('k')\n",
    "plt.ylabel('')"
   ]
  },
  {
   "cell_type": "markdown",
   "id": "604db2db",
   "metadata": {},
   "source": [
    "## DBSCAN"
   ]
  },
  {
   "cell_type": "code",
   "execution_count": null,
   "id": "154e118f",
   "metadata": {
    "ExecuteTime": {
     "end_time": "2022-11-11T17:12:44.177174Z",
     "start_time": "2022-11-11T17:07:41.673Z"
    }
   },
   "outputs": [],
   "source": [
    "eps = 1.2\n",
    "min_samples = 33\n",
    "dbscan_model = c.DBSCAN( eps = eps, min_samples = min_samples) \n",
    "\n",
    "labels = dbscan_model.fit_predict(X)\n",
    "\n",
    "db_scan_sil = m.silhouette_score( X, labels, metric = 'euclidean')\n",
    "sil\n",
    "print('Silhouette Score {} '.format(db_scan_sil))\n",
    "print('Clusters inc noisy one (-1) if present: {}'.format(len(unique(labels) )))\n",
    "print('labels {} '.format(unique(labels)))\n",
    "\n",
    "print('\\n\\nVersion2:')\n",
    "dbscan_model_v2 = c.DBSCAN( eps = eps, min_samples = min_samples) \n",
    "\n",
    "labels_v2 = dbscan_model_v2.fit_predict(X_v2)\n",
    "\n",
    "db_scan_sil_v2 = m.silhouette_score( X_v2, labels, metric = 'euclidean')\n",
    "sil\n",
    "print('Silhouette Score {} '.format(db_scan_sil_v2))\n",
    "print('Clusters inc noisy one (-1) if present: {}'.format(len(unique(labels_v2) )))\n",
    "print('labels {} '.format(unique(labels)))"
   ]
  },
  {
   "cell_type": "code",
   "execution_count": null,
   "id": "28ea1666",
   "metadata": {
    "ExecuteTime": {
     "end_time": "2022-11-11T17:12:44.178174Z",
     "start_time": "2022-11-11T17:07:41.682Z"
    }
   },
   "outputs": [],
   "source": [
    "db_scan_k = len(unique(labels)) - 1\n"
   ]
  },
  {
   "cell_type": "code",
   "execution_count": null,
   "id": "d72d891e",
   "metadata": {
    "ExecuteTime": {
     "end_time": "2022-11-11T17:12:44.180174Z",
     "start_time": "2022-11-11T17:07:41.691Z"
    }
   },
   "outputs": [],
   "source": [
    "dbscan_list = []\n",
    "\n",
    "    "
   ]
  },
  {
   "cell_type": "code",
   "execution_count": null,
   "id": "c1a94072",
   "metadata": {},
   "outputs": [],
   "source": []
  },
  {
   "cell_type": "markdown",
   "id": "48e7c881",
   "metadata": {},
   "source": [
    "### Neighbors issue"
   ]
  },
  {
   "cell_type": "code",
   "execution_count": null,
   "id": "c9dbf120",
   "metadata": {
    "ExecuteTime": {
     "end_time": "2022-09-30T09:29:36.713115Z",
     "start_time": "2022-09-30T09:29:36.701121Z"
    }
   },
   "outputs": [],
   "source": []
  },
  {
   "cell_type": "code",
   "execution_count": null,
   "id": "91b6b9c4",
   "metadata": {
    "ExecuteTime": {
     "end_time": "2022-11-11T17:12:44.182173Z",
     "start_time": "2022-11-11T17:07:41.711Z"
    }
   },
   "outputs": [],
   "source": [
    "neighbors = NearestNeighbors(n_neighbors = min_samples).fit(X)\n",
    "distances, indices = neighbors.kneighbors(X)"
   ]
  },
  {
   "cell_type": "code",
   "execution_count": null,
   "id": "11e5158d",
   "metadata": {
    "ExecuteTime": {
     "end_time": "2022-11-11T17:12:44.184173Z",
     "start_time": "2022-11-11T17:07:41.720Z"
    }
   },
   "outputs": [],
   "source": [
    "distances = np.sort(distances, axis = 0)\n",
    "distances = distances[:,1]\n",
    "plt.plot(distances)"
   ]
  },
  {
   "cell_type": "code",
   "execution_count": null,
   "id": "1999e4e4",
   "metadata": {
    "ExecuteTime": {
     "end_time": "2022-11-11T17:12:44.185174Z",
     "start_time": "2022-11-11T17:07:41.728Z"
    }
   },
   "outputs": [],
   "source": [
    "plt.plot(distances[2900:])"
   ]
  },
  {
   "cell_type": "code",
   "execution_count": null,
   "id": "b33e9674",
   "metadata": {
    "ExecuteTime": {
     "end_time": "2022-11-11T17:12:44.187172Z",
     "start_time": "2022-11-11T17:07:41.737Z"
    }
   },
   "outputs": [],
   "source": [
    "labels"
   ]
  },
  {
   "cell_type": "markdown",
   "id": "565dc61c",
   "metadata": {},
   "source": [
    "## RESULTS"
   ]
  },
  {
   "cell_type": "code",
   "execution_count": null,
   "id": "7cbf1686",
   "metadata": {
    "ExecuteTime": {
     "end_time": "2022-11-11T17:12:44.189170Z",
     "start_time": "2022-11-11T17:07:41.750Z"
    }
   },
   "outputs": [],
   "source": [
    "df_results = pd.DataFrame(\n",
    "    {'KMeans':kmeans_list, 'GMM': gmm_list,\n",
    "     'HCList':hc_list}).T\n",
    "# todo - include dbscan\n",
    "\n",
    "dbscan_list = []\n",
    "for a in (df_results.columns):\n",
    "    if a != db_scan_k:\n",
    "        dbscan_list.append(0.0)\n",
    "    else:\n",
    "        dbscan_list.append(db_scan_sil)\n",
    "\n",
    "print(dbscan_list)\n",
    "    \n",
    "df_results = pd.DataFrame(\n",
    "    {'KMeans':kmeans_list, 'GMM': gmm_list,\n",
    "     'KMeans_v2':kmeans_list_v2, 'GMM_v2': gmm_list_v2,\n",
    "     'HCList_v2':hc_list_v2,'HCList':hc_list, 'DBScan':dbscan_list}).T\n",
    "\n",
    "df_results.columns = h7_clusters\n",
    "# df_results = df_results.iloc[:,7:]\n",
    "df_results.style.highlight_max(color = 'lightgreen', axis = 1)"
   ]
  },
  {
   "cell_type": "markdown",
   "id": "c9061fdc",
   "metadata": {},
   "source": [
    "## Script Silhouette"
   ]
  },
  {
   "cell_type": "code",
   "execution_count": null,
   "id": "7a185cfa",
   "metadata": {
    "ExecuteTime": {
     "end_time": "2022-11-11T17:12:44.190170Z",
     "start_time": "2022-11-11T17:07:41.762Z"
    }
   },
   "outputs": [],
   "source": [
    "print(h7_clusters)\n",
    "h7_clusters_interest = [8,9,10,11,12,13,14]"
   ]
  },
  {
   "cell_type": "code",
   "execution_count": null,
   "id": "18b4b5e6",
   "metadata": {
    "ExecuteTime": {
     "end_time": "2022-11-11T17:12:44.191170Z",
     "start_time": "2022-11-11T17:07:41.771Z"
    },
    "scrolled": false
   },
   "outputs": [],
   "source": [
    "\n",
    "fig, ax = plt.subplots(4,2)\n",
    "fig.set_size_inches(25,20)  #setting a size for fig\n",
    "\n",
    "for k in h7_clusters_interest:\n",
    "    q,mod = divmod(k,2)\n",
    "    ax[q-h7_clusters_interest[0], mod].set_xlim([ -0.1, 1])\n",
    "    ax[q-h7_clusters_interest[0], mod].set_ylim([ 0, len(X) + (k+1)*10])\n",
    "    #model def\n",
    "    hc_model = hc.linkage(X, 'ward')\n",
    "\n",
    "    # predict\n",
    "    labels = hc.fcluster(hc_model, k, criterion = 'maxclust')\n",
    "\n",
    "    # performance\n",
    "    ss = m.silhouette_score(X, labels, metric = 'euclidean')\n",
    "    print('When k {}, Silhouette Score: {}'.format(k, ss))\n",
    "    samples_silhouette_values = m.silhouette_samples(X, labels)\n",
    "    y_lower = 10\n",
    "    \n",
    "    for i in range(k):\n",
    "        # select clusters\n",
    "        ith_samples_silhouette_values = samples_silhouette_values[labels == i]\n",
    "\n",
    "        #sorting\n",
    "        ith_samples_silhouette_values.sort()\n",
    "        \n",
    "        # size_cluster\n",
    "        size_cluster_i = ith_samples_silhouette_values.shape[0]\n",
    "        y_upper = y_lower + size_cluster_i\n",
    "        \n",
    "        cmap = cm.get_cmap('Spectral')\n",
    "        color = cmap(i/k)\n",
    "        # fill_betweenx  (matplotlib)\n",
    "\n",
    "        \n",
    "\n",
    "        ax[q-h7_clusters_interest[0],mod].fill_betweenx( np.arange(y_lower, y_upper), 0, ith_samples_silhouette_values)\n",
    "        y_lower = y_upper+ 20\n",
    "    \n",
    "    ax[q-h7_clusters_interest[0], mod].set_yticks([])\n",
    "    ax[q-h7_clusters_interest[0], mod].set_xticks([-0.1, 0, 0.2, 0.4, 0.6, 0.8, 1])\n",
    "\n",
    "\n",
    "    # silhouette analysis sklearn - check sklearn suggestions for scripts.\n",
    "    # plot kmeans silhouette analysis -- check their suggestions\n",
    "    "
   ]
  },
  {
   "cell_type": "markdown",
   "id": "2306922e",
   "metadata": {},
   "source": [
    "## Within-Cluster Sum of Square (WSS)"
   ]
  },
  {
   "cell_type": "code",
   "execution_count": null,
   "id": "d90b31c5",
   "metadata": {
    "ExecuteTime": {
     "end_time": "2022-11-11T17:12:44.193170Z",
     "start_time": "2022-11-11T17:07:41.783Z"
    }
   },
   "outputs": [],
   "source": [
    "# trying out diffente cluster values\n",
    "\n",
    "# clusters = [2, 3, 4, 5, 6, 7 ]\n",
    "h77_clusters = np.arange(2,14,1)"
   ]
  },
  {
   "cell_type": "code",
   "execution_count": null,
   "id": "f0156608",
   "metadata": {
    "ExecuteTime": {
     "end_time": "2022-11-11T17:12:44.194170Z",
     "start_time": "2022-11-11T17:07:41.790Z"
    },
    "scrolled": false
   },
   "outputs": [],
   "source": [
    "wss = []\n",
    "for k in h77_clusters:\n",
    "    # model definition\n",
    "    kmeans = c.KMeans( init = 'random', n_clusters = k, n_init = 10, max_iter = 300, random_state = 42)  # doing centroids at random # n_init, centroid starting times(?)\n",
    "    # model training\n",
    "    kmeans.fit(X)\n",
    "    # validation\n",
    "    wss.append(kmeans.inertia_)\n",
    "\n",
    "# plootting wss - ELBOW method # We want to findout the best k before going for the final model\n",
    "# like a pre-training model.\n",
    "# This graph is supposed to look like an elbow... (?)\n",
    "# Supposed to choose the point in the graph where the changes(The angle) most significative happen in this case\n",
    "# happens where K = 3 and 5 - it is up to the Data Scientist to choose the best point.b\n",
    "\n",
    "plt.plot(h77_clusters, wss, linestyle = '--', marker ='o', color='b')\n",
    "plt.xlabel('K')\n",
    "plt.ylabel('Within-Cluster Sum of Square');\n",
    "plt.title('WSS vs K')"
   ]
  },
  {
   "cell_type": "code",
   "execution_count": null,
   "id": "bdee05c7",
   "metadata": {
    "ExecuteTime": {
     "end_time": "2022-11-11T17:12:44.196169Z",
     "start_time": "2022-11-11T17:07:41.797Z"
    }
   },
   "outputs": [],
   "source": [
    "# Choosing K using a more elegant way, using the library yellowbrick\n",
    "from yellowbrick.cluster import KElbowVisualizer\n",
    "# !pip install yellowbrick.cluster\n",
    "\n",
    "kmeans = KElbowVisualizer(c.KMeans(), k=h77_clusters, timing = False)\n",
    "kmeans.fit(X)\n",
    "kmeans.show()  # it draws the method and tells you the best k value...\n",
    "\n",
    "# There is also the knee method...."
   ]
  },
  {
   "cell_type": "markdown",
   "id": "753cb47d",
   "metadata": {},
   "source": [
    "## Sillhouette Score"
   ]
  },
  {
   "cell_type": "code",
   "execution_count": null,
   "id": "6b8c0b48",
   "metadata": {
    "ExecuteTime": {
     "end_time": "2022-11-11T17:12:44.197168Z",
     "start_time": "2022-11-11T17:07:41.807Z"
    }
   },
   "outputs": [],
   "source": [
    "kmeans_si = KElbowVisualizer(c.KMeans(), k=h77_clusters, metric = 'silhouette', timings = False)\n",
    "kmeans_si.fit(X)\n",
    "kmeans_si.show()"
   ]
  },
  {
   "cell_type": "markdown",
   "id": "0c3f52b2",
   "metadata": {
    "ExecuteTime": {
     "end_time": "2022-09-07T03:47:10.379446Z",
     "start_time": "2022-09-07T03:47:10.362915Z"
    }
   },
   "source": [
    "## Silhouette Analysis"
   ]
  },
  {
   "cell_type": "code",
   "execution_count": null,
   "id": "eb708163",
   "metadata": {
    "ExecuteTime": {
     "end_time": "2022-11-11T17:12:44.199167Z",
     "start_time": "2022-11-11T17:07:41.817Z"
    }
   },
   "outputs": [],
   "source": [
    "h79_clusters = [9,10,11,12,13,14]\n",
    "\n",
    "fig, ax = plt.subplots(3,2, figsize = (25,18))\n",
    "pos = 1\n",
    "posi = 1\n",
    "for k in h79_clusters:\n",
    "    km = c.KMeans(n_clusters = k, init = 'random', n_init = 10, max_iter = 100, random_state = 42)\n",
    "    q, mod = divmod(k, 2)\n",
    "    # visualizer = SilhouetteVisualizer(km, colors = 'yellowbrick') #, ax=[0][0])\n",
    "    # visualizer = SilhouetteVisualizer(km, colors = 'yellowbrick', ax=ax[q-1][mod])\n",
    "\n",
    "    visualizer = SilhouetteVisualizer(km, colors = 'yellowbrick', ax=ax[posi - 1][mod])\n",
    "    \n",
    "    if pos % 2 == 0:\n",
    "        posi += 1\n",
    "    pos += 1\n",
    "    \n",
    "    visualizer.fit(X)\n",
    "    visualizer.finalize()"
   ]
  },
  {
   "cell_type": "markdown",
   "id": "eff3f149",
   "metadata": {},
   "source": [
    "Silhouette now giving us much insight on the number of clusters. A lot more organized after opting for the embedded tree space."
   ]
  },
  {
   "cell_type": "markdown",
   "id": "8f651c42",
   "metadata": {},
   "source": [
    "# Model Training"
   ]
  },
  {
   "cell_type": "markdown",
   "id": "d50eae6a",
   "metadata": {},
   "source": [
    "## K-Means"
   ]
  },
  {
   "cell_type": "code",
   "execution_count": null,
   "id": "20e34338",
   "metadata": {
    "ExecuteTime": {
     "end_time": "2022-11-11T17:12:44.201167Z",
     "start_time": "2022-11-11T17:07:41.834Z"
    }
   },
   "outputs": [],
   "source": [
    "# model definition\n",
    "# Opting for 11 - it is not the optimum division, however \n",
    "# in terms of business and RFM goal, makes sense to go with a lower number,\n",
    "# silhouette score not bad with 11.\n",
    "\n",
    "k = 11\n",
    "kmeans = c.KMeans(init = 'random', n_clusters = k, n_init = 10, max_iter = 300, random_state = 42)\n",
    "\n",
    "# model training\n",
    "kmeans.fit(X)\n",
    "\n",
    "# clustering\n",
    "# labels = kmeans.predict(X)\n",
    "labels = kmeans.labels_\n"
   ]
  },
  {
   "cell_type": "markdown",
   "id": "4515d2be",
   "metadata": {},
   "source": [
    "## Cluster Validation"
   ]
  },
  {
   "cell_type": "code",
   "execution_count": null,
   "id": "208f75ed",
   "metadata": {
    "ExecuteTime": {
     "end_time": "2022-11-11T17:12:44.202168Z",
     "start_time": "2022-11-11T17:07:41.845Z"
    }
   },
   "outputs": [],
   "source": [
    "# from sklearn import metrics as m"
   ]
  },
  {
   "cell_type": "code",
   "execution_count": null,
   "id": "6b5ec872",
   "metadata": {
    "ExecuteTime": {
     "end_time": "2022-11-11T17:12:44.204166Z",
     "start_time": "2022-11-11T17:07:41.851Z"
    }
   },
   "outputs": [],
   "source": [
    "# WSS (Whithin Cluster Sum of Squares)\n",
    "print( f'WSS Value: {kmeans.inertia_}')\n",
    "\n",
    "# SS ( Silhouette Score)\n",
    "print(f'SS Value: {m.silhouette_score(X, labels, metric = \"euclidean\")}')"
   ]
  },
  {
   "cell_type": "markdown",
   "id": "fc3bc842",
   "metadata": {},
   "source": [
    "# Cluster Analysis"
   ]
  },
  {
   "cell_type": "markdown",
   "id": "4f62e2f8",
   "metadata": {},
   "source": [
    "## Visual Inspection"
   ]
  },
  {
   "cell_type": "code",
   "execution_count": null,
   "id": "642a0c2e",
   "metadata": {
    "ExecuteTime": {
     "end_time": "2022-11-11T17:12:44.206166Z",
     "start_time": "2022-11-11T17:07:41.865Z"
    },
    "scrolled": false
   },
   "outputs": [],
   "source": [
    "# df9 = df6.copy()\n",
    "df9 = X.copy()\n",
    "df9['cluster'] = labels\n",
    "df9.head()"
   ]
  },
  {
   "cell_type": "code",
   "execution_count": null,
   "id": "f731884a",
   "metadata": {
    "ExecuteTime": {
     "end_time": "2022-11-11T17:12:44.208164Z",
     "start_time": "2022-11-11T17:07:41.872Z"
    }
   },
   "outputs": [],
   "source": [
    "sns.scatterplot( x = 'embedding_x', y = 'embedding_y', data = df9, hue = 'cluster', palette = 'deep')"
   ]
  },
  {
   "cell_type": "markdown",
   "id": "e3076dba",
   "metadata": {},
   "source": [
    "### Multi-Feature"
   ]
  },
  {
   "cell_type": "code",
   "execution_count": null,
   "id": "2f0926e6",
   "metadata": {
    "ExecuteTime": {
     "end_time": "2022-11-11T17:12:44.209164Z",
     "start_time": "2022-11-11T17:07:41.881Z"
    },
    "scrolled": false
   },
   "outputs": [],
   "source": [
    "visualizer = SilhouetteVisualizer(kmeans, colors = 'yellowbrick')\n",
    "visualizer.fit(X)\n",
    "visualizer.finalize()"
   ]
  },
  {
   "cell_type": "markdown",
   "id": "eefd8b6d",
   "metadata": {},
   "source": [
    "### 2d plot"
   ]
  },
  {
   "cell_type": "code",
   "execution_count": null,
   "id": "b40aef70",
   "metadata": {
    "ExecuteTime": {
     "end_time": "2022-11-11T17:12:44.210164Z",
     "start_time": "2022-11-11T17:07:41.892Z"
    }
   },
   "outputs": [],
   "source": [
    "df9.columns"
   ]
  },
  {
   "cell_type": "code",
   "execution_count": null,
   "id": "3ad01cd5",
   "metadata": {
    "ExecuteTime": {
     "end_time": "2022-11-11T17:12:44.212163Z",
     "start_time": "2022-11-11T17:07:41.899Z"
    },
    "scrolled": false
   },
   "outputs": [],
   "source": [
    "# df_viz = df9.drop(columns = 'customer_id', axis = 1)\n",
    "# sns.pairplot(df_viz, hue = 'cluster')"
   ]
  },
  {
   "cell_type": "markdown",
   "id": "4224ea5d",
   "metadata": {},
   "source": [
    "### UMAP - t-SNE"
   ]
  },
  {
   "cell_type": "code",
   "execution_count": null,
   "id": "964fc523",
   "metadata": {
    "ExecuteTime": {
     "end_time": "2022-11-11T17:12:44.213162Z",
     "start_time": "2022-11-11T17:07:41.910Z"
    }
   },
   "outputs": [],
   "source": [
    "# Manifold\n",
    "# UMAP, t-SNE(2009) - MAnifold - Topology\n"
   ]
  },
  {
   "cell_type": "code",
   "execution_count": null,
   "id": "bd8c0dde",
   "metadata": {
    "ExecuteTime": {
     "end_time": "2022-11-11T17:12:44.215174Z",
     "start_time": "2022-11-11T17:07:41.918Z"
    }
   },
   "outputs": [],
   "source": [
    "# # UMAP\n",
    "# reducer = umap.UMAP(n_neighbors = 9, random_state = 42)\n",
    "# reducer = umap.UMAP(random_state = 42)\n",
    "# embedding = reducer.fit_transform(X)\n",
    "\n",
    "# # embedding\n",
    "# df_viz['embedding_x'] = embedding[:,0]\n",
    "# df_viz['embedding_y'] = embedding[:,1]\n",
    "\n",
    "# #plotting umap\n",
    "# sns.scatterplot( x = 'embedding_x', y = 'embedding_y', \n",
    "#                 hue = 'cluster', \n",
    "#                 palette = sns.color_palette('hls', n_colors = len( df_viz['cluster'].unique() ) ), data = df_viz )"
   ]
  },
  {
   "cell_type": "markdown",
   "id": "f99b77ea",
   "metadata": {},
   "source": [
    "## Cluster Profile\n"
   ]
  },
  {
   "cell_type": "code",
   "execution_count": null,
   "id": "4f566323",
   "metadata": {
    "ExecuteTime": {
     "end_time": "2022-11-11T17:12:44.217162Z",
     "start_time": "2022-11-11T17:07:41.929Z"
    }
   },
   "outputs": [],
   "source": [
    "df9.head()"
   ]
  },
  {
   "cell_type": "code",
   "execution_count": null,
   "id": "2e32360e",
   "metadata": {
    "ExecuteTime": {
     "end_time": "2022-11-11T17:12:44.218162Z",
     "start_time": "2022-11-11T17:07:41.936Z"
    }
   },
   "outputs": [],
   "source": [
    "df4.gross_revenue.sum()"
   ]
  },
  {
   "cell_type": "code",
   "execution_count": null,
   "id": "ce012e46",
   "metadata": {
    "ExecuteTime": {
     "end_time": "2022-11-11T17:12:44.220161Z",
     "start_time": "2022-11-11T17:07:41.946Z"
    },
    "scrolled": true
   },
   "outputs": [],
   "source": [
    "\n",
    "df9_aux = df4.copy()\n",
    "df9_aux['cluster'] = labels\n",
    "\n",
    "# Number of Customers\n",
    "df_cluster = (df9_aux[['customer_id', 'cluster']].groupby('cluster').count().reset_index())\n",
    "df_cluster['perc_customer'] = 100 * (df_cluster['customer_id'] / df_cluster['customer_id'].sum())\n",
    "\n",
    "# Centroids - the group mean. \n",
    "\n",
    "# Avg Gross Revenue\n",
    "df_avg_gross_revenue = (df9_aux[['gross_revenue', 'cluster']].groupby('cluster').mean().reset_index())\n",
    "df_cluster = pd.merge(df_cluster, df_avg_gross_revenue, on = 'cluster', how = 'left')\n",
    "\n",
    "# Avg recency days\n",
    "df_avg_recency_days = (df9_aux[['recency_days', 'cluster']].groupby('cluster').mean().reset_index())\n",
    "df_cluster = pd.merge(df_cluster, df_avg_recency_days, on = 'cluster', how = 'left')\n",
    "\n",
    "# Avg invoices number\n",
    "df_inv = (df9_aux[['n_of_dif_products', 'cluster']].groupby('cluster').mean().reset_index())\n",
    "df_cluster = pd.merge(df_cluster, df_inv, on = 'cluster', how = 'left')\n",
    "\n",
    "# Frequency\n",
    "df_fre = (df9_aux[['frequency', 'cluster']].groupby('cluster').mean().reset_index())\n",
    "df_cluster = pd.merge(df_cluster, df_fre, on = 'cluster', how = 'left')\n",
    "\n",
    "# Returns\n",
    "df_ret = (df9_aux[['qtt_returns', 'cluster']].groupby('cluster').mean().reset_index())\n",
    "df_cluster = pd.merge(df_cluster, df_ret, on = 'cluster', how = 'left')\n",
    "\n",
    "df_cluster\n"
   ]
  },
  {
   "cell_type": "markdown",
   "id": "8d35a40d",
   "metadata": {
    "ExecuteTime": {
     "end_time": "2022-09-28T16:52:54.582984Z",
     "start_time": "2022-09-28T16:52:54.562993Z"
    }
   },
   "source": [
    "X -> Insiders,\n",
    "\n",
    "X -> Needs to improve frequency\n",
    "\n",
    "X -> ...."
   ]
  },
  {
   "cell_type": "code",
   "execution_count": null,
   "id": "de8a3fb0",
   "metadata": {
    "ExecuteTime": {
     "end_time": "2022-11-11T17:12:44.222160Z",
     "start_time": "2022-11-11T17:07:41.957Z"
    }
   },
   "outputs": [],
   "source": [
    "df_cluster['frequency_min_max'] = mm.fit_transform(df_cluster[['frequency']])\n",
    "df_cluster['recency_min_max'] = mm.fit_transform(df_cluster[['recency_days']])\n",
    "df_cluster['recency_min_max'] = 1 - df_cluster['recency_min_max']\n",
    "df_cluster['bubble'] = df_cluster.gross_revenue // 10\n",
    "df_cluster.loc[3, 'bubble'] = 1400.0"
   ]
  },
  {
   "cell_type": "code",
   "execution_count": null,
   "id": "9122740a",
   "metadata": {
    "ExecuteTime": {
     "end_time": "2022-11-11T17:12:44.223160Z",
     "start_time": "2022-11-11T17:07:41.966Z"
    }
   },
   "outputs": [],
   "source": [
    "df_cluster.sort_values('gross_revenue', ascending = False)\n",
    "df_cluster['gross_revenue_log'] = np.log10(df_cluster['gross_revenue'])"
   ]
  },
  {
   "cell_type": "code",
   "execution_count": null,
   "id": "aab1892b",
   "metadata": {
    "ExecuteTime": {
     "end_time": "2022-11-11T17:12:44.225159Z",
     "start_time": "2022-11-11T17:07:41.975Z"
    },
    "scrolled": false
   },
   "outputs": [],
   "source": [
    "sns.scatterplot( x = 'recency_min_max', y = 'frequency_min_max', data = df_cluster, hue = 'cluster', palette = 'deep', size = 'gross_revenue_log', sizes = (100,1500) )"
   ]
  },
  {
   "cell_type": "code",
   "execution_count": null,
   "id": "3a02c5a7",
   "metadata": {
    "ExecuteTime": {
     "end_time": "2022-11-11T17:12:44.228158Z",
     "start_time": "2022-11-11T17:07:41.983Z"
    }
   },
   "outputs": [],
   "source": [
    "cluster_names = {\n",
    "    3 : 'Champion - Insiders',\n",
    "    7 : 'Loyal Customers',\n",
    "    5 : 'Promising recent 1',\n",
    "    4 : 'Promising recent 2',\n",
    "    6 : 'Promising 3',\n",
    "    9 : 'Attention needed - about to sleep',\n",
    "    0 : 'Attention needed 1',\n",
    "    10 :'Attention needed 2',\n",
    "    1 : 'Hybernating 1',\n",
    "    2 : 'Hybernating 2',\n",
    "    8 : 'About to lose'}\n",
    "df_cluster['cluster_name'] = df_cluster['cluster'].map(cluster_names)"
   ]
  },
  {
   "cell_type": "code",
   "execution_count": null,
   "id": "3a39e75d",
   "metadata": {
    "ExecuteTime": {
     "end_time": "2022-11-11T17:12:44.229158Z",
     "start_time": "2022-11-11T17:07:41.993Z"
    }
   },
   "outputs": [],
   "source": [
    "df_cluster"
   ]
  },
  {
   "cell_type": "markdown",
   "id": "bf4a9e60",
   "metadata": {},
   "source": [
    "### Cluster Synthesis"
   ]
  },
  {
   "cell_type": "code",
   "execution_count": null,
   "id": "97a3c82f",
   "metadata": {
    "ExecuteTime": {
     "end_time": "2022-11-11T17:12:44.231157Z",
     "start_time": "2022-11-11T17:07:42.003Z"
    }
   },
   "outputs": [],
   "source": [
    "# df_cluster.columns"
   ]
  },
  {
   "cell_type": "code",
   "execution_count": null,
   "id": "1cb19d22",
   "metadata": {
    "ExecuteTime": {
     "end_time": "2022-11-11T17:12:44.232157Z",
     "start_time": "2022-11-11T17:07:42.011Z"
    }
   },
   "outputs": [],
   "source": [
    "df_cluster.columns = ['cluster', 'number_of_customers', 'perc_customer', 'gross_revenue',\n",
    "       'recency_days', 'n_of_dif_products', 'frequency', 'qtt_returns',\n",
    "       'frequency_min_max', 'recency_min_max', 'aux_bubble', 'gross_revenue_log','cluster_name'\n",
    "       ]"
   ]
  },
  {
   "cell_type": "code",
   "execution_count": null,
   "id": "61302d70",
   "metadata": {
    "ExecuteTime": {
     "end_time": "2022-11-11T17:12:44.234156Z",
     "start_time": "2022-11-11T17:07:42.022Z"
    }
   },
   "outputs": [],
   "source": [
    "df_cluster_rep = df_cluster.sort_values('cluster').reset_index(drop = True)\n",
    "\n",
    "for i in range(len(np.unique(df_cluster_rep['cluster']))):\n",
    "    print('Cluster {}: \"{}\"'.format(df_cluster_rep.loc[i, 'cluster'], df_cluster_rep.loc[i, 'cluster_name']))\n",
    "    print(' - Number of customers {} ({:,.2f} % of total)'.format(df_cluster_rep.loc[i, 'number_of_customers'], df_cluster_rep.loc[i, 'perc_customer']) )\n",
    "    print(' - Average amount spent in total ${:,.2f} '.format(df_cluster_rep.loc[i, 'gross_revenue']) )\n",
    "    print(' - Average Recency (days) {:,.2f} \\n'.format(df_cluster_rep.loc[i, 'recency_days']) )"
   ]
  },
  {
   "cell_type": "markdown",
   "id": "140484ca",
   "metadata": {},
   "source": [
    "## Hypothesis Testing"
   ]
  },
  {
   "cell_type": "markdown",
   "id": "08f6ce6c",
   "metadata": {
    "ExecuteTime": {
     "end_time": "2022-09-26T10:07:08.837657Z",
     "start_time": "2022-09-26T10:07:08.827664Z"
    }
   },
   "source": [
    "### MindMap"
   ]
  },
  {
   "cell_type": "code",
   "execution_count": null,
   "id": "26091be1",
   "metadata": {
    "ExecuteTime": {
     "end_time": "2022-11-11T17:12:44.236156Z",
     "start_time": "2022-11-11T17:07:42.036Z"
    }
   },
   "outputs": [],
   "source": [
    "df10 = df9_aux.copy()\n",
    "df10['cluster_name'] = df10['cluster'].map(cluster_names)\n",
    "# df10.sample(8)"
   ]
  },
  {
   "cell_type": "markdown",
   "id": "7a4656ac",
   "metadata": {},
   "source": [
    "- Modeling the phenomena.\n",
    "- Understanding entities (customer, location, family, income)\n",
    "- Entity properties (eg. customer: income, education, age group, etc)\n"
   ]
  },
  {
   "cell_type": "code",
   "execution_count": null,
   "id": "a593cddb",
   "metadata": {
    "ExecuteTime": {
     "end_time": "2022-11-11T17:12:44.237155Z",
     "start_time": "2022-11-11T17:07:42.047Z"
    },
    "scrolled": false
   },
   "outputs": [],
   "source": [
    "from IPython.core.display import Image\n",
    "Image('./mindmap.png')"
   ]
  },
  {
   "cell_type": "markdown",
   "id": "73a9fea0",
   "metadata": {
    "ExecuteTime": {
     "end_time": "2022-09-26T10:13:58.343330Z",
     "start_time": "2022-09-26T10:13:58.325323Z"
    }
   },
   "source": [
    "### Hypothesis Purchases: "
   ]
  },
  {
   "cell_type": "markdown",
   "id": "2d06abc1",
   "metadata": {},
   "source": [
    "#### Insiders cluster customers represent more than 20% of total revenue."
   ]
  },
  {
   "cell_type": "code",
   "execution_count": null,
   "id": "e52c9a8a",
   "metadata": {
    "ExecuteTime": {
     "end_time": "2022-11-11T17:12:44.239155Z",
     "start_time": "2022-11-11T17:07:42.059Z"
    }
   },
   "outputs": [],
   "source": [
    "insiders = df10.loc[df10['cluster'] == 3, 'gross_revenue'].sum()\n",
    "# df_sales_not_insiders = df10.loc[df10['cluster'] == 3, 'item_ammt'].median()\n",
    "total =df10.loc[:, 'gross_revenue'].sum()\n",
    "print ( 'insiders / total: {:.2f}%'.format(insiders / total * 100) )"
   ]
  },
  {
   "cell_type": "markdown",
   "id": "8344f886",
   "metadata": {},
   "source": [
    "TRUE. Insiders represent more than 30% of gross revenue"
   ]
  },
  {
   "cell_type": "markdown",
   "id": "5256dc8a",
   "metadata": {
    "ExecuteTime": {
     "end_time": "2022-09-29T11:52:32.660272Z",
     "start_time": "2022-09-29T11:52:32.654275Z"
    }
   },
   "source": [
    "####  Customers in the Insiders cluster have a number of returns below the average of the total customer base.\n"
   ]
  },
  {
   "cell_type": "code",
   "execution_count": null,
   "id": "89e03924",
   "metadata": {
    "ExecuteTime": {
     "end_time": "2022-11-11T17:12:44.240154Z",
     "start_time": "2022-11-11T17:07:42.072Z"
    }
   },
   "outputs": [],
   "source": [
    "# avg returns inside\n",
    "df_avg_return_insiders = df10.loc[df10['cluster'] == 3, 'qtt_returns'].mean()\n",
    "\n",
    "# avg return total\n",
    "df_avg_return_all = df10['qtt_returns'].mean()\n",
    "\n",
    "#\n",
    "print( 'Avg Return Insiders: {} vs Avg Return All:{}'.format( np.round( df_avg_return_insiders, 0 ), \n",
    "                                                              np.round( df_avg_return_all, 0 ) ) )"
   ]
  },
  {
   "cell_type": "markdown",
   "id": "bfcb66c8",
   "metadata": {},
   "source": [
    "FALSE. Average return for insiders are higher."
   ]
  },
  {
   "cell_type": "markdown",
   "id": "a577864a",
   "metadata": {
    "ExecuteTime": {
     "end_time": "2022-09-29T12:10:44.311201Z",
     "start_time": "2022-09-29T12:10:44.307216Z"
    }
   },
   "source": [
    "#### Cheaper products are more transactioned than expensive ones."
   ]
  },
  {
   "cell_type": "code",
   "execution_count": null,
   "id": "a0b232ef",
   "metadata": {
    "ExecuteTime": {
     "end_time": "2022-11-11T17:12:44.242154Z",
     "start_time": "2022-11-11T17:07:42.089Z"
    }
   },
   "outputs": [],
   "source": [
    "\n",
    "\n",
    "bins = list(range(0,1100,100))\n",
    "df2['binned_price'] = pd.cut(df2['unit_price'], bins=bins)\n",
    "\n",
    "aux2 = df2[['unit_price','binned_price']].groupby('binned_price').count().reset_index()\n",
    "# plt.subplot(1,3,2)\n",
    "# sns.barplot(x = 'binned_price', y = 'unit_price', data = aux2)\n",
    "aux2.columns = ['binned_price', 'transactions_ammt']\n",
    "aux2"
   ]
  },
  {
   "cell_type": "markdown",
   "id": "6570ddb1",
   "metadata": {},
   "source": [
    "TRUE. Most of transactions comprehend products up to 100 euros."
   ]
  },
  {
   "cell_type": "markdown",
   "id": "e679456a",
   "metadata": {},
   "source": [
    "#### Customers in the Insiders program account for more than 30% of company gross revenue."
   ]
  },
  {
   "cell_type": "code",
   "execution_count": null,
   "id": "9349d106",
   "metadata": {
    "ExecuteTime": {
     "end_time": "2022-11-11T17:12:44.244153Z",
     "start_time": "2022-11-11T17:07:42.103Z"
    },
    "scrolled": true
   },
   "outputs": [],
   "source": [
    "# defining dataset with cluster names\n",
    "# names = {\"4\" : \"Insiders\", \"1\" : \"Potential Loyalists\", \"0\" : \"Loyal Customers\", \"2\" : \"Promissing 1\", \"8\" : \"Need Attention 1\", \"6\" : \"Promising 2\", \"7\" : \"Need Attention 2\", \"5\" : \"Hibernating 1\", \"10\" : \"Churn 1\", \"3\" : \"Price Sensitive\", \"9\" : \"Churn 2\", \"11\" : \"Hibernating 2\", \"-1\" : 'Noise' }\n",
    "\n",
    "\n",
    "# summing revenue by cluster\n",
    "df_agg = df10[['cluster', 'gross_revenue']].copy()\n",
    "df_agg = df_agg.groupby('cluster').sum().reset_index()\n",
    "df_agg['cluster_name'] = df_agg['cluster'].map(cluster_names)\n",
    "# df_agg"
   ]
  },
  {
   "cell_type": "code",
   "execution_count": null,
   "id": "689dacfe",
   "metadata": {
    "ExecuteTime": {
     "end_time": "2022-11-11T17:12:44.245153Z",
     "start_time": "2022-11-11T17:07:42.111Z"
    },
    "scrolled": false
   },
   "outputs": [],
   "source": [
    "# ploting the results\n",
    "bar = sns.barplot(data = df_agg, x = 'cluster_name', y = 'gross_revenue', palette = 'husl'); \n",
    "plt.title(\"Gross Revenue and % of customers in each group\", fontsize = 22);\n",
    "#plt.figtext(0.5,0, 'he')\n",
    "bar_order = list(df_agg['cluster_name'].unique())\n",
    "spots = zip(bar.patches, bar_order)\n",
    "for spot in spots:\n",
    "    total = df_agg['gross_revenue'].sum()\n",
    "    class_total = df_agg[df_agg['cluster_name'] == spot[1]]['gross_revenue']\n",
    "    \n",
    "    percent = float(class_total/total*100)\n",
    "\n",
    "    height = spot[0].get_height()\n",
    "    bar.text(spot[0].get_x()+0.3, height+5, '{:.2f}%'.format(percent), fontsize = 14 )\n"
   ]
  },
  {
   "cell_type": "markdown",
   "id": "09376042",
   "metadata": {},
   "source": [
    "TRUE. They account for almost 31,79%."
   ]
  },
  {
   "cell_type": "markdown",
   "id": "4f41c111",
   "metadata": {
    "ExecuteTime": {
     "end_time": "2022-09-29T12:12:32.112034Z",
     "start_time": "2022-09-29T12:12:32.099039Z"
    }
   },
   "source": [
    "### Business questions"
   ]
  },
  {
   "cell_type": "markdown",
   "id": "c926ffb3",
   "metadata": {},
   "source": [
    "#### Who are the people elegible for the Insiders program?"
   ]
  },
  {
   "cell_type": "code",
   "execution_count": null,
   "id": "37c7034c",
   "metadata": {
    "ExecuteTime": {
     "end_time": "2022-11-11T17:12:44.247152Z",
     "start_time": "2022-11-11T17:07:42.127Z"
    }
   },
   "outputs": [],
   "source": [
    "insiders_id = list(df10.loc[df10['cluster'] == 3, 'customer_id'])\n",
    "print(insiders_id)"
   ]
  },
  {
   "cell_type": "markdown",
   "id": "15e24488",
   "metadata": {},
   "source": [
    "#### How many people are part of this group?"
   ]
  },
  {
   "cell_type": "code",
   "execution_count": null,
   "id": "a277b06c",
   "metadata": {
    "ExecuteTime": {
     "end_time": "2022-11-11T17:12:44.249152Z",
     "start_time": "2022-11-11T17:07:42.138Z"
    }
   },
   "outputs": [],
   "source": [
    "print(df10.loc[df10['cluster'] == 3, 'customer_id'].size)"
   ]
  },
  {
   "cell_type": "code",
   "execution_count": null,
   "id": "9e2a4b44",
   "metadata": {
    "ExecuteTime": {
     "end_time": "2022-11-11T17:12:44.251151Z",
     "start_time": "2022-11-11T17:07:42.149Z"
    }
   },
   "outputs": [],
   "source": [
    "df10.columns"
   ]
  },
  {
   "cell_type": "markdown",
   "id": "7f550067",
   "metadata": {},
   "source": [
    "#### What are the main characteristics of the insiders group?"
   ]
  },
  {
   "cell_type": "code",
   "execution_count": null,
   "id": "d20f16e2",
   "metadata": {
    "ExecuteTime": {
     "end_time": "2022-11-11T17:12:44.252151Z",
     "start_time": "2022-11-11T17:07:42.165Z"
    }
   },
   "outputs": [],
   "source": [
    "print(f\"Total Number of Insiders: {len(df10.loc[df10['cluster'] == 3, 'customer_id'])} out of {len(df10['customer_id'])}\")\n",
    "print(f\"Average Gross Revenue Insiders: {df10.loc[df10['cluster'] == 3, 'gross_revenue'].mean():.2f}, Overall: {df10['gross_revenue'].mean():.2f}\")\n",
    "print(f\"Median Gross Revenue Insiders: {df10.loc[df10['cluster'] == 3, 'gross_revenue'].median():.2f}, Overall: {df10['gross_revenue'].median():.2f}\")\n",
    "print(f\"Average Recency Insiders: {df10.loc[df10['cluster'] == 3, 'recency_days'].mean():.2f}, Overall: {df10['recency_days'].mean():.2f}\")\n",
    "print(f\"Average Frequency Insiders: {df10.loc[df10['cluster'] == 3, 'frequency'].mean():.2f}, Overall: {df10['frequency'].mean():.2f}\")\n",
    "print(f\"Average different products purchased Insiders: {df10.loc[df10['cluster'] == 3, 'avg_basket_size'].mean():.2f}, Overall: {df10['avg_basket_size'].mean():.2f}\")\n"
   ]
  },
  {
   "cell_type": "code",
   "execution_count": null,
   "id": "ff47114d",
   "metadata": {
    "ExecuteTime": {
     "end_time": "2022-11-11T17:12:44.254150Z",
     "start_time": "2022-11-11T17:07:42.175Z"
    }
   },
   "outputs": [],
   "source": [
    "# Break here"
   ]
  },
  {
   "cell_type": "markdown",
   "id": "2e821b89",
   "metadata": {
    "ExecuteTime": {
     "end_time": "2022-08-28T12:00:27.590402Z",
     "start_time": "2022-08-28T12:00:27.582403Z"
    }
   },
   "source": [
    "# Deploy to production"
   ]
  },
  {
   "cell_type": "code",
   "execution_count": null,
   "id": "cbd2c0c9",
   "metadata": {
    "ExecuteTime": {
     "end_time": "2022-11-11T17:12:44.256149Z",
     "start_time": "2022-11-11T17:07:42.187Z"
    }
   },
   "outputs": [],
   "source": [
    "\n",
    "# from sqlalchemy import create_engine\n",
    "\n",
    "# host = \n",
    "# port = 5432\n",
    "# database ='postgres'\n",
    "# user = 'postgres'\n",
    "# pwd = \n",
    "# endpoint = f'postgresql://{user}:{pwd}@{host}:{port}'\n",
    "\n",
    "# conn = create_engine(endpoint)\n",
    "\n"
   ]
  },
  {
   "cell_type": "code",
   "execution_count": null,
   "id": "1d117c80",
   "metadata": {
    "ExecuteTime": {
     "end_time": "2022-11-11T17:12:44.257149Z",
     "start_time": "2022-11-11T17:07:42.195Z"
    }
   },
   "outputs": [],
   "source": [
    "# query_table_df10_creation = '''\n",
    "#     CREATE TABLE df_10_insiders (\n",
    "#         customer_id            INTEGER,\n",
    "#         gross_revenue          REAL,\n",
    "#         recency_days           INTEGER,\n",
    "#         invoice_ammt           INTEGER,\n",
    "#         item_ammt              INTEGER,\n",
    "#         n_of_dif_products      INTEGER,\n",
    "#         avg_ticket             REAL,\n",
    "#         avg_recency_days       REAL,\n",
    "#         frequency              REAL,\n",
    "#         qtt_returns            INTEGER,\n",
    "#         avg_basket_size        REAL,\n",
    "#         avg_unique_basket_size REAL,\n",
    "#         cluster                INTEGER,\n",
    "#         cluster_name           TEXT\n",
    "#     )\n",
    "#     '''\n",
    "\n",
    "# query_table_df_cluster_creation = '''\n",
    "#     CREATE TABLE df_cluster (\n",
    "#         cluster                INTEGER,\n",
    "#         number_of_customers    INTEGER,\n",
    "#         perc_customer          REAL,\n",
    "#         gross_revenue          REAL,\n",
    "#         recency_days           REAL,\n",
    "#         n_of_dif_products      REAL,\n",
    "#         frequency              REAL,\n",
    "#         qtt_returns            REAL,\n",
    "#         frequency_min_max      REAL,\n",
    "#         recency_min_max        REAL,\n",
    "#         aux_bubble             REAL,\n",
    "#         gross_revenue_log      REAL,\n",
    "#         cluster_name           TEXT\n",
    "#     )\n",
    "#     '''\n",
    "        \n",
    "\n",
    "# conn.execute(query_table_df10_creation)\n",
    "# conn.execute(query_table_df_cluster_creation)\n"
   ]
  },
  {
   "cell_type": "code",
   "execution_count": null,
   "id": "ea25d09b",
   "metadata": {
    "ExecuteTime": {
     "end_time": "2022-11-11T17:12:44.259148Z",
     "start_time": "2022-11-11T17:07:42.204Z"
    }
   },
   "outputs": [],
   "source": [
    "# df10.to_sql( 'df_10_insiders', con=conn, if_exists='append', index=False )\n",
    "\n",
    "# df_cluster.to_sql( 'df_cluster', con=conn, if_exists='append', index=False )"
   ]
  },
  {
   "cell_type": "code",
   "execution_count": null,
   "id": "05a68201",
   "metadata": {
    "ExecuteTime": {
     "end_time": "2022-11-11T17:12:44.260148Z",
     "start_time": "2022-11-11T17:07:42.212Z"
    }
   },
   "outputs": [],
   "source": [
    "conn.close()"
   ]
  }
 ],
 "metadata": {
  "hide_input": false,
  "kernelspec": {
   "display_name": "Python 3",
   "language": "python",
   "name": "python3"
  },
  "language_info": {
   "codemirror_mode": {
    "name": "ipython",
    "version": 3
   },
   "file_extension": ".py",
   "mimetype": "text/x-python",
   "name": "python",
   "nbconvert_exporter": "python",
   "pygments_lexer": "ipython3",
   "version": "3.8.8"
  },
  "toc": {
   "base_numbering": 1,
   "nav_menu": {
    "height": "721px",
    "width": "332px"
   },
   "number_sections": true,
   "sideBar": false,
   "skip_h1_title": false,
   "title_cell": "Table of Contents",
   "title_sidebar": "Contents",
   "toc_cell": false,
   "toc_position": {
    "height": "747px",
    "left": "56px",
    "top": "111.133px",
    "width": "384px"
   },
   "toc_section_display": true,
   "toc_window_display": false
  }
 },
 "nbformat": 4,
 "nbformat_minor": 5
}
